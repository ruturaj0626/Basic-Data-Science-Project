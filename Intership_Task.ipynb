{
  "nbformat": 4,
  "nbformat_minor": 0,
  "metadata": {
    "colab": {
      "provenance": [],
      "authorship_tag": "ABX9TyMvWUy8brblaASBGvCorYZ3",
      "include_colab_link": true
    },
    "kernelspec": {
      "name": "python3",
      "display_name": "Python 3"
    },
    "language_info": {
      "name": "python"
    },
    "accelerator": "GPU",
    "gpuClass": "standard"
  },
  "cells": [
    {
      "cell_type": "markdown",
      "metadata": {
        "id": "view-in-github",
        "colab_type": "text"
      },
      "source": [
        "<a href=\"https://colab.research.google.com/github/ruturaj0626/Data_Science_Project/blob/main/Intership_Task.ipynb\" target=\"_parent\"><img src=\"https://colab.research.google.com/assets/colab-badge.svg\" alt=\"Open In Colab\"/></a>"
      ]
    },
    {
      "cell_type": "markdown",
      "source": [
        "#**1.Introduction**\n",
        "\n",
        "This case requires trainees to develop a model for predicting fraudulent transactions for a\n",
        "financial company and use insights from the model to develop an actionable plan. Data for the\n",
        "case is available in CSV format having 6362620 rows and 10 columns.\n",
        "Candidates can use whatever method they wish to develop their machine learning model.\n",
        "Following usual model development procedures, the model would be estimated on the\n",
        "calibration data and tested on the validation data. This case requires both statistical analysis and\n",
        "creativity/judgment. We recommend you spend time on both fine-tuning and interpreting the\n",
        "results of your machine learning model."
      ],
      "metadata": {
        "id": "ipWRGq0ITEbl"
      }
    },
    {
      "cell_type": "markdown",
      "source": [
        "#**2. Method**\n",
        "\n",
        "\n",
        "The analysis follows the steps as below.\n",
        "\n",
        "1. Review the data structure and clean it if it is necessary.\n",
        "2. Proceeding Exploratory Data Analysis to review the customer churn situation.\n",
        "3. Classify and predict the Fraud \n",
        "4. Use Algorithm methods to predict and evaluate the performance.\n",
        "5. Use HyperParameters over models to predict and review the outputs."
      ],
      "metadata": {
        "id": "iEH5_9pxTXJM"
      }
    },
    {
      "cell_type": "markdown",
      "source": [
        "#**3.EDA**"
      ],
      "metadata": {
        "id": "hFYNnEgDTbzR"
      }
    },
    {
      "cell_type": "code",
      "execution_count": null,
      "metadata": {
        "id": "jzEY9e1S5ENI"
      },
      "outputs": [],
      "source": [
        "import pandas as pd\n",
        "import numpy as np\n",
        "import matplotlib.pyplot as plt\n",
        "import seaborn as sns\n",
        "\n",
        "df = pd.read_csv('Fraud.csv')"
      ]
    },
    {
      "cell_type": "code",
      "source": [
        "df.head()"
      ],
      "metadata": {
        "colab": {
          "base_uri": "https://localhost:8080/",
          "height": 206
        },
        "id": "qcWCVNUU5rIO",
        "outputId": "7c564dab-e363-498a-dce6-97ae32c6a09e"
      },
      "execution_count": null,
      "outputs": [
        {
          "output_type": "execute_result",
          "data": {
            "text/plain": [
              "   step      type    amount     nameOrig  oldbalanceOrg  newbalanceOrig  \\\n",
              "0     1   PAYMENT   9839.64  C1231006815       170136.0       160296.36   \n",
              "1     1   PAYMENT   1864.28  C1666544295        21249.0        19384.72   \n",
              "2     1  TRANSFER    181.00  C1305486145          181.0            0.00   \n",
              "3     1  CASH_OUT    181.00   C840083671          181.0            0.00   \n",
              "4     1   PAYMENT  11668.14  C2048537720        41554.0        29885.86   \n",
              "\n",
              "      nameDest  oldbalanceDest  newbalanceDest  isFraud  isFlaggedFraud  \n",
              "0  M1979787155             0.0             0.0      0.0             0.0  \n",
              "1  M2044282225             0.0             0.0      0.0             0.0  \n",
              "2   C553264065             0.0             0.0      1.0             0.0  \n",
              "3    C38997010         21182.0             0.0      1.0             0.0  \n",
              "4  M1230701703             0.0             0.0      0.0             0.0  "
            ],
            "text/html": [
              "\n",
              "  <div id=\"df-ed25865f-0c5b-4fe8-a5e1-de9a66b7c914\">\n",
              "    <div class=\"colab-df-container\">\n",
              "      <div>\n",
              "<style scoped>\n",
              "    .dataframe tbody tr th:only-of-type {\n",
              "        vertical-align: middle;\n",
              "    }\n",
              "\n",
              "    .dataframe tbody tr th {\n",
              "        vertical-align: top;\n",
              "    }\n",
              "\n",
              "    .dataframe thead th {\n",
              "        text-align: right;\n",
              "    }\n",
              "</style>\n",
              "<table border=\"1\" class=\"dataframe\">\n",
              "  <thead>\n",
              "    <tr style=\"text-align: right;\">\n",
              "      <th></th>\n",
              "      <th>step</th>\n",
              "      <th>type</th>\n",
              "      <th>amount</th>\n",
              "      <th>nameOrig</th>\n",
              "      <th>oldbalanceOrg</th>\n",
              "      <th>newbalanceOrig</th>\n",
              "      <th>nameDest</th>\n",
              "      <th>oldbalanceDest</th>\n",
              "      <th>newbalanceDest</th>\n",
              "      <th>isFraud</th>\n",
              "      <th>isFlaggedFraud</th>\n",
              "    </tr>\n",
              "  </thead>\n",
              "  <tbody>\n",
              "    <tr>\n",
              "      <th>0</th>\n",
              "      <td>1</td>\n",
              "      <td>PAYMENT</td>\n",
              "      <td>9839.64</td>\n",
              "      <td>C1231006815</td>\n",
              "      <td>170136.0</td>\n",
              "      <td>160296.36</td>\n",
              "      <td>M1979787155</td>\n",
              "      <td>0.0</td>\n",
              "      <td>0.0</td>\n",
              "      <td>0.0</td>\n",
              "      <td>0.0</td>\n",
              "    </tr>\n",
              "    <tr>\n",
              "      <th>1</th>\n",
              "      <td>1</td>\n",
              "      <td>PAYMENT</td>\n",
              "      <td>1864.28</td>\n",
              "      <td>C1666544295</td>\n",
              "      <td>21249.0</td>\n",
              "      <td>19384.72</td>\n",
              "      <td>M2044282225</td>\n",
              "      <td>0.0</td>\n",
              "      <td>0.0</td>\n",
              "      <td>0.0</td>\n",
              "      <td>0.0</td>\n",
              "    </tr>\n",
              "    <tr>\n",
              "      <th>2</th>\n",
              "      <td>1</td>\n",
              "      <td>TRANSFER</td>\n",
              "      <td>181.00</td>\n",
              "      <td>C1305486145</td>\n",
              "      <td>181.0</td>\n",
              "      <td>0.00</td>\n",
              "      <td>C553264065</td>\n",
              "      <td>0.0</td>\n",
              "      <td>0.0</td>\n",
              "      <td>1.0</td>\n",
              "      <td>0.0</td>\n",
              "    </tr>\n",
              "    <tr>\n",
              "      <th>3</th>\n",
              "      <td>1</td>\n",
              "      <td>CASH_OUT</td>\n",
              "      <td>181.00</td>\n",
              "      <td>C840083671</td>\n",
              "      <td>181.0</td>\n",
              "      <td>0.00</td>\n",
              "      <td>C38997010</td>\n",
              "      <td>21182.0</td>\n",
              "      <td>0.0</td>\n",
              "      <td>1.0</td>\n",
              "      <td>0.0</td>\n",
              "    </tr>\n",
              "    <tr>\n",
              "      <th>4</th>\n",
              "      <td>1</td>\n",
              "      <td>PAYMENT</td>\n",
              "      <td>11668.14</td>\n",
              "      <td>C2048537720</td>\n",
              "      <td>41554.0</td>\n",
              "      <td>29885.86</td>\n",
              "      <td>M1230701703</td>\n",
              "      <td>0.0</td>\n",
              "      <td>0.0</td>\n",
              "      <td>0.0</td>\n",
              "      <td>0.0</td>\n",
              "    </tr>\n",
              "  </tbody>\n",
              "</table>\n",
              "</div>\n",
              "      <button class=\"colab-df-convert\" onclick=\"convertToInteractive('df-ed25865f-0c5b-4fe8-a5e1-de9a66b7c914')\"\n",
              "              title=\"Convert this dataframe to an interactive table.\"\n",
              "              style=\"display:none;\">\n",
              "        \n",
              "  <svg xmlns=\"http://www.w3.org/2000/svg\" height=\"24px\"viewBox=\"0 0 24 24\"\n",
              "       width=\"24px\">\n",
              "    <path d=\"M0 0h24v24H0V0z\" fill=\"none\"/>\n",
              "    <path d=\"M18.56 5.44l.94 2.06.94-2.06 2.06-.94-2.06-.94-.94-2.06-.94 2.06-2.06.94zm-11 1L8.5 8.5l.94-2.06 2.06-.94-2.06-.94L8.5 2.5l-.94 2.06-2.06.94zm10 10l.94 2.06.94-2.06 2.06-.94-2.06-.94-.94-2.06-.94 2.06-2.06.94z\"/><path d=\"M17.41 7.96l-1.37-1.37c-.4-.4-.92-.59-1.43-.59-.52 0-1.04.2-1.43.59L10.3 9.45l-7.72 7.72c-.78.78-.78 2.05 0 2.83L4 21.41c.39.39.9.59 1.41.59.51 0 1.02-.2 1.41-.59l7.78-7.78 2.81-2.81c.8-.78.8-2.07 0-2.86zM5.41 20L4 18.59l7.72-7.72 1.47 1.35L5.41 20z\"/>\n",
              "  </svg>\n",
              "      </button>\n",
              "      \n",
              "  <style>\n",
              "    .colab-df-container {\n",
              "      display:flex;\n",
              "      flex-wrap:wrap;\n",
              "      gap: 12px;\n",
              "    }\n",
              "\n",
              "    .colab-df-convert {\n",
              "      background-color: #E8F0FE;\n",
              "      border: none;\n",
              "      border-radius: 50%;\n",
              "      cursor: pointer;\n",
              "      display: none;\n",
              "      fill: #1967D2;\n",
              "      height: 32px;\n",
              "      padding: 0 0 0 0;\n",
              "      width: 32px;\n",
              "    }\n",
              "\n",
              "    .colab-df-convert:hover {\n",
              "      background-color: #E2EBFA;\n",
              "      box-shadow: 0px 1px 2px rgba(60, 64, 67, 0.3), 0px 1px 3px 1px rgba(60, 64, 67, 0.15);\n",
              "      fill: #174EA6;\n",
              "    }\n",
              "\n",
              "    [theme=dark] .colab-df-convert {\n",
              "      background-color: #3B4455;\n",
              "      fill: #D2E3FC;\n",
              "    }\n",
              "\n",
              "    [theme=dark] .colab-df-convert:hover {\n",
              "      background-color: #434B5C;\n",
              "      box-shadow: 0px 1px 3px 1px rgba(0, 0, 0, 0.15);\n",
              "      filter: drop-shadow(0px 1px 2px rgba(0, 0, 0, 0.3));\n",
              "      fill: #FFFFFF;\n",
              "    }\n",
              "  </style>\n",
              "\n",
              "      <script>\n",
              "        const buttonEl =\n",
              "          document.querySelector('#df-ed25865f-0c5b-4fe8-a5e1-de9a66b7c914 button.colab-df-convert');\n",
              "        buttonEl.style.display =\n",
              "          google.colab.kernel.accessAllowed ? 'block' : 'none';\n",
              "\n",
              "        async function convertToInteractive(key) {\n",
              "          const element = document.querySelector('#df-ed25865f-0c5b-4fe8-a5e1-de9a66b7c914');\n",
              "          const dataTable =\n",
              "            await google.colab.kernel.invokeFunction('convertToInteractive',\n",
              "                                                     [key], {});\n",
              "          if (!dataTable) return;\n",
              "\n",
              "          const docLinkHtml = 'Like what you see? Visit the ' +\n",
              "            '<a target=\"_blank\" href=https://colab.research.google.com/notebooks/data_table.ipynb>data table notebook</a>'\n",
              "            + ' to learn more about interactive tables.';\n",
              "          element.innerHTML = '';\n",
              "          dataTable['output_type'] = 'display_data';\n",
              "          await google.colab.output.renderOutput(dataTable, element);\n",
              "          const docLink = document.createElement('div');\n",
              "          docLink.innerHTML = docLinkHtml;\n",
              "          element.appendChild(docLink);\n",
              "        }\n",
              "      </script>\n",
              "    </div>\n",
              "  </div>\n",
              "  "
            ]
          },
          "metadata": {},
          "execution_count": 2
        }
      ]
    },
    {
      "cell_type": "code",
      "source": [
        "df['isFlaggedFraud'].eq(1).sum()"
      ],
      "metadata": {
        "colab": {
          "base_uri": "https://localhost:8080/"
        },
        "id": "28_l9wQT5sQH",
        "outputId": "5036285a-516a-491a-d700-9e0f16575297"
      },
      "execution_count": null,
      "outputs": [
        {
          "output_type": "execute_result",
          "data": {
            "text/plain": [
              "0"
            ]
          },
          "metadata": {},
          "execution_count": 3
        }
      ]
    },
    {
      "cell_type": "code",
      "source": [
        "df['isFlaggedFraud'].eq(0).sum()"
      ],
      "metadata": {
        "colab": {
          "base_uri": "https://localhost:8080/"
        },
        "id": "6aZufIH659mi",
        "outputId": "4cd759ac-7242-428e-82f1-bb70ac5fdc46"
      },
      "execution_count": null,
      "outputs": [
        {
          "output_type": "execute_result",
          "data": {
            "text/plain": [
              "287567"
            ]
          },
          "metadata": {},
          "execution_count": 4
        }
      ]
    },
    {
      "cell_type": "code",
      "source": [
        "df['isFraud'].eq(1).sum()"
      ],
      "metadata": {
        "colab": {
          "base_uri": "https://localhost:8080/"
        },
        "id": "33fnyXK16A-k",
        "outputId": "8c2f2bda-9404-4ca7-cb7f-750b4cc3fddd"
      },
      "execution_count": null,
      "outputs": [
        {
          "output_type": "execute_result",
          "data": {
            "text/plain": [
              "177"
            ]
          },
          "metadata": {},
          "execution_count": 5
        }
      ]
    },
    {
      "cell_type": "code",
      "source": [
        "df.info()"
      ],
      "metadata": {
        "colab": {
          "base_uri": "https://localhost:8080/"
        },
        "id": "CnuVeBih6A7r",
        "outputId": "237d43aa-a916-4b90-93f8-72abb1069781"
      },
      "execution_count": null,
      "outputs": [
        {
          "output_type": "stream",
          "name": "stdout",
          "text": [
            "<class 'pandas.core.frame.DataFrame'>\n",
            "RangeIndex: 287568 entries, 0 to 287567\n",
            "Data columns (total 11 columns):\n",
            " #   Column          Non-Null Count   Dtype  \n",
            "---  ------          --------------   -----  \n",
            " 0   step            287568 non-null  int64  \n",
            " 1   type            287568 non-null  object \n",
            " 2   amount          287568 non-null  float64\n",
            " 3   nameOrig        287568 non-null  object \n",
            " 4   oldbalanceOrg   287568 non-null  float64\n",
            " 5   newbalanceOrig  287568 non-null  float64\n",
            " 6   nameDest        287567 non-null  object \n",
            " 7   oldbalanceDest  287567 non-null  float64\n",
            " 8   newbalanceDest  287567 non-null  float64\n",
            " 9   isFraud         287567 non-null  float64\n",
            " 10  isFlaggedFraud  287567 non-null  float64\n",
            "dtypes: float64(7), int64(1), object(3)\n",
            "memory usage: 24.1+ MB\n"
          ]
        }
      ]
    },
    {
      "cell_type": "code",
      "source": [
        "plt.figure(figsize = (10,8))\n",
        "ax=sns.heatmap(df.corr(method ='kendall'),annot=True,vmin=-1, vmax=1,cmap='Blues')"
      ],
      "metadata": {
        "colab": {
          "base_uri": "https://localhost:8080/",
          "height": 595
        },
        "id": "8f1vBDGz6A59",
        "outputId": "7e8d9bbe-346f-41cd-d6c5-7bc72e7d25e5"
      },
      "execution_count": null,
      "outputs": [
        {
          "output_type": "stream",
          "name": "stderr",
          "text": [
            "/usr/local/lib/python3.8/dist-packages/scipy/stats/stats.py:4812: RuntimeWarning: overflow encountered in long_scalars\n",
            "  (2 * xtie * ytie) / m + x0 * y0 / (9 * m * (size - 2)))\n"
          ]
        },
        {
          "output_type": "display_data",
          "data": {
            "text/plain": [
              "<Figure size 720x576 with 2 Axes>"
            ],
            "image/png": "[encoded data removed]"
          },
          "metadata": {
            "needs_background": "light"
          }
        }
      ]
    },
    {
      "cell_type": "markdown",
      "source": [
        "The above graph shows that there is a strong correlation between the variables oldbalanceOrg and newbalanceOrig, as well as between oldbalanceDest and newbalanceDest. Usually to avoid the problem of  multi-collinearity, one of these columns should be removed when we'll split the data into the independent and dependent variables i.e is x & y. However, since the number of features is already less, it may not be desirable to remove one of these columns and hence would not be considering to eliminate any of the four features."
      ],
      "metadata": {
        "id": "l9qHat0m6FS_"
      }
    },
    {
      "cell_type": "markdown",
      "source": [
        "#**4. Analyze**"
      ],
      "metadata": {
        "id": "8Ew66q9lThSU"
      }
    },
    {
      "cell_type": "markdown",
      "source": [
        "## Feature Engineering "
      ],
      "metadata": {
        "id": "hcz4nmR26Iry"
      }
    },
    {
      "cell_type": "code",
      "source": [
        "from sklearn.preprocessing import LabelEncoder\n",
        "coded = {}\n",
        "for i in df.select_dtypes('object').columns:\n",
        "    coded[i] = LabelEncoder()\n",
        "    df[i] = coded[i].fit_transform(df[i])"
      ],
      "metadata": {
        "id": "ij0HCA-J6A3S"
      },
      "execution_count": null,
      "outputs": []
    },
    {
      "cell_type": "code",
      "source": [
        "df.info()"
      ],
      "metadata": {
        "colab": {
          "base_uri": "https://localhost:8080/"
        },
        "id": "vbunkRIe6A05",
        "outputId": "251e44b9-1707-42d9-a560-912ac1fadef5"
      },
      "execution_count": null,
      "outputs": [
        {
          "output_type": "stream",
          "name": "stdout",
          "text": [
            "<class 'pandas.core.frame.DataFrame'>\n",
            "RangeIndex: 287568 entries, 0 to 287567\n",
            "Data columns (total 11 columns):\n",
            " #   Column          Non-Null Count   Dtype  \n",
            "---  ------          --------------   -----  \n",
            " 0   step            287568 non-null  int64  \n",
            " 1   type            287568 non-null  int64  \n",
            " 2   amount          287568 non-null  float64\n",
            " 3   nameOrig        287568 non-null  int64  \n",
            " 4   oldbalanceOrg   287568 non-null  float64\n",
            " 5   newbalanceOrig  287568 non-null  float64\n",
            " 6   nameDest        287568 non-null  int64  \n",
            " 7   oldbalanceDest  287567 non-null  float64\n",
            " 8   newbalanceDest  287567 non-null  float64\n",
            " 9   isFraud         287567 non-null  float64\n",
            " 10  isFlaggedFraud  287567 non-null  float64\n",
            "dtypes: float64(7), int64(4)\n",
            "memory usage: 24.1 MB\n"
          ]
        }
      ]
    },
    {
      "cell_type": "code",
      "source": [
        "df = df.astype('float64')"
      ],
      "metadata": {
        "id": "VvSykDz_7C2x"
      },
      "execution_count": null,
      "outputs": []
    },
    {
      "cell_type": "code",
      "source": [
        "df.isna().sum()"
      ],
      "metadata": {
        "colab": {
          "base_uri": "https://localhost:8080/"
        },
        "id": "A001RFXv7a66",
        "outputId": "80d1257c-a836-40ba-d3bd-687b56a6f89b"
      },
      "execution_count": null,
      "outputs": [
        {
          "output_type": "execute_result",
          "data": {
            "text/plain": [
              "step              0\n",
              "type              0\n",
              "amount            0\n",
              "nameOrig          0\n",
              "oldbalanceOrg     0\n",
              "newbalanceOrig    0\n",
              "nameDest          0\n",
              "oldbalanceDest    1\n",
              "newbalanceDest    1\n",
              "isFraud           1\n",
              "isFlaggedFraud    1\n",
              "dtype: int64"
            ]
          },
          "metadata": {},
          "execution_count": 11
        }
      ]
    },
    {
      "cell_type": "code",
      "source": [
        "df = df.dropna()"
      ],
      "metadata": {
        "id": "loLUn9tS7dkK"
      },
      "execution_count": null,
      "outputs": []
    },
    {
      "cell_type": "code",
      "source": [
        "df.isna().sum()"
      ],
      "metadata": {
        "colab": {
          "base_uri": "https://localhost:8080/"
        },
        "id": "rar7uwh47hi5",
        "outputId": "2405d2ca-ae89-4690-8009-721f2aa7e171"
      },
      "execution_count": null,
      "outputs": [
        {
          "output_type": "execute_result",
          "data": {
            "text/plain": [
              "step              0\n",
              "type              0\n",
              "amount            0\n",
              "nameOrig          0\n",
              "oldbalanceOrg     0\n",
              "newbalanceOrig    0\n",
              "nameDest          0\n",
              "oldbalanceDest    0\n",
              "newbalanceDest    0\n",
              "isFraud           0\n",
              "isFlaggedFraud    0\n",
              "dtype: int64"
            ]
          },
          "metadata": {},
          "execution_count": 13
        }
      ]
    },
    {
      "cell_type": "code",
      "source": [
        "df.head()"
      ],
      "metadata": {
        "colab": {
          "base_uri": "https://localhost:8080/",
          "height": 206
        },
        "id": "QwlWfCH76Ljh",
        "outputId": "023a142f-a74a-4147-b294-3fb9971ae0ac"
      },
      "execution_count": null,
      "outputs": [
        {
          "output_type": "execute_result",
          "data": {
            "text/plain": [
              "   step  type    amount  nameOrig  oldbalanceOrg  newbalanceOrig  nameDest  \\\n",
              "0   1.0   3.0   9839.64   34471.0       170136.0       160296.36   80682.0   \n",
              "1   1.0   3.0   1864.28   98850.0        21249.0        19384.72   83948.0   \n",
              "2   1.0   4.0    181.00   45312.0          181.0            0.00   22860.0   \n",
              "3   1.0   1.0    181.00  263632.0          181.0            0.00   20332.0   \n",
              "4   1.0   3.0  11668.14  155442.0        41554.0        29885.86   41580.0   \n",
              "\n",
              "   oldbalanceDest  newbalanceDest  isFraud  isFlaggedFraud  \n",
              "0             0.0             0.0      0.0             0.0  \n",
              "1             0.0             0.0      0.0             0.0  \n",
              "2             0.0             0.0      1.0             0.0  \n",
              "3         21182.0             0.0      1.0             0.0  \n",
              "4             0.0             0.0      0.0             0.0  "
            ],
            "text/html": [
              "\n",
              "  <div id=\"df-84985766-6895-4f55-9db4-813b135d825d\">\n",
              "    <div class=\"colab-df-container\">\n",
              "      <div>\n",
              "<style scoped>\n",
              "    .dataframe tbody tr th:only-of-type {\n",
              "        vertical-align: middle;\n",
              "    }\n",
              "\n",
              "    .dataframe tbody tr th {\n",
              "        vertical-align: top;\n",
              "    }\n",
              "\n",
              "    .dataframe thead th {\n",
              "        text-align: right;\n",
              "    }\n",
              "</style>\n",
              "<table border=\"1\" class=\"dataframe\">\n",
              "  <thead>\n",
              "    <tr style=\"text-align: right;\">\n",
              "      <th></th>\n",
              "      <th>step</th>\n",
              "      <th>type</th>\n",
              "      <th>amount</th>\n",
              "      <th>nameOrig</th>\n",
              "      <th>oldbalanceOrg</th>\n",
              "      <th>newbalanceOrig</th>\n",
              "      <th>nameDest</th>\n",
              "      <th>oldbalanceDest</th>\n",
              "      <th>newbalanceDest</th>\n",
              "      <th>isFraud</th>\n",
              "      <th>isFlaggedFraud</th>\n",
              "    </tr>\n",
              "  </thead>\n",
              "  <tbody>\n",
              "    <tr>\n",
              "      <th>0</th>\n",
              "      <td>1.0</td>\n",
              "      <td>3.0</td>\n",
              "      <td>9839.64</td>\n",
              "      <td>34471.0</td>\n",
              "      <td>170136.0</td>\n",
              "      <td>160296.36</td>\n",
              "      <td>80682.0</td>\n",
              "      <td>0.0</td>\n",
              "      <td>0.0</td>\n",
              "      <td>0.0</td>\n",
              "      <td>0.0</td>\n",
              "    </tr>\n",
              "    <tr>\n",
              "      <th>1</th>\n",
              "      <td>1.0</td>\n",
              "      <td>3.0</td>\n",
              "      <td>1864.28</td>\n",
              "      <td>98850.0</td>\n",
              "      <td>21249.0</td>\n",
              "      <td>19384.72</td>\n",
              "      <td>83948.0</td>\n",
              "      <td>0.0</td>\n",
              "      <td>0.0</td>\n",
              "      <td>0.0</td>\n",
              "      <td>0.0</td>\n",
              "    </tr>\n",
              "    <tr>\n",
              "      <th>2</th>\n",
              "      <td>1.0</td>\n",
              "      <td>4.0</td>\n",
              "      <td>181.00</td>\n",
              "      <td>45312.0</td>\n",
              "      <td>181.0</td>\n",
              "      <td>0.00</td>\n",
              "      <td>22860.0</td>\n",
              "      <td>0.0</td>\n",
              "      <td>0.0</td>\n",
              "      <td>1.0</td>\n",
              "      <td>0.0</td>\n",
              "    </tr>\n",
              "    <tr>\n",
              "      <th>3</th>\n",
              "      <td>1.0</td>\n",
              "      <td>1.0</td>\n",
              "      <td>181.00</td>\n",
              "      <td>263632.0</td>\n",
              "      <td>181.0</td>\n",
              "      <td>0.00</td>\n",
              "      <td>20332.0</td>\n",
              "      <td>21182.0</td>\n",
              "      <td>0.0</td>\n",
              "      <td>1.0</td>\n",
              "      <td>0.0</td>\n",
              "    </tr>\n",
              "    <tr>\n",
              "      <th>4</th>\n",
              "      <td>1.0</td>\n",
              "      <td>3.0</td>\n",
              "      <td>11668.14</td>\n",
              "      <td>155442.0</td>\n",
              "      <td>41554.0</td>\n",
              "      <td>29885.86</td>\n",
              "      <td>41580.0</td>\n",
              "      <td>0.0</td>\n",
              "      <td>0.0</td>\n",
              "      <td>0.0</td>\n",
              "      <td>0.0</td>\n",
              "    </tr>\n",
              "  </tbody>\n",
              "</table>\n",
              "</div>\n",
              "      <button class=\"colab-df-convert\" onclick=\"convertToInteractive('df-84985766-6895-4f55-9db4-813b135d825d')\"\n",
              "              title=\"Convert this dataframe to an interactive table.\"\n",
              "              style=\"display:none;\">\n",
              "        \n",
              "  <svg xmlns=\"http://www.w3.org/2000/svg\" height=\"24px\"viewBox=\"0 0 24 24\"\n",
              "       width=\"24px\">\n",
              "    <path d=\"M0 0h24v24H0V0z\" fill=\"none\"/>\n",
              "    <path d=\"M18.56 5.44l.94 2.06.94-2.06 2.06-.94-2.06-.94-.94-2.06-.94 2.06-2.06.94zm-11 1L8.5 8.5l.94-2.06 2.06-.94-2.06-.94L8.5 2.5l-.94 2.06-2.06.94zm10 10l.94 2.06.94-2.06 2.06-.94-2.06-.94-.94-2.06-.94 2.06-2.06.94z\"/><path d=\"M17.41 7.96l-1.37-1.37c-.4-.4-.92-.59-1.43-.59-.52 0-1.04.2-1.43.59L10.3 9.45l-7.72 7.72c-.78.78-.78 2.05 0 2.83L4 21.41c.39.39.9.59 1.41.59.51 0 1.02-.2 1.41-.59l7.78-7.78 2.81-2.81c.8-.78.8-2.07 0-2.86zM5.41 20L4 18.59l7.72-7.72 1.47 1.35L5.41 20z\"/>\n",
              "  </svg>\n",
              "      </button>\n",
              "      \n",
              "  <style>\n",
              "    .colab-df-container {\n",
              "      display:flex;\n",
              "      flex-wrap:wrap;\n",
              "      gap: 12px;\n",
              "    }\n",
              "\n",
              "    .colab-df-convert {\n",
              "      background-color: #E8F0FE;\n",
              "      border: none;\n",
              "      border-radius: 50%;\n",
              "      cursor: pointer;\n",
              "      display: none;\n",
              "      fill: #1967D2;\n",
              "      height: 32px;\n",
              "      padding: 0 0 0 0;\n",
              "      width: 32px;\n",
              "    }\n",
              "\n",
              "    .colab-df-convert:hover {\n",
              "      background-color: #E2EBFA;\n",
              "      box-shadow: 0px 1px 2px rgba(60, 64, 67, 0.3), 0px 1px 3px 1px rgba(60, 64, 67, 0.15);\n",
              "      fill: #174EA6;\n",
              "    }\n",
              "\n",
              "    [theme=dark] .colab-df-convert {\n",
              "      background-color: #3B4455;\n",
              "      fill: #D2E3FC;\n",
              "    }\n",
              "\n",
              "    [theme=dark] .colab-df-convert:hover {\n",
              "      background-color: #434B5C;\n",
              "      box-shadow: 0px 1px 3px 1px rgba(0, 0, 0, 0.15);\n",
              "      filter: drop-shadow(0px 1px 2px rgba(0, 0, 0, 0.3));\n",
              "      fill: #FFFFFF;\n",
              "    }\n",
              "  </style>\n",
              "\n",
              "      <script>\n",
              "        const buttonEl =\n",
              "          document.querySelector('#df-84985766-6895-4f55-9db4-813b135d825d button.colab-df-convert');\n",
              "        buttonEl.style.display =\n",
              "          google.colab.kernel.accessAllowed ? 'block' : 'none';\n",
              "\n",
              "        async function convertToInteractive(key) {\n",
              "          const element = document.querySelector('#df-84985766-6895-4f55-9db4-813b135d825d');\n",
              "          const dataTable =\n",
              "            await google.colab.kernel.invokeFunction('convertToInteractive',\n",
              "                                                     [key], {});\n",
              "          if (!dataTable) return;\n",
              "\n",
              "          const docLinkHtml = 'Like what you see? Visit the ' +\n",
              "            '<a target=\"_blank\" href=https://colab.research.google.com/notebooks/data_table.ipynb>data table notebook</a>'\n",
              "            + ' to learn more about interactive tables.';\n",
              "          element.innerHTML = '';\n",
              "          dataTable['output_type'] = 'display_data';\n",
              "          await google.colab.output.renderOutput(dataTable, element);\n",
              "          const docLink = document.createElement('div');\n",
              "          docLink.innerHTML = docLinkHtml;\n",
              "          element.appendChild(docLink);\n",
              "        }\n",
              "      </script>\n",
              "    </div>\n",
              "  </div>\n",
              "  "
            ]
          },
          "metadata": {},
          "execution_count": 14
        }
      ]
    },
    {
      "cell_type": "code",
      "source": [
        "x = df.drop(columns=['isFraud'])\n",
        "y = df['isFraud']"
      ],
      "metadata": {
        "id": "3YtyY68N6Mzx"
      },
      "execution_count": null,
      "outputs": []
    },
    {
      "cell_type": "code",
      "source": [
        "y.value_counts()"
      ],
      "metadata": {
        "colab": {
          "base_uri": "https://localhost:8080/"
        },
        "id": "qOXLG9bJ6N36",
        "outputId": "67a53e6b-adc6-46a1-acb1-391cee0a19d4"
      },
      "execution_count": null,
      "outputs": [
        {
          "output_type": "execute_result",
          "data": {
            "text/plain": [
              "0.0    287390\n",
              "1.0       177\n",
              "Name: isFraud, dtype: int64"
            ]
          },
          "metadata": {},
          "execution_count": 16
        }
      ]
    },
    {
      "cell_type": "markdown",
      "source": [
        "The data is imbalanced, therefore it is recommended to use SMOTE (Synthetic Minority Over-sampling Technique) to balance it. It's a popular method used to balance class distribution in a dataset. \n",
        "By creating synthetic samples, SMOTE allows the algorithm to have a more balanced dataset, which can improve the model's performance and reduce the bias towards the majority class. This method can improve the accuracy of the model, especially when the dataset is highly imbalanced."
      ],
      "metadata": {
        "id": "mKPQ_5cf6PAp"
      }
    },
    {
      "cell_type": "code",
      "source": [
        "from imblearn.over_sampling import SMOTE"
      ],
      "metadata": {
        "id": "A5q7Hm3g6QiB"
      },
      "execution_count": null,
      "outputs": []
    },
    {
      "cell_type": "code",
      "source": [
        "SMOTEE  = SMOTE(random_state=0)"
      ],
      "metadata": {
        "id": "ZmnvrNsX6RS7"
      },
      "execution_count": null,
      "outputs": []
    },
    {
      "cell_type": "code",
      "source": [
        "x,y = SMOTEE.fit_resample(x,y)"
      ],
      "metadata": {
        "id": "5FKsuX9Y6ROy"
      },
      "execution_count": null,
      "outputs": []
    },
    {
      "cell_type": "code",
      "source": [
        "y.value_counts()"
      ],
      "metadata": {
        "colab": {
          "base_uri": "https://localhost:8080/"
        },
        "id": "qQ7vynnj6RMJ",
        "outputId": "322b6515-ddab-4780-9223-94716878859c"
      },
      "execution_count": null,
      "outputs": [
        {
          "output_type": "execute_result",
          "data": {
            "text/plain": [
              "0.0    287390\n",
              "1.0    287390\n",
              "Name: isFraud, dtype: int64"
            ]
          },
          "metadata": {},
          "execution_count": 20
        }
      ]
    },
    {
      "cell_type": "markdown",
      "source": [
        "## Feature Scaling"
      ],
      "metadata": {
        "id": "05slRhjv6UXB"
      }
    },
    {
      "cell_type": "code",
      "source": [
        "from sklearn.preprocessing import MinMaxScaler\n",
        "minmax = MinMaxScaler()\n",
        "x = minmax.fit_transform(x)"
      ],
      "metadata": {
        "id": "NjfyLWVe6RJZ"
      },
      "execution_count": null,
      "outputs": []
    },
    {
      "cell_type": "code",
      "source": [
        "from sklearn.model_selection import train_test_split\n",
        "xtrain, xtest, ytrain, ytest = train_test_split(x,y,test_size=0.30,random_state=0)"
      ],
      "metadata": {
        "id": "ZKrVTQV36WUd"
      },
      "execution_count": null,
      "outputs": []
    },
    {
      "cell_type": "markdown",
      "source": [
        "##4.1 First model Prediction Algorithms:"
      ],
      "metadata": {
        "id": "BxW3aF6l6XYx"
      }
    },
    {
      "cell_type": "code",
      "source": [
        "from sklearn.neighbors import KNeighborsClassifier\n",
        "from sklearn.linear_model import LogisticRegression\n",
        "from sklearn.tree import DecisionTreeClassifier\n",
        "from sklearn.ensemble import RandomForestClassifier\n",
        "from xgboost import XGBClassifier\n",
        "from sklearn.metrics import classification_report"
      ],
      "metadata": {
        "id": "2-EL-6Dj6WSV"
      },
      "execution_count": null,
      "outputs": []
    },
    {
      "cell_type": "code",
      "source": [
        "def mymodel(model):\n",
        "    model.fit(xtrain, ytrain)\n",
        "    ypred = model.predict(xtest)\n",
        "    \n",
        "    train = model.score(xtrain, ytrain)\n",
        "    test = model.score(xtest, ytest)\n",
        "    \n",
        "    print(f\"Training Accuracy : {train}\\nTesting Accuracy : {test}\\n\\n\")\n",
        "    print(classification_report(ytest, ypred))\n",
        "    \n",
        "    return model"
      ],
      "metadata": {
        "id": "6tAUEH5B6WPS"
      },
      "execution_count": null,
      "outputs": []
    },
    {
      "cell_type": "markdown",
      "source": [
        "##1.KNN Alogrithm\n",
        "\n",
        "---"
      ],
      "metadata": {
        "id": "drtvGIQ_6apB"
      }
    },
    {
      "cell_type": "code",
      "source": [
        "knn = mymodel(KNeighborsClassifier())"
      ],
      "metadata": {
        "colab": {
          "base_uri": "https://localhost:8080/"
        },
        "id": "9KJE8qlt6WM8",
        "outputId": "91a5cebf-7c66-4481-a0ca-7643b9103deb"
      },
      "execution_count": null,
      "outputs": [
        {
          "output_type": "stream",
          "name": "stdout",
          "text": [
            "Training Accuracy : 0.9950515228186685\n",
            "Testing Accuracy : 0.9924956795063619\n",
            "\n",
            "\n",
            "              precision    recall  f1-score   support\n",
            "\n",
            "         0.0       1.00      0.98      0.99     86106\n",
            "         1.0       0.99      1.00      0.99     86328\n",
            "\n",
            "    accuracy                           0.99    172434\n",
            "   macro avg       0.99      0.99      0.99    172434\n",
            "weighted avg       0.99      0.99      0.99    172434\n",
            "\n"
          ]
        }
      ]
    },
    {
      "cell_type": "markdown",
      "source": [
        "##*2. Logistic Regression Alogrithm*\n",
        "\n",
        "---\n",
        "\n"
      ],
      "metadata": {
        "id": "K-AmWOjaKb3g"
      }
    },
    {
      "cell_type": "code",
      "source": [
        "logreg = mymodel(LogisticRegression())"
      ],
      "metadata": {
        "id": "zT6ZdAub6WLG",
        "colab": {
          "base_uri": "https://localhost:8080/"
        },
        "outputId": "92350ef5-46a4-44bf-a5ec-13fd325d2eb7"
      },
      "execution_count": null,
      "outputs": [
        {
          "output_type": "stream",
          "name": "stdout",
          "text": [
            "Training Accuracy : 0.8655361305940658\n",
            "Testing Accuracy : 0.8643133024809493\n",
            "\n",
            "\n",
            "              precision    recall  f1-score   support\n",
            "\n",
            "         0.0       0.86      0.87      0.86     86106\n",
            "         1.0       0.87      0.86      0.86     86328\n",
            "\n",
            "    accuracy                           0.86    172434\n",
            "   macro avg       0.86      0.86      0.86    172434\n",
            "weighted avg       0.86      0.86      0.86    172434\n",
            "\n"
          ]
        }
      ]
    },
    {
      "cell_type": "markdown",
      "source": [
        "##*3. Support Vector Machine Alogrithm*\n",
        "\n",
        "---\n",
        "\n"
      ],
      "metadata": {
        "id": "IJQFC5SPLGxu"
      }
    },
    {
      "cell_type": "markdown",
      "source": [
        "![image.png](data:image/png;base64,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)"
      ],
      "metadata": {
        "id": "nRqgi-RLOGr9"
      }
    },
    {
      "cell_type": "markdown",
      "source": [
        "##*4. Decision Tree Alogrithm*\n",
        "\n",
        "---\n",
        "\n"
      ],
      "metadata": {
        "id": "nm0pnD3ULKFX"
      }
    },
    {
      "cell_type": "code",
      "source": [
        "dt = mymodel(DecisionTreeClassifier())"
      ],
      "metadata": {
        "colab": {
          "base_uri": "https://localhost:8080/"
        },
        "id": "3NtEz8wiLLaA",
        "outputId": "6950dc39-67c4-4cd5-acaa-74e3c687d874"
      },
      "execution_count": null,
      "outputs": [
        {
          "output_type": "stream",
          "name": "stdout",
          "text": [
            "Training Accuracy : 1.0\n",
            "Testing Accuracy : 0.999048911467576\n",
            "\n",
            "\n",
            "              precision    recall  f1-score   support\n",
            "\n",
            "         0.0       1.00      1.00      1.00     86106\n",
            "         1.0       1.00      1.00      1.00     86328\n",
            "\n",
            "    accuracy                           1.00    172434\n",
            "   macro avg       1.00      1.00      1.00    172434\n",
            "weighted avg       1.00      1.00      1.00    172434\n",
            "\n"
          ]
        }
      ]
    },
    {
      "cell_type": "markdown",
      "source": [
        "##*5. Random Forest Alogrithm*\n",
        "\n",
        "---\n",
        "\n"
      ],
      "metadata": {
        "id": "CpalAfLKLOS_"
      }
    },
    {
      "cell_type": "code",
      "source": [
        "rfc = mymodel(RandomForestClassifier())"
      ],
      "metadata": {
        "colab": {
          "base_uri": "https://localhost:8080/"
        },
        "id": "BtLdmqPBLNZO",
        "outputId": "fe79ca83-2a17-46a9-ada6-efd7a5352b2d"
      },
      "execution_count": null,
      "outputs": [
        {
          "output_type": "stream",
          "name": "stdout",
          "text": [
            "Training Accuracy : 1.0\n",
            "Testing Accuracy : 0.9998550169920085\n",
            "\n",
            "\n",
            "              precision    recall  f1-score   support\n",
            "\n",
            "         0.0       1.00      1.00      1.00     86106\n",
            "         1.0       1.00      1.00      1.00     86328\n",
            "\n",
            "    accuracy                           1.00    172434\n",
            "   macro avg       1.00      1.00      1.00    172434\n",
            "weighted avg       1.00      1.00      1.00    172434\n",
            "\n"
          ]
        }
      ]
    },
    {
      "cell_type": "markdown",
      "source": [
        "##*6. XGBClassifier Algorithm*\n",
        "\n",
        "---\n",
        "\n"
      ],
      "metadata": {
        "id": "GlFDIcrDLSAP"
      }
    },
    {
      "cell_type": "code",
      "source": [
        "xgb = mymodel(XGBClassifier())"
      ],
      "metadata": {
        "colab": {
          "base_uri": "https://localhost:8080/"
        },
        "id": "mL6M8k5ALRG3",
        "outputId": "5e904966-a319-4a26-a0a7-b33aaff2583f"
      },
      "execution_count": null,
      "outputs": [
        {
          "output_type": "stream",
          "name": "stdout",
          "text": [
            "Training Accuracy : 0.9842399327941622\n",
            "Testing Accuracy : 0.9834023452451373\n",
            "\n",
            "\n",
            "              precision    recall  f1-score   support\n",
            "\n",
            "         0.0       0.99      0.98      0.98     86106\n",
            "         1.0       0.98      0.99      0.98     86328\n",
            "\n",
            "    accuracy                           0.98    172434\n",
            "   macro avg       0.98      0.98      0.98    172434\n",
            "weighted avg       0.98      0.98      0.98    172434\n",
            "\n"
          ]
        }
      ]
    },
    {
      "cell_type": "markdown",
      "source": [
        "##4.1.1 Baseline model Cross-validation\n"
      ],
      "metadata": {
        "id": "Kt2PKEi1LhZz"
      }
    },
    {
      "cell_type": "code",
      "source": [
        "from sklearn.model_selection import cross_val_score\n",
        "\n",
        "knn_accuracy = cross_val_score(knn,xtest,ytest,cv=3,scoring='accuracy',n_jobs=-1)\n",
        "logreg_accuracy = cross_val_score(logreg,xtest,ytest,cv=3,scoring='accuracy',n_jobs=-1)\n",
        "dt_accuracy = cross_val_score(dt,xtest,ytest,cv=3,scoring='accuracy',n_jobs=-1)\n",
        "rfc_accuracy = cross_val_score(dt,xtest,ytest,cv=3,scoring='accuracy',n_jobs=-1)\n",
        "xgb_accuracy = cross_val_score(dt,xtest,ytest,cv=3,scoring='accuracy',n_jobs=-1)\n",
        "\n",
        "names = ['KNN','LogReg','DecisionTree','RFC','XGB']\n",
        "score =[knn_accuracy.mean(),logreg_accuracy.mean(),dt_accuracy.mean(),rfc_accuracy.mean(),xgb_accuracy.mean()]\n",
        "\n",
        "scores = pd.DataFrame({'Algorithm Name':names,'Score':score})"
      ],
      "metadata": {
        "id": "1MXYIj9ULise"
      },
      "execution_count": null,
      "outputs": []
    },
    {
      "cell_type": "code",
      "source": [
        "axis = sns.barplot(x='Algorithm Name',y='Score',data = scores)\n",
        "axis.set(xlabel='Classifier', ylabel='Accuracy')\n",
        "\n",
        "for p in axis.patches:\n",
        "    height = p.get_height()\n",
        "    axis.text(p.get_x() + p.get_width()/2, height + 0.005, '{:1.4f}'.format(height), ha=\"center\") \n",
        "    "
      ],
      "metadata": {
        "colab": {
          "base_uri": "https://localhost:8080/",
          "height": 279
        },
        "id": "Lx-arD-sLjo3",
        "outputId": "226bcd6f-4a8d-4f5d-cf9a-2bfd5f910114"
      },
      "execution_count": null,
      "outputs": [
        {
          "output_type": "display_data",
          "data": {
            "text/plain": [
              "<Figure size 432x288 with 1 Axes>"
            ],
            "image/png": "[encoded data removed]"
          },
          "metadata": {
            "needs_background": "light"
          }
        }
      ]
    },
    {
      "cell_type": "code",
      "source": [
        "scores # Baseline model Cross-validation"
      ],
      "metadata": {
        "colab": {
          "base_uri": "https://localhost:8080/",
          "height": 206
        },
        "id": "8mjtGYOULkn_",
        "outputId": "be8f3d65-9b0c-461f-e4dc-822f7995e7d6"
      },
      "execution_count": null,
      "outputs": [
        {
          "output_type": "execute_result",
          "data": {
            "text/plain": [
              "  Algorithm Name     Score\n",
              "0            KNN  0.981796\n",
              "1         LogReg  0.850157\n",
              "2   DecisionTree  0.997321\n",
              "3            RFC  0.997321\n",
              "4            XGB  0.997356"
            ],
            "text/html": [
              "\n",
              "  <div id=\"df-e9e7a2b3-e0b2-4cc5-b3ef-988ec966f5ec\">\n",
              "    <div class=\"colab-df-container\">\n",
              "      <div>\n",
              "<style scoped>\n",
              "    .dataframe tbody tr th:only-of-type {\n",
              "        vertical-align: middle;\n",
              "    }\n",
              "\n",
              "    .dataframe tbody tr th {\n",
              "        vertical-align: top;\n",
              "    }\n",
              "\n",
              "    .dataframe thead th {\n",
              "        text-align: right;\n",
              "    }\n",
              "</style>\n",
              "<table border=\"1\" class=\"dataframe\">\n",
              "  <thead>\n",
              "    <tr style=\"text-align: right;\">\n",
              "      <th></th>\n",
              "      <th>Algorithm Name</th>\n",
              "      <th>Score</th>\n",
              "    </tr>\n",
              "  </thead>\n",
              "  <tbody>\n",
              "    <tr>\n",
              "      <th>0</th>\n",
              "      <td>KNN</td>\n",
              "      <td>0.981796</td>\n",
              "    </tr>\n",
              "    <tr>\n",
              "      <th>1</th>\n",
              "      <td>LogReg</td>\n",
              "      <td>0.850157</td>\n",
              "    </tr>\n",
              "    <tr>\n",
              "      <th>2</th>\n",
              "      <td>DecisionTree</td>\n",
              "      <td>0.997321</td>\n",
              "    </tr>\n",
              "    <tr>\n",
              "      <th>3</th>\n",
              "      <td>RFC</td>\n",
              "      <td>0.997321</td>\n",
              "    </tr>\n",
              "    <tr>\n",
              "      <th>4</th>\n",
              "      <td>XGB</td>\n",
              "      <td>0.997356</td>\n",
              "    </tr>\n",
              "  </tbody>\n",
              "</table>\n",
              "</div>\n",
              "      <button class=\"colab-df-convert\" onclick=\"convertToInteractive('df-e9e7a2b3-e0b2-4cc5-b3ef-988ec966f5ec')\"\n",
              "              title=\"Convert this dataframe to an interactive table.\"\n",
              "              style=\"display:none;\">\n",
              "        \n",
              "  <svg xmlns=\"http://www.w3.org/2000/svg\" height=\"24px\"viewBox=\"0 0 24 24\"\n",
              "       width=\"24px\">\n",
              "    <path d=\"M0 0h24v24H0V0z\" fill=\"none\"/>\n",
              "    <path d=\"M18.56 5.44l.94 2.06.94-2.06 2.06-.94-2.06-.94-.94-2.06-.94 2.06-2.06.94zm-11 1L8.5 8.5l.94-2.06 2.06-.94-2.06-.94L8.5 2.5l-.94 2.06-2.06.94zm10 10l.94 2.06.94-2.06 2.06-.94-2.06-.94-.94-2.06-.94 2.06-2.06.94z\"/><path d=\"M17.41 7.96l-1.37-1.37c-.4-.4-.92-.59-1.43-.59-.52 0-1.04.2-1.43.59L10.3 9.45l-7.72 7.72c-.78.78-.78 2.05 0 2.83L4 21.41c.39.39.9.59 1.41.59.51 0 1.02-.2 1.41-.59l7.78-7.78 2.81-2.81c.8-.78.8-2.07 0-2.86zM5.41 20L4 18.59l7.72-7.72 1.47 1.35L5.41 20z\"/>\n",
              "  </svg>\n",
              "      </button>\n",
              "      \n",
              "  <style>\n",
              "    .colab-df-container {\n",
              "      display:flex;\n",
              "      flex-wrap:wrap;\n",
              "      gap: 12px;\n",
              "    }\n",
              "\n",
              "    .colab-df-convert {\n",
              "      background-color: #E8F0FE;\n",
              "      border: none;\n",
              "      border-radius: 50%;\n",
              "      cursor: pointer;\n",
              "      display: none;\n",
              "      fill: #1967D2;\n",
              "      height: 32px;\n",
              "      padding: 0 0 0 0;\n",
              "      width: 32px;\n",
              "    }\n",
              "\n",
              "    .colab-df-convert:hover {\n",
              "      background-color: #E2EBFA;\n",
              "      box-shadow: 0px 1px 2px rgba(60, 64, 67, 0.3), 0px 1px 3px 1px rgba(60, 64, 67, 0.15);\n",
              "      fill: #174EA6;\n",
              "    }\n",
              "\n",
              "    [theme=dark] .colab-df-convert {\n",
              "      background-color: #3B4455;\n",
              "      fill: #D2E3FC;\n",
              "    }\n",
              "\n",
              "    [theme=dark] .colab-df-convert:hover {\n",
              "      background-color: #434B5C;\n",
              "      box-shadow: 0px 1px 3px 1px rgba(0, 0, 0, 0.15);\n",
              "      filter: drop-shadow(0px 1px 2px rgba(0, 0, 0, 0.3));\n",
              "      fill: #FFFFFF;\n",
              "    }\n",
              "  </style>\n",
              "\n",
              "      <script>\n",
              "        const buttonEl =\n",
              "          document.querySelector('#df-e9e7a2b3-e0b2-4cc5-b3ef-988ec966f5ec button.colab-df-convert');\n",
              "        buttonEl.style.display =\n",
              "          google.colab.kernel.accessAllowed ? 'block' : 'none';\n",
              "\n",
              "        async function convertToInteractive(key) {\n",
              "          const element = document.querySelector('#df-e9e7a2b3-e0b2-4cc5-b3ef-988ec966f5ec');\n",
              "          const dataTable =\n",
              "            await google.colab.kernel.invokeFunction('convertToInteractive',\n",
              "                                                     [key], {});\n",
              "          if (!dataTable) return;\n",
              "\n",
              "          const docLinkHtml = 'Like what you see? Visit the ' +\n",
              "            '<a target=\"_blank\" href=https://colab.research.google.com/notebooks/data_table.ipynb>data table notebook</a>'\n",
              "            + ' to learn more about interactive tables.';\n",
              "          element.innerHTML = '';\n",
              "          dataTable['output_type'] = 'display_data';\n",
              "          await google.colab.output.renderOutput(dataTable, element);\n",
              "          const docLink = document.createElement('div');\n",
              "          docLink.innerHTML = docLinkHtml;\n",
              "          element.appendChild(docLink);\n",
              "        }\n",
              "      </script>\n",
              "    </div>\n",
              "  </div>\n",
              "  "
            ]
          },
          "metadata": {},
          "execution_count": 32
        }
      ]
    },
    {
      "cell_type": "markdown",
      "source": [
        "##4.2 Second Model HyperParameters Tuning:"
      ],
      "metadata": {
        "id": "9fTHz_MKLl-v"
      }
    },
    {
      "cell_type": "markdown",
      "source": [
        "##*1. Decision Tree Algorithm*\n",
        "\n",
        "---\n",
        "\n"
      ],
      "metadata": {
        "id": "ff-NIjHXLoR-"
      }
    },
    {
      "cell_type": "code",
      "source": [
        "'''parameters = {\n",
        "    \"criterion\":[\"gini\", \"entropy\"],\n",
        "    \"max_depth\": list(range(1,20, 5)),\n",
        "    \"min_samples_leaf\": list(range(1, 20, 5))\n",
        "}\n",
        "'''\n",
        "parameters = {\n",
        "    \"criterion\":[\"entropy\"],\n",
        "    \"max_depth\": [16],\n",
        "    \"min_samples_leaf\":[1]\n",
        "}"
      ],
      "metadata": {
        "id": "4Ec5ijYSLs0W"
      },
      "execution_count": null,
      "outputs": []
    },
    {
      "cell_type": "code",
      "source": [
        "from sklearn.model_selection import GridSearchCV\n",
        "grid = GridSearchCV(DecisionTreeClassifier(), parameters, verbose=2)\n",
        "grid.fit(xtrain, ytrain)"
      ],
      "metadata": {
        "id": "YphP3rz0Lniv",
        "colab": {
          "base_uri": "https://localhost:8080/"
        },
        "outputId": "16d63d80-746d-4665-a73b-a2908d05a7be"
      },
      "execution_count": null,
      "outputs": [
        {
          "output_type": "stream",
          "name": "stdout",
          "text": [
            "Fitting 5 folds for each of 1 candidates, totalling 5 fits\n",
            "[CV] END criterion=entropy, max_depth=16, min_samples_leaf=1; total time=   2.9s\n",
            "[CV] END criterion=entropy, max_depth=16, min_samples_leaf=1; total time=   3.3s\n",
            "[CV] END criterion=entropy, max_depth=16, min_samples_leaf=1; total time=   2.7s\n",
            "[CV] END criterion=entropy, max_depth=16, min_samples_leaf=1; total time=   2.6s\n",
            "[CV] END criterion=entropy, max_depth=16, min_samples_leaf=1; total time=   2.7s\n"
          ]
        },
        {
          "output_type": "execute_result",
          "data": {
            "text/plain": [
              "GridSearchCV(estimator=DecisionTreeClassifier(),\n",
              "             param_grid={'criterion': ['entropy'], 'max_depth': [16],\n",
              "                         'min_samples_leaf': [1]},\n",
              "             verbose=2)"
            ]
          },
          "metadata": {},
          "execution_count": 34
        }
      ]
    },
    {
      "cell_type": "markdown",
      "source": [
        "![image.png](data:image/png;base64,iVBORw0KGgoAAAANSUhEUgAAAusAAABwCAYAAACnxz6UAAAAAXNSR0IArs4c6QAAAARnQU1BAACxjwv8YQUAAAAJcEhZcwAAFiUAABYlAUlSJPAAABhJSURBVHhe7d15jBRVu8fxwxUQQWST1QWBoKKyCEaJS1QMQXEjhBhfo7iAATWgcftDFC7ELf6hEYxKxN0YowQEiYiihusSRUHEBZcALgEXBGRVNrnv71DPeKbome7q6eqpmfl+ksp0V3dXnT516tRTp5+qaTRw4MC9LtCrVy+3YsWK6Flp7N27bxX6q+mff/5xe/bs8ZM91l9NJvwMAAAA0BDVSrCuSYH57t27/WMF6+FrJnwMAAAANDRlCdYlDMQVqOuxjarba/a6/QUAAAAasrIF62JpLhaYW9AenwAAAACUOVgPg/F4cG6BvNg8AAAAoCEra7AuYYCeK1A3BOwAAABo6MoerEuugB0AAABAZf8T/S2rRo0aVTsBAAAAqKWR9VA4ss4oOwAAAPCvWg/WAQAAAORWK2kwAAAAAPIjWAcAAAAyimAdAAAAyCiCdQAAACCjavUC07Vr10aPAAAAAMQxsg4AAABkFME6AAAAkFEE6wAAAEBGEawDAAAAGUWwDgAAAGQUwToAAACQUQTrAAAAQEYRrAMAAAAZRbAOAAAAZBTBOgAAAJBRBOsAAABARhGsAwAAABlFsA4AAABkFME6AAAAkFEE6wAAAEBGpRqsrzu5uVv5n9bRs+QmTZrk5s+fXzHpeVqGDRvm5s6dW7GuZ5991nXt2jV6NRtUnmeeeca9/vrrbvTo0dHc6k2bNs1/Jsl30bLnzJnjLr744mgOAAAAakNqwboF6s3X7IrmFOf33393Y8eOdeedd56bPHlyNHefeDCvYFtBd+jaa6+t9B6b4oH/q6++6i666CK/no8++iiai3LRiYFOEAo9CQEAAGgIUgnWLVBv/8l21/n/tkVzS0/Bu4Jrm5YsWeKuueaa/QL2bdu2uQkTJlR6bzzwrwt+/PFHd9VVV7mhQ4e6GTNmRHMBAABQX5U8WA8D9R4v/hnNLY/XXnvN7dy50/Xt2zeaAwAAANRdjQYOHLg3euz16tXLrVixInqW2+5mjdyOtge4Fmt3R3P22dalsVsxrr1r88VfBQXqa9eujR7lplSV7t27u4kTJ/pR5Xz69+/v7rjjDrdgwQL3xBNP+HlKgxkyZIi799573dKlS/28fJKutzpaxn/rOHr2r5UrV7px48ZVlPmNN95wXbp0qXjv9u3bK8qsfHP9EtChQwf/2q5du9xTTz3l00bilEYyfPjw6Nk+SiXSdyr0u2gZ5557rnvuuefcyJEjXfPmzf18pQdNmTLFPzbKie/Ro0f0zLlZs2btN+ofr4Ow/FXVj4R1UIhCyx2vT4m/R+VSG9C1CzfccEOVy4rXd1hm27aLFy92J598sl+G6kcnk6qzcFm5ypR0uwEAgPqnqJF1jZ4rKFdwbpIG6mlQCoxSXt58881ozj4tWrRw99xzT5X56mlRwDdgwAA3ffp0n7py5513+mDOAvWQAj4Fh9ddd52ftm7d6q6++mr/Wpj+omCvKlrfhRdeWLE+TVpXMRRYjho1yj3//PMV69V3sYtO7WJXsXVpvVp/mHeux2EdaLL8dFGwap9VEK/12PtGjBhRcKBuVG5d46CTHy1Dy9PJQFim8ePHu9mzZ1esJ9d7RIHzbbfdVmlZYR3or05ubTm23bT88ILe0047zdejtsWgQYPcunXrfKDep08fH9DLrbfe6v9qGbY8bXMCdQAAGraigvX2i7e7put3VwTsFqhrXtdZm6J3lYcCbwvCjzzySB+EhQGORtjDXHUFhQq4Hnnkkegd6Wnfvr3buHGjW7ZsmX+uwPOXX35xLVu2rBTMiQI5C840bdmyJef7qqKgT8Gf8vZzjbgnFR+9f+utt/x3sRSjwYMHu4MPPtg9/fTT/rnovT/99FOlNCT9WqBl/fzzz9Gc9CmottF9lVsj1GGZbrnllkp1pO2ikyiVNaRyq73YshRki7araBlaltF2W7Vqla+Xdu3aRXOdrxNbX9OmTd28efP8Y6NtrG2tbU5wDgAAQkUF643/3uuOe+SPioDdAnXN02vlFF5kquBSo+vVjZzrri8KaDt16lQxqpkWBXdt2rRx/fr188+1vs6dO/uALh6UWSBoNPKeZGT1iCOO8H8///xz/7fU7ATCAlUFthrFvvvuu/2tJG1Sekd4kmGBqd6ngNVGpdOiADusSyt3WCYb2bcyq2yW5hKKn2RY+cM0H6UBhd8/V0pPWB6NvK9fvz56to/K+P777/u60zKS3moTAADUX0VfYBoG7LUVqMdZIN67d++8gbhGODUSnybl5Ddp0sSNGTOmIijUyHqY81xX2OhvSKPRSu2xtI1c6RsatVY6i9I7NDJvdRFPOUmbjVor2NYJnUa7rbyWnpSUAnW1oTDFR+ktxdAJgD6vZekE77HHHnMzZ85M/YQSAABkW43uBmMBexYC9ZDy1uOjlyFLT/nss8+iOaWn4Pb000/3wZsFcpriueqlpBMDG/mWXAF2sZTWofQOGyW2ExEb0c9HgbKCeAXt8bSUNFkdWLmtfhYuXOj/FsuWG6a4lIKN3itoV/0SrAMA0LDVKFgXBelZCdR15xelISilwEZ245Qio3SD6t5TSmHwnCblxesERCcICiQ1xe8uEtLFqElSLq6OLna1tBbLYb/iiisSBZTxoN8o3URpJ6UO4nXhptZn5Y4H7Sq77tiSKw2mOmo78fSa6u5sk5SVL15PAACgYalxsF5bFCDptnp2cakm3aJR//zIbtso4QWomnTHFd0tJHxPGhTM6WJXpUkoKA6npOkNeq8+o8/qrjFhao1SMUTrmzp1qg9MlUKhSSckVaVlVHcSYQGirUOTglJdTGl3Z9H6VLfKwY7nrYcpLvGcbr13+fLl+6UCabm6Y0pYX8WkgYR1oylebo1cK1VK9WjlWbRokR/tT0oX11p9a1lqW2pjSYXb1ybdVaeq23MCAICGo6j7rJdKqe+zXiqlWK+N2MYDU5uv3PU0U2IaIp0kEOQCAID6pM6OrGedcrk1yhtn80lvAAAAQD6ZH1kPc4CV0qE87DQMGzbM3yXEAmylRdR0RF8jvfH/JirhfcCRX/y/pOai+9TrtpX1cWTd7mCT6+TPKN+fXxQAAKh/igrW27Zt63OeGzVq5C8yVGC7d2/yi0zzBesAAABAQ5Y4DebAAw90rVq1cqtXr3bff/+9a9asmf93/gAAAABKq6hgfefOnX7as2ePv6e5AnaNsnfs2NGPzB9zzDF+9B0AAABA8Up2galG1/VfQb/99lv3ww8/+OeNGzeOXgUAAACQVMmC9b///ttfANetWzd/72ndmnD37t3RqwAAAACSKlmwrsBceexr1qzxI+q6RSEj6wAAAEDxEgfrO3bs8Okumg444ACf7qJR9datW/ucdeWyb9iwweez63UAAAAAxSkqWN+0aZNPd+nZs6cP1HWR6ebNm31wrotL9d8/9W/o9V4AAAAAxcn0P0UCAAAAGrKS5awDAAAAKC2CdQAAACCjCNYBAACAjCJYBwAAADKKYB0AAADIKIJ1AAAAIKMI1gEAAICMqtX7rAMAAACoGiPrAAAAQEYRrAMAAAAZRbAOAAAAZBTBOgAAAJBRBOsAAABARhGsAwAAABlFsA4AAABkFME6AAAAkFEE6wAAAEBGEawDAAAAGUWwDgAAAGRUo4EDB+6NHnu9evVyK1asiJ6hFAYPHuxGjBjhGjdu7JYtW+amTZsWvbLPYYcd5m688UZ30EEHuccff9x99dVX0SvpuOSSS9yQIUPc+vXr3cMPP+zWrFkTvVJ7xo0b5/r16+d++uknN3ny5GhueiZNmuS6dOniZs6c6d56661objrKvX3rqtraD3Ltk3WF9pujjz661tqV9qMWLVoU1I+wH/x7LFi7dm2N+rnjjz/ejR071jVt2rQsfViW2H5rynXMqE5tlsmOnSa+7lK1uVII62nBggXu5Zdf9o+RHyPrKVOnetFFF7kvv/zSjRo1qk4EBTqoPvDAA/5AjLpFHfP06dN9pwjUlNqR2pPaVV2jsj/55JO+L1Oflov1dXqfJvXP6rORXQrwdCydOHGiH3DKgtoqk9r4CSec4F566SW/fk21HZDr5EH7Uq74wepJgfo555xTJ/uV2kKwnjLr+N955x3/Nwtsh7n99tszMaouOkhmoaMBULepz1V/0rdv32oDJwUKCq5+/vnnikBHgUZdGPFXGVXWMWPGNKhRdVSmTAiNmGehDdhAUcuWLd327dujubl98MEHbtOmTe7YY4+N5iAfgvUMUMC8bds299dff7k///wzmos0bdiwwe3cudN3dGlj+xam3PW0ceNGt3v3bvfbb79Fc5CmcmxfjZRfeeWV7r333nOPPvpoNHd/4S+e5fy1U/2N+h31P0BNqK0rBS2fcrQ57U9Dhw71KVlz5syJ5qKUyFlPmX6mOuOMM2qco6mzVst7l3hemkZZjjjiCDd79mx32WWXuebNm/v5YT6uylJdXl18HXFhjpk6CuWftmvXzj9X0BPmTtrrGrVSMGTrjb8vnm9XVf5wvOzxfHurZ3UUF198cc7vn5SVrRw5zfrJ8Mgjj4ye5a5r1aVYfWn0wtpVvB5D4fvUqSrXVcFMx44dcy5L4ttXkpbJtlk8N9HK8N1335U1UCqUtaUvvvjCnXLKKf47WbuK5wjbd7H2JuH3te0atiH7jCTtF3Lto/m2XXyf0zIUqL755pv+e9r7wv4g3h5D4b5nP3XrmGH7Z7w8SVjZW7VqVanMxbBlSTyn3rZxseUsNWsTanO9e/f27UntSMfjsP3E21uuui5k+yYR73ulqn06135g20HHAfU5Ko++j6jfsHIV0qeE7P06Acz1vez1qvYDib9H4seWJNIqU65jUL51JVGTPinOlvXHH39UWS4ru7Z1Fo8BWXTA4Ycf/r/RY699+/a+klEaarhdu3Z1n376qVu3bl00Nxl1lsOGDXPLly93EyZMcHPnzvWdnpZtO5WCiu7du7v+/fv7lJv77rvPNWvWzP33ZMzt2LHDrVq1yr9Xn12yZInr06eP27Vrl1u0aJH/vOg98+bNq3hd7eDmm2/2n9Fk69J6b7rpJrd69eqK8qiTvuCCCyrWdcghh/h1q0y6kFM75IwZM9yAAQP8T19ff/2127Jli1u8eLH//MqVKyt+tta8kAJRLUsd/0MPPeTLp+dnn3227+hVryqTDmyadMKi96nelc9nZUpKddqpUyf366+/7lemUlGnddddd/ltYXWtkUfVpepUdR7WpUZI9D7V10knneSOOuoovw2tHvVZ1a86f7UBzZs/f35F2+vQoYP/nOqpSZMm7v7773fvvvuu3y49e/b0y7Ltq58prUxqSzpgq061rrBM8eXoIKvtq45Y7UiBV9jOtN20nFdeeaXofSJN1pZ0IeSLL77oH+sizoULF/r9Tm1C30fb7vLLL3fPPfecb9uqJ30v1Yu1Ob3vxBNPdD169KiYd/311/ttm/SgaP1AuG21Ph3UrX8pZN9UWRQQHnfccf6ESe9Tu1F779atm9++Krdtd7Ux2/c0T+vXvitnnXWWDybbtGmTsw3Y+wpl7Urr1eeL2W+NLUs+/vjjSmUZNGiQr5fOnTu70aNH+xMxTVpvkm1SKrZf2oCLyq79UaOi6n/U/tTXqWzan3NtexNuX52U27FA2yXp91Pgr7YTtjlN4TLy7Qcqmx5rnsqzdetW/33Ul33yySe+3w/fV12fEm5D277x45gUsh+I+jedgGtdL7zwgn9f2L6TKkWZdLxTPdn+pm12+umnV2w7va70J/Wj+rz6V2u/559/fqVlFcran9QkVhFblk6y4nVgrJ42b96c2rG1viENJmU60CvoLfYAoB1coyPqqMMzUB08NYV0lq4LTWy+fuYXHUhLSQc6HdxnzZoVzak6B03BtzpC+/76KU5BUOvWrf3zfPT91bHr52p1oqIRDz1WJ6vXTXyU4ptvvvF/i/3+qm/lsaZ55n/aaaf5+lC5jcqvg7TaTigcGVN9ql3pZ1AdLJPSsuyaBU0anbFlaftKWCa1KX1GwUS4vnAUSpM6eh08FCjouQJ2nazpoC/6rDrymuwT5aLvooOJRrGVtrF06dLolX30/bQ9wu+Rq80pgNG+oToYOXKkrw8dhJN8f6s3bYP4fh9Ksm+Go3XW5uLbtxDxNqBtnmQfD+nzapdp52K3bdvWB7oKGC1fXSPBOiHVSVFt0Taw7612V5NrncLRb7U1BU862UzC2rEdS3IpdD9QO1FbFPXdCtRzqa5PKVQh+4Haufo89X1aT9oK3TfvvffeSm0/vu3suGQXs6pPsDZc7H6jdegkQFOSfqlYqm/1Ezq2h8dwVI1gPSX6eVhXROvn4Zr8RKUDuzq2QlKTdOBRZ2+002rntQ67VOxAN2XKFP8dNemx5um1ULwjVEeTpEPQ9xfr/I1GWdTJJT34ZI3Kr9ERjfBYXWrSaGWxgXgh4vmLaqMWvGsb5gqm1QbjQVh8+8ZPEBVsqF3awUgHXC3jww8/9M+zSid+YYBSVb6nArtwu1166aX7pZGpfp599ln/vc8888xKJ56FUp3r8/n6gST7ZjxXP+mJdF2nQCceOGle/CS5nMJ2psCutq9xsWBS7VptqaoTmUL2g7CviB+rQvn6lEIUsh9oHToRUF+r16u7a1ApFLpv6qReF2rae3Rs0DGivlEsoEGL8ePHp1739QHBekoU/OhMVx1/fWyIOqjpzN7O6G2qyYlJQ6VRkwcffHC/uszS3XqS0IHYDrAK+BX424itgnY9L2b0J2sUoGgkViPUts30y5YC/Tg76ZZ40FxqNdk3sxAg1hbtawoU0zxJrmtUJ+qH1H40gqv2rgBSAy4myX5QrLBPKVQh+8HLL++7M5rKq9F7Bc8KItMa7c1XJgXqdk90e03HBh0j6hsNaOr7qs7r6rGunAjWU5ZrNDIJ7bTqqLI0glzOETgbfYn/hK8RWnWudf1OHiq/gjj7BSELtH0PPfTQ/Q5YOvHMF8zZ6Fc4aqZRdLUXXU+hfO+sj6oXSvukDqL5UhVUj7rgT3WioEDbuqoRynzi/UA88K/JvqllxUc166tc/bIC9HKmRdQ1NgAVT4crdD8oVq4+JZ+k+4H9Cq39M55eWSqFlMm+a33pI6ti+5pSYdjXCkOwnnEamdRFYLrAJjzA63GxB/x8tPPogJUrYBPrlHWLtLRHoGxkVheKhnnPeqyfZy0HMg0aPYqPIpWa/cysYK4UBwg7uavJT/lKOdIBSyM8Rm1NPxfrZ+OqOldtE/2jC7XXMIVGKUsK8nVxpC4c0/NiqY408pWFf9QTP9FSeXLdTcnq0a6nUBpM0n8IYvtBmOOZ644txe6bauP6HvEgwUYz4yfLaVGZ9Utk2tvX2mfYxocPH+4HAOJ1kKU2V9ssyApPaArdD4qhZeXqU/Ipdj+wYDnpKH4hCilTPOVHbS9+l500WBtP81cF1AzBeh2gHcgufrI8NgVj+gkvCQs+LU/OcvVyHYR0UZwCrDCX2k4O1GnqThYaJQjz74o5mFluv+Xl6aREz8NOQyM6CnAsb1Lr1MGiPvx0pvLrYqp4XWsq5mRM20Z5gDpw2nKSdsAKKKdOnepP1mwZOmBq1Cne5qwNadL2efvtt/36QvqOCvKlumC/EBrVV10pEDj11FOjubVDdaGTI2uXClD0/e0naws8VUe6u4MFG8qT1gma3p9kf4nvkxqpU78QSrJvhv2JTgK0zePpSXqu72T7paasp/XF+7kwTzjeh4VtvKo6yFKb0zbUtlR5tU3C613SGFSwurTJ+t54Kkl1+0FS+fqUQo5jhewHFqDaa5rUz8VvpViIUpVJ69WxzvZNbVtdiKv0mayLH8tz1QGKx33WU6aDQ5bu5wuUgoK1JPf4LeV+oGVZjmz8xAD56cBpAVXSE/6GijaXvqR9Cuou29ZKg2F/Kgwj6ynTz1r6iXBQdDs8oKFRcKgRq3B0uVjq5O0evmnlyAIh2hxQWvXlmrNyYmS9DGxURhiZQX1QyCiYfhrWT/US3vO5WLY8/SRc7H8YzBob5a4uvzf+/wNqipH1wtHmynfXpqyNrGe1nuoyYqHiEawDAAAAGUUaDAAAAJBRBOsAAABARhGsAwAAABlFsA4AAABkFME6AAAAkFEE6wAAAEBGEawDAAAAGUWwDgAAAGQUwToAAACQUQTrAAAAQEYRrAMAAAAZRbAOAAAAZBTBOgAAAJBRBOsAAABARhGsAwAAABlFsA4AAABkFME6AAAAkFEE6wAAAEBGEawDAAAAGUWwDgAAAGQUwToAAACQUQTrAAAAQEYRrAMAAACZ5Nz/AyNruRSSOKJRAAAAAElFTkSuQmCC)\n",
        "\n",
        "\n",
        "\n",
        "Image refers to the best parameters after tuning them ,for saving time cut outs from the original hyperparameter tuning is added ** "
      ],
      "metadata": {
        "id": "aj-BAV2x24Lk"
      }
    },
    {
      "cell_type": "code",
      "source": [
        "grid.best_params_"
      ],
      "metadata": {
        "colab": {
          "base_uri": "https://localhost:8080/"
        },
        "id": "jskxaVK-MaRD",
        "outputId": "a1c77112-5b86-4f26-a630-ec9887f2ee26"
      },
      "execution_count": null,
      "outputs": [
        {
          "output_type": "execute_result",
          "data": {
            "text/plain": [
              "{'criterion': 'entropy', 'max_depth': 16, 'min_samples_leaf': 1}"
            ]
          },
          "metadata": {},
          "execution_count": 35
        }
      ]
    },
    {
      "cell_type": "code",
      "source": [
        "grid.best_score_"
      ],
      "metadata": {
        "colab": {
          "base_uri": "https://localhost:8080/"
        },
        "id": "yXWYSS66MbNq",
        "outputId": "0ade7ccc-61ec-43cf-dfb1-bde0816b5ede"
      },
      "execution_count": null,
      "outputs": [
        {
          "output_type": "execute_result",
          "data": {
            "text/plain": [
              "0.9980365155566038"
            ]
          },
          "metadata": {},
          "execution_count": 36
        }
      ]
    },
    {
      "cell_type": "code",
      "source": [
        "grid.best_estimator_"
      ],
      "metadata": {
        "colab": {
          "base_uri": "https://localhost:8080/"
        },
        "id": "B0qLKN78McKP",
        "outputId": "68588677-8553-4f6b-e3b5-3918c3aaec94"
      },
      "execution_count": null,
      "outputs": [
        {
          "output_type": "execute_result",
          "data": {
            "text/plain": [
              "DecisionTreeClassifier(criterion='entropy', max_depth=16)"
            ]
          },
          "metadata": {},
          "execution_count": 37
        }
      ]
    },
    {
      "cell_type": "code",
      "source": [
        "dt2 = mymodel(grid.best_estimator_) # Post- HyperParameter Tuning For Decision Tree"
      ],
      "metadata": {
        "colab": {
          "base_uri": "https://localhost:8080/"
        },
        "id": "XsN4LQNRMdDl",
        "outputId": "5e607a85-8c2b-463c-d527-360d7a7eb43c"
      },
      "execution_count": null,
      "outputs": [
        {
          "output_type": "stream",
          "name": "stdout",
          "text": [
            "Training Accuracy : 0.9986876966590944\n",
            "Testing Accuracy : 0.9979296426458819\n",
            "\n",
            "\n",
            "              precision    recall  f1-score   support\n",
            "\n",
            "         0.0       1.00      1.00      1.00     86106\n",
            "         1.0       1.00      1.00      1.00     86328\n",
            "\n",
            "    accuracy                           1.00    172434\n",
            "   macro avg       1.00      1.00      1.00    172434\n",
            "weighted avg       1.00      1.00      1.00    172434\n",
            "\n"
          ]
        }
      ]
    },
    {
      "cell_type": "markdown",
      "source": [
        "##*3. Logistic Regression Algorithm*\n",
        "\n",
        "---\n",
        "\n"
      ],
      "metadata": {
        "id": "x6Dx3Wt4M3FX"
      }
    },
    {
      "cell_type": "code",
      "source": [
        "'''parameters = {\n",
        "    'penalty' : ['l1','l2'], \n",
        "    'C'       : np.logspace(-3,3,7),\n",
        "    'solver'  : ['newton-cg', 'lbfgs', 'liblinear'],\n",
        "}'''\n",
        "\n",
        "parameters = {\n",
        "    'penalty' : ['l1'], \n",
        "    'C'       : [1000.0],\n",
        "    'solver'  : ['liblinear'],\n",
        "}"
      ],
      "metadata": {
        "id": "s9LKGtWNM4ZG"
      },
      "execution_count": null,
      "outputs": []
    },
    {
      "cell_type": "code",
      "source": [
        "from sklearn.model_selection import GridSearchCV\n",
        "grid = GridSearchCV(LogisticRegression(), parameters, verbose=2)\n",
        "grid.fit(xtrain, ytrain)"
      ],
      "metadata": {
        "id": "MgV2RBGFM42d",
        "colab": {
          "base_uri": "https://localhost:8080/"
        },
        "outputId": "0f028c4a-c794-4e04-861a-b5cae1002a87"
      },
      "execution_count": null,
      "outputs": [
        {
          "output_type": "stream",
          "name": "stdout",
          "text": [
            "Fitting 5 folds for each of 1 candidates, totalling 5 fits\n",
            "[CV] END .............C=1000.0, penalty=l1, solver=liblinear; total time=   3.6s\n",
            "[CV] END .............C=1000.0, penalty=l1, solver=liblinear; total time=   3.9s\n",
            "[CV] END .............C=1000.0, penalty=l1, solver=liblinear; total time=   3.6s\n",
            "[CV] END .............C=1000.0, penalty=l1, solver=liblinear; total time=   3.6s\n",
            "[CV] END .............C=1000.0, penalty=l1, solver=liblinear; total time=   3.5s\n"
          ]
        },
        {
          "output_type": "execute_result",
          "data": {
            "text/plain": [
              "GridSearchCV(estimator=LogisticRegression(),\n",
              "             param_grid={'C': [1000.0], 'penalty': ['l1'],\n",
              "                         'solver': ['liblinear']},\n",
              "             verbose=2)"
            ]
          },
          "metadata": {},
          "execution_count": 40
        }
      ]
    },
    {
      "cell_type": "markdown",
      "source": [
        "![image.png](data:image/png;base64,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)\n",
        "\n",
        "Image refers to the best parameters after tuning them ,for saving time cut outs from the original hyperparameter tuning is added  "
      ],
      "metadata": {
        "id": "iI54yRtC3DyG"
      }
    },
    {
      "cell_type": "code",
      "source": [
        "grid.best_params_"
      ],
      "metadata": {
        "colab": {
          "base_uri": "https://localhost:8080/"
        },
        "id": "V7Yt3m6jM4zA",
        "outputId": "dc65a9ae-3656-4523-c313-b47720ef1fe3"
      },
      "execution_count": null,
      "outputs": [
        {
          "output_type": "execute_result",
          "data": {
            "text/plain": [
              "{'C': 1000.0, 'penalty': 'l1', 'solver': 'liblinear'}"
            ]
          },
          "metadata": {},
          "execution_count": 41
        }
      ]
    },
    {
      "cell_type": "code",
      "source": [
        "grid.best_score_"
      ],
      "metadata": {
        "colab": {
          "base_uri": "https://localhost:8080/"
        },
        "id": "hk-ny4rTM4wO",
        "outputId": "f9d85d35-27e4-41c3-caf0-8abdf0c8704d"
      },
      "execution_count": null,
      "outputs": [
        {
          "output_type": "execute_result",
          "data": {
            "text/plain": [
              "0.920128448227393"
            ]
          },
          "metadata": {},
          "execution_count": 42
        }
      ]
    },
    {
      "cell_type": "code",
      "source": [
        "grid.best_estimator_"
      ],
      "metadata": {
        "colab": {
          "base_uri": "https://localhost:8080/"
        },
        "id": "dWD7tMdBM-8u",
        "outputId": "40d9b123-01c2-401b-9b5d-00bfb629a156"
      },
      "execution_count": null,
      "outputs": [
        {
          "output_type": "execute_result",
          "data": {
            "text/plain": [
              "LogisticRegression(C=1000.0, penalty='l1', solver='liblinear')"
            ]
          },
          "metadata": {},
          "execution_count": 43
        }
      ]
    },
    {
      "cell_type": "code",
      "source": [
        "logreg = mymodel(grid.best_estimator_)"
      ],
      "metadata": {
        "colab": {
          "base_uri": "https://localhost:8080/"
        },
        "id": "KrPYESBvM__f",
        "outputId": "91db79f5-bcf0-4ed9-9c65-233a0f4e89de"
      },
      "execution_count": null,
      "outputs": [
        {
          "output_type": "stream",
          "name": "stdout",
          "text": [
            "Training Accuracy : 0.9201483300442902\n",
            "Testing Accuracy : 0.9189486992124523\n",
            "\n",
            "\n",
            "              precision    recall  f1-score   support\n",
            "\n",
            "         0.0       0.92      0.92      0.92     86106\n",
            "         1.0       0.92      0.92      0.92     86328\n",
            "\n",
            "    accuracy                           0.92    172434\n",
            "   macro avg       0.92      0.92      0.92    172434\n",
            "weighted avg       0.92      0.92      0.92    172434\n",
            "\n"
          ]
        }
      ]
    },
    {
      "cell_type": "markdown",
      "source": [
        "##*4. KNN Algorithm*\n",
        "\n",
        "---\n",
        "\n"
      ],
      "metadata": {
        "id": "SyfDgqPSNCm-"
      }
    },
    {
      "cell_type": "code",
      "source": [
        "from sklearn.pipeline import Pipeline\n",
        "from sklearn.preprocessing import StandardScaler\n",
        "\n",
        "pipe = Pipeline(\n",
        "    [\n",
        "        (\"sc\", StandardScaler()),\n",
        "        (\"knn\", KNeighborsClassifier())\n",
        "    ]\n",
        ")\n",
        "\n",
        "from sklearn.model_selection import GridSearchCV\n",
        "parameters = [{\"knn__n_neighbors\": [3],\n",
        "              \"knn__weights\": [\"distance\"],\n",
        "              \"knn__leaf_size\": [15]}]\n",
        "\n",
        "'''\n",
        "parameters = [{\"knn__n_neighbors\": [3, 5, 7, 9],\n",
        "              \"knn__weights\": [\"uniform\", \"distance\"],\n",
        "              \"knn__leaf_size\": [15, 20]}]\n",
        "              '''\n",
        "grid = GridSearchCV(pipe, parameters, cv=5, scoring=\"accuracy\")\n",
        "grid.fit(xtrain, ytrain)"
      ],
      "metadata": {
        "colab": {
          "base_uri": "https://localhost:8080/"
        },
        "id": "bAaLxHE2NBuR",
        "outputId": "609b22e0-8cba-474c-fb9a-ab1b9e8a1fd5"
      },
      "execution_count": null,
      "outputs": [
        {
          "output_type": "execute_result",
          "data": {
            "text/plain": [
              "GridSearchCV(cv=5,\n",
              "             estimator=Pipeline(steps=[('sc', StandardScaler()),\n",
              "                                       ('knn', KNeighborsClassifier())]),\n",
              "             param_grid=[{'knn__leaf_size': [15], 'knn__n_neighbors': [3],\n",
              "                          'knn__weights': ['distance']}],\n",
              "             scoring='accuracy')"
            ]
          },
          "metadata": {},
          "execution_count": 45
        }
      ]
    },
    {
      "cell_type": "code",
      "source": [
        "grid.best_params_"
      ],
      "metadata": {
        "colab": {
          "base_uri": "https://localhost:8080/"
        },
        "id": "hdCVwg3JNFlS",
        "outputId": "bb3b3ca6-dbcf-4f4e-dd9d-58d844e2ae81"
      },
      "execution_count": null,
      "outputs": [
        {
          "output_type": "execute_result",
          "data": {
            "text/plain": [
              "{'knn__leaf_size': 15, 'knn__n_neighbors': 3, 'knn__weights': 'distance'}"
            ]
          },
          "metadata": {},
          "execution_count": 46
        }
      ]
    },
    {
      "cell_type": "markdown",
      "source": [
        "Image refers to the best parameters after tuning them ,for saving time cut outs from the original hyperparameter tuning is added\n",
        "\n",
        "![image.png](data:image/png;base64,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)"
      ],
      "metadata": {
        "id": "iBi2L59B3K5k"
      }
    },
    {
      "cell_type": "code",
      "source": [
        "grid.best_score_"
      ],
      "metadata": {
        "colab": {
          "base_uri": "https://localhost:8080/"
        },
        "id": "l0vDnXBGNFg1",
        "outputId": "c57c7a72-2b07-497d-8161-0fc5ab0a7b79"
      },
      "execution_count": null,
      "outputs": [
        {
          "output_type": "execute_result",
          "data": {
            "text/plain": [
              "0.9950042996272245"
            ]
          },
          "metadata": {},
          "execution_count": 47
        }
      ]
    },
    {
      "cell_type": "code",
      "source": [
        "grid.best_estimator_"
      ],
      "metadata": {
        "colab": {
          "base_uri": "https://localhost:8080/"
        },
        "id": "bNLychpXNFeC",
        "outputId": "9d2d290a-7ace-44fa-c72e-f0293f4a05ab"
      },
      "execution_count": null,
      "outputs": [
        {
          "output_type": "execute_result",
          "data": {
            "text/plain": [
              "Pipeline(steps=[('sc', StandardScaler()),\n",
              "                ('knn',\n",
              "                 KNeighborsClassifier(leaf_size=15, n_neighbors=3,\n",
              "                                      weights='distance'))])"
            ]
          },
          "metadata": {},
          "execution_count": 48
        }
      ]
    },
    {
      "cell_type": "code",
      "source": [
        "knn2 = mymodel(grid.best_estimator_)"
      ],
      "metadata": {
        "colab": {
          "base_uri": "https://localhost:8080/"
        },
        "id": "OYYBp84KNIPJ",
        "outputId": "ca52cafa-a042-4ffd-d2ac-9cf32109362f"
      },
      "execution_count": null,
      "outputs": [
        {
          "output_type": "stream",
          "name": "stdout",
          "text": [
            "Training Accuracy : 1.0\n",
            "Testing Accuracy : 0.9956099145180185\n",
            "\n",
            "\n",
            "              precision    recall  f1-score   support\n",
            "\n",
            "         0.0       1.00      0.99      1.00     86106\n",
            "         1.0       0.99      1.00      1.00     86328\n",
            "\n",
            "    accuracy                           1.00    172434\n",
            "   macro avg       1.00      1.00      1.00    172434\n",
            "weighted avg       1.00      1.00      1.00    172434\n",
            "\n"
          ]
        }
      ]
    },
    {
      "cell_type": "markdown",
      "source": [
        "##*5. XGBClassifier Algorithm*\n",
        "\n",
        "---\n",
        "\n"
      ],
      "metadata": {
        "id": "E2vhNkaSNBd2"
      }
    },
    {
      "cell_type": "code",
      "source": [
        "'''parameters = {'max_depth': [5,6,7,8],\n",
        "'gamma': [0.01,0.001,0.001],\n",
        "'min_child_weight':[1,5,10],\n",
        "'learning_rate': [0.05,0.1, 0.2, 0.3],\n",
        "'n_estimators':[5,10,20,100]}\n",
        "'''\n",
        "parameters = {'max_depth': [5],\n",
        "'gamma': [0.01],\n",
        "'min_child_weight':[1],\n",
        "'learning_rate': [0.3],\n",
        "'n_estimators':[100]}"
      ],
      "metadata": {
        "id": "QAL3Vf07NOpZ"
      },
      "execution_count": null,
      "outputs": []
    },
    {
      "cell_type": "code",
      "source": [
        "from sklearn.model_selection import GridSearchCV\n",
        "grid = GridSearchCV(XGBClassifier(), parameters, verbose=2)\n",
        "grid.fit(xtrain, ytrain)"
      ],
      "metadata": {
        "id": "HImZJuS0NSWI",
        "colab": {
          "base_uri": "https://localhost:8080/"
        },
        "outputId": "11de5548-3f32-4bac-ca00-40cfc80ce05d"
      },
      "execution_count": null,
      "outputs": [
        {
          "output_type": "stream",
          "name": "stdout",
          "text": [
            "Fitting 5 folds for each of 1 candidates, totalling 5 fits\n",
            "[CV] END gamma=0.01, learning_rate=0.3, max_depth=5, min_child_weight=1, n_estimators=100; total time=  35.3s\n",
            "[CV] END gamma=0.01, learning_rate=0.3, max_depth=5, min_child_weight=1, n_estimators=100; total time=  34.1s\n",
            "[CV] END gamma=0.01, learning_rate=0.3, max_depth=5, min_child_weight=1, n_estimators=100; total time=  34.2s\n",
            "[CV] END gamma=0.01, learning_rate=0.3, max_depth=5, min_child_weight=1, n_estimators=100; total time=  34.3s\n",
            "[CV] END gamma=0.01, learning_rate=0.3, max_depth=5, min_child_weight=1, n_estimators=100; total time=  34.0s\n"
          ]
        },
        {
          "output_type": "execute_result",
          "data": {
            "text/plain": [
              "GridSearchCV(estimator=XGBClassifier(),\n",
              "             param_grid={'gamma': [0.01], 'learning_rate': [0.3],\n",
              "                         'max_depth': [5], 'min_child_weight': [1],\n",
              "                         'n_estimators': [100]},\n",
              "             verbose=2)"
            ]
          },
          "metadata": {},
          "execution_count": 51
        }
      ]
    },
    {
      "cell_type": "markdown",
      "source": [
        "![image.png](data:image/png;base64,iVBORw0KGgoAAAANSUhEUgAABaEAAAEnCAYAAACwmI+FAAAAAXNSR0IArs4c6QAAAARnQU1BAACxjwv8YQUAAAAJcEhZcwAAFiUAABYlAUlSJPAAAMyiSURBVHhe7b1tzFXVm9+//ZchijqomGJltNWxBBUdrBgqlD7c1JL6sygEjfHF0EQTeKMktKHGF1p4YYzJmDCmv0CCmfiGGCQYfYcGEkMgteIvpOJDzLRNIT7QAcXf+JBamfv/+yzOdXuxXHuftc/Z+zzc9/eT7Jxz9tln7/VwrbWu9d3XXueSZcuWTRYdJicnp7bz588XP//8c3H55Zd3vp2e3H777cWmTZuKw4cPF3v37u3svZjnnnuuuP7664t9+/YV77zzTth33333Fffcc0/x5ptvht+fOXOm2LZtW/jO4Jj169cXBw8e/NW5c65bhv32s88+K15++eXO3oshzddee23x+9//vvjtb39bfP7551P7gbQ++eSTxQ033FDs2LHjou/jvIoL5UJbsLKi7BYvXly7nGKbsLr09rNgwYJi8+bNxffffz+1z+pz586dxUcffRT2WRqwg9tuu604cOBAbVvqBa67cOHCi9IihscjjzxSrFq1aiBttql2EEMeVq9ePTAbHkVy+vV+SPUrnqrxqi4pm0z1YTOduD01Qd3+oI00DIPcfHRrB7lYe/nf//t/F//gH/yDLB8wNd7PBAY5RuUyjnZPmsFsJzX+DsPmmqrfptqm0cSY2nSapiNWzsw3/+iP/ijs66Vd2XlsXmxlD+M+PgkhhLiY/6/zKkrAubrxxhuDQ+edK94///zzYTKNc8fkmgHUs2jRouKnn34a2oT7xx9/DK8rVqwIrzns3r27+Pbbb4MjiwMgLtgAwjx1bk7Q/v37QzktX748fM6B8qRcv/jiiymRB9vA4eL8fAfr1q0rLrvssuDQG/Z+YmIivJImbiBs3769OHXqVNgnRJs01Q5SHDlypDh79mxx6623dvaIcYZ6pJ/zY+Ynn3xSzJ49O9iQEOMMvt79998fxmUCEVLkjvdC5III6oXQQ4cOhTkGcw2QzYlBg81t2LAh2BgBT/2ArXJjxWwXP/PYsWPF3LlzQ6CNEEKI6YMioaM7rzE50RKIM3EUHwNz1d3zbtetwn7bLRKadJ84caK46aabptLgIykY7ONIaOg1upHfLVmypPPpF06ePDl1fUv7nDlzwmewcrMyO336dDF//vxi3rx5xfHjx8MxnNfOY+nmOBwTxCvK8YEHHggOuY+0s7oxfvjhh9qReKlywpkn2iS+XhVldU6dcKODvFKfcbQLWD7Ia1xfKftrE8qjKhLa8mOk0hXbSpwvK/M33nijeOyxx6bsxcoIrJwQt6yO6bO83cb2lqp/6nLNmjXF22+/XaxcuTLYHXi7NeK8GT5d3fB2gJ1bOcRps/Zg6YE4/6m0QFyeZq+zZs0Kn1N21I2m2kEKyys3VHLLMRdLd7/9ha8Pb9NWBojxdcs0VYexLcVpiu2yWzuI6z7G8lLWDurYtkGa4nGzW7/RK7n1260cgWPIO8Ligw8+mOx36hC34biNp+ouPianD/OQh6qoxLgcoE5/kOoHDCs/S1+c/7h/7va9p6y/s7rpVpa57aAuVj9xpGnueN8Uvg+FsnEll5y6iY8Bb0tldQb+uG5t08ryww8/LO64447QFqgvbnbFZRm3F7C6TX3niesEW/d+Spwus/c9e/YUa9eunSqHsvT766b6n7rYec327HOuzdnx0IuN5NYvxHXsv6/TNlM2V9aWLH+9RELnpqlbO7Hvu81rjG5tYZSxvEJqfOgFK4+4f47bZtXYIYQQYvRQJHQFDKhMpBGSqwZTHDccfR/Fx2SYu7dMiIbJBx98EKLPcKhywVnC8br66qs7e7qDQ4Bw/dprrxWPP/548dJLL4Uy8Q4U5YlTh7PLMWw4Y0yYffooO+5+8x2ixZVXXhkcEB/JgSN3xRVXhOsRNcxE4PXXXw/fWbQwx95yyy1T13r22WdDdDh37UlLLtdcc81FNoBThFhjZZsb2WfHffPNN+GVNLz44ovFd999FxxyrmM29/XXX4djgLJdunRp8fHHH4e8XnXVVZ1vRgvLD1iZUz/UL2Vm2Hs7BlshX0888UTYb1DH7GNCxXHYADbmbYUJEGVD3bLFUfy0TcqP35vjn4J6fOihh4Ld2bU4t083Ey6eeCC9HEPecHzLJkDdwLFGzLG0Y5u0DwM7xaHmWpYmnG5LE+3K9pMOa3tsW7duvcheOS8Oun2PPTNZGEY7SGHR/0R2tUET/QX5ZmJFW+X3THDZz+/qCtDWVmjrXIfrWZ/pwXa5ltkcx/IbbNGDrfrjiISjbkgjNrRx48bwW9JOn2x5ZPMTu1Q78DaXy9GjR8P49/TTT4c08HvOgxhQV+jIIad+ySd5snIoA6Ho4YcfLt56661wPO077ndyIN/kH6yOGfu8wABxHxaPUbl9WA6ch/7Y9xXYQ13KxiFEFtJ/7ty5qfwjitq1eKKMvsjKkvZCX8V32FoZuX1vVVnWaQdNkDPetwHtjHOTJ8oL/LiSQ07dgY3ZlKkd58ee3DEqt23efffdoV1Sd/fee2/wk7AB/ETSTBmTxjIf07clzsG1fNq9LWFznNdsjldskDq0tgn0F5SDlRV5pO6tz+RYbBCh2K7D1oSwyHXos81fHLTN5dZv3O9Q5mDjQ5222c0vaorcNOX2YTnzmtzxfibBmIJtmU0Dde3nm2zUFXUmhBBiPJAI3QA4tvGSHINYigPH65VXXpnacKDt+gaTwa+++mrqcb22wLlFiEEoBSsTHChz2HHWcFp9mXz66afh1QveOHw8ng842O+//35478EpQegAjmEC8OWXX4bPBg4JS6YYXJ/j/AQap8+Xod9w/Eg7eTA4nknuCy+8EMq2DuSRtIJN8nBKcaQM0kX6DNJA2eLkYk+jDMu+kHbEToM6QBDzN2hw3v1kL2UrYJMac/bNCY1txcS/VP3WgQmBXYs0IQjiAIPZAek0+8XWsfleJ3ZMamyixobA68sA2/VOdZymHDgX9soTEf5ctB3KiYkRDLIdGEwk7Br0Zdxs8H1DkzTVX7Dv1VdfDe8RO0w8Zx/f5UJbQaTlmmW/o49gsurLhWPpM+Lln7ALH8lGXslnPB7kUNUOOB9t19uHbbt27ZqaTJMvlgpCBNyyZcuUAOHbfZPk1G8unMtHVKXGqBxM+PO2QXmaMGg02YdVYfYU9wV14Sa1YfZgAhB9od2ompiYCPXPkj0G4zp9Zh1/pE7f20RZ+n4p3mIBsoqc8b4NGFdM4KS8UmNrNyYy6s7qxd+YbBt8CbNdAiXim5akI8fH7Ab9GOKg73t55XNqaQD6TOvbSCO+mvWZ5tP5wIKYXmyOfaSTa1k51LU58sRYzubLrElS/Q71xPtexqgm/KJh0G1eY+VUNd5T59hDyk7YrB+eLmDfiM2+3QN1jd2zXwghxHgiEbohiHgmIsIcBSIc/aSpDbijbneB2cocSZzwm2++uZazx0Tc33nuBg62d865Fo4Tk0A/QYmd7UcfffRXj7v5SU2ZoxHv9xNjDwKavx5il4eJgy9DvzGZIR2kB7wg3C19KShPjmd5FB4RJKLHxB6gDBH0mPzhpOJsss8mlMB3vYp+bYNjSBtAdPJlTnSanwSnHGmOiYnLFieUaAdfZoPC7MCLf9h6P087xJNS6tnbFg44wp6VEeXqH+fNwSbA8Q0r2h3nson5INuBQT3aNRDmiADi3G3QVH8B9LG0XUSKXsVz2oq/aZfCotyInPVp4jP7LeoN4n6BvJLnpifm5JNxxtuHbT4SCdsligub4TsECGxu2PU7KOjjYuF02Ji9mCjXK+YXcD76QvoRf5PR+jX6CCLUuRlhtst79sXicRVt9L1V+H4p3nyf142c8X5Uyak7ygGBjLGb7+sI9L3iy6zMF8rxMbvBuEjdxW2Xz+z3gnbsK1sfaaI0n3kCxMbgVB/Yi80RfU19+PFnFG2urN+xG0l1x6gm/KJhQB9W5S/ljPf8HntI2Qmbr+txh76ep7koKx/YAnbThbr3N7+FEEKMDxKhK2DAx3HIiSLBCbS78W1OkHoBYQBn3SZw3SAPKSepClvCA4ffHEMm4OaIA5MDHCovnhOhgRPfBjj7OG5cw67HteuC485Ei1cvCNd1nq08WdOQqEUTbEwoBLM5bIgJni+/OhP3YUEbsEcJ/WYTKdoRy0CQX38c0VujDvXvRXZsHXGtDccfp5pISmzGyojyonx7Ib5hZVudtDfVDlLQfzKZpr0Oa0JRp79AhDBho4n8V0GUna8zttxHT4chxtLGqUNs1+yEfox8YD/TLVprpmHjGG0A23/vvfeCj8TyCLx6iP7jZkRsv77/yGGQfW9T5Iz3o0xO3VH+7KPPxOdFqKat5/qaTTNoHzMXyoS0WB+IDfcj2jNWcR7y6dvAuNtcN5r2i0aRfsb76QL9BzdREN+5kWI3WQw+c6OH/okbGTbvlG8hhBDjg0ToLiAkE23A49NVMCgiuhIBfeeddwYRNx44hwn58NFKZTD480hYnQguHGkezY+FrniiyYQVZ7GtdV89pIkJMc5qlfOGI4PzktosYgUhh0mMj+Tg/HWj3S3KOf4NZY6zZednwk05xcekIstHCcopjtCMsclQW2vDtoW1i3iC4G8SNIlFWtkSA71iNtftBsYg20EVdW9+NUVufwFMhFlegv4Oe+hlvWCgHdAeDNoN7ccgLZRHLyK3tUEfodcEtANsPmUnFpFkbZx+zENahi0GDYo6N7AHCfblozjN7utgfcqll14a+hUeMSevCF/Uu934oP5jG++FQfe9cSSt3+oIh7nj/ShSt+7oMxHKEHzJG3kcBk35mPRVqXxY3fXar5pojy37Jwfr2BxjtQnQcRsYRZuz8TxegseCdercKG3KLxpFcsZ77CB+itBv00GEJY+s+429dvujQcZZAlwQo7lpljPHFUIIMRpIhO4CEywGN/tjE4P3zzzzTOfTBUywxrlqSpRpCluLrGrCiaPK3WeIH3/KoZvQFYuUlCFRDXUflcwhJQLgvNddjgNsLUTSa+diLVgc6JQzjGiHQ2jinUGa7PFVcxYpc5Yh8OKXTaBsTVGw971OrixNlEFbWDnZH6KlSImipI0yGQd6EQR7wSa5Numytpl67NSOTa2z6m2uqu4H2Q5ScE762NTNCb5D4CSNZXbVL7n9Bd+RHsqB9VIRFWi7VTafAjGAvnDC/Sli3BdSDvYYd53JJekgPYxBfgJnefTLGtSFNFEuKTuxaC2O4dqxOL98+fLkzdlB1O8woE3QNvwfrpI/onmHgT3+zg1j7JiNp1LwWepgdnTXXXeFz9Qnvg8iNFh/ZGOV/5PFfmiq7+3WDkwoTG11luPguJzx3hildtBr3dl4FYu0VWNUk9TxMRHavRDssbZCXVldVNVdXbBlf8M11+awI8aDlAANdW2O7zhPv0saVNVvajzw46jNTaBb27Tr5PhFTdEtTU1BOXUb70nLuC/HYf1cmc0xXtIuuwnQnrIb30IIIUaXS5YtWzbZeV9MTk5ObefPnw9RS3WjZMYNc2J4FLxqAI8FCYRp+wMcwztERDpUnS/3uinKHC/qywZuhB/qzqfR8mB/XJMSWcqc227gTKScfaJS/B9mecGR9PKP6zjIlAPOKJNiHD5LHxFQ/J48I1KRPxxd289kg+tyHq5BueDI2UTOlxN1xiO899xzz0VpyiGesMf5Mvxx/g+CPDiYPDJqpMo8lXZfl2U2ACnbtLouS3c3yuoXfPrjcjJ8e4jPRTnhPBJRa+n2dV+W1jIb97/LSbcdgw1ZGq18zZYgrjcjVd5VpM6dIm6f7777bpjIEQ0f/y5OW5ymVNrrphuaage+HwDfd8V4W++lf/I20U9/AXwfR+jY76DKXmN8nVCOe/bsKdauXfur+o3tAHyZxmUJZeWUap/WNnPbQS5xuspsZVD1mypH8LZHndg4Y/WbKpdcYpuKy6CpPiy+jsfbSnwcdY8g5vveHKwszXbsvODzl0qXL+/cdOf0vTllaVS1g1xS7Q7ivixOe5mN+7LopR1Ynsx/MlLlkkMvdVfVj8fl4OuuW9tEQOVa1pZ9nrgR6uvY1wu/p92ajxnXb1yHcbl3+z7VX8Sk2m8vflhVW+nV5nw76MXmPFX1C3Edp/wC6NY24/Ok/KK43oxeyh2q0tStD9u9e/dF7dL3Sfw2tp9UWygrq1GhrP1C3K+anaT6itiGPHFfH9dvv/YrhBBisEiE7jgQvYjB/TCs67aB5SUWKmw/URCj7EDNBKwuiEKuOxkV5UKU7UeslAPcHjbJqSsUzQSYkPUiMo0Sql9Rxkzqe9UOxKAx4U8inhBCCCEGhZbjEH1D9BnRgTG2X49IDR8e+ydSg0c1JUDXh8c/U5GItr/OuoaiHtxAIXKISBj/6K6YHqh+RRUzpe9VOxCDhghfluchQrjfdbSFEEIIIXJRJHQnQtQeper1ca1c4seIpkvES9ljVIroGS4WLQZVj4yK7qQeObRHCu1x4dQjmR61h3pYfznqj6MaZY8Be5rOyzhHQo9b/VY9dmzEj6GPCzZWpARfI/UI9SCo6nunw5g2iHYQ+7plaIyaGZjNjWt/JYQQQojxZcaL0EIIIYQQQgghhBBCCCHaQ8txCCGEEEIIIYQQQgghhGgNidBCCCGEEEIIIYQQQgghWkMitBBCCCGEEEIIIYQQQojWkAgthBBCCCGEEEIIIYQQojUkQgshhBBCCCGEEEIIIYRojUuWLVs22XlfTE5OTm3nz58vfv755+Lyyy/vfDs9uf3224tNmzYVc+bMCZ9/+OGHYufOncVHH30UPjfNc889V9x4442dT0Vx4MCBYu/evZ1PQowmg24nTWPpnz17drFv377inXfe6XwjxGhgNvrZZ58VL7/8cmfv4LjvvvuK9evXFwcPHpzWY9IjjzxSrF69ujh79myxY8eO4vPPP+98M3jwB/CxctJR1YctWLCg2Lx5czFv3rzwGd8tt5+rk4a28Onv1ScahXyI/hiltinGlyeffLJYsmRJ51NRHD9+vPUxtYk+TAghhJgpKBK6A07D448/HpyXlLCGc/zKK69MbS+++GJwOmw/rzF8z3FMjoxt27aF67z00ktByOsFJqM4VD49bLt27QpCAnBN9pEfD/stPXwXn8PyJX6NlSmbL+u68Dt+b+fy9mGY7dgx1Df1HuOPS9lgU9AmsBdsF4dejA7Uez/2WJcm2kHcn7K1ab8iPR61SVzHZX2Y6B/Euq1bt4b+GV9GlNN0OzA/qux8OeP9dGfQY1QO1MO4+buxX8iWGjcHbXNN1W9TbZOxpt95ljHocXOcsTG/n3YV2678BiGEmJ5IhM4A52PVqlXFa6+9FhwbNiKMNmzYEMQ5nJxbb721c/Qv3HbbbcXcuXOLTz75pLOnWRADLT1sGzduvCjyiXRdd911lc4AESfPPvvs1Dm+//778HmUJgujADZAlJWV1YkTJ0LUYN1y4niLNuQ8OMnXXnvtRQ4u9UVEBXVh9XLmzJkQBeedMSa/pOf06dOdPaIME9HjNiLq0VQ7IErIbJsN4YwIuNSEWowf1GM8Zqb6sGFgtodoO06RltO5D/Mi+rhEEJpYcuWVV5YKXTnjvfiFcW2bg+KJJ564yC9kDkA/68df2dxwGMc+rCkY0xGL/+zP/qxgTtkrnGfNmjVTtouf+eOPP4a5dq+ithBCiNFEInQXmEyzfAaDop/48f75558PE0Mm1zh58eR60aJFxU8//RSOGQYM3rBixYrwmsPu3buLb7/9NjiyGvQvgA1cf/31oc5tYrR///5QTsuXLw+fc6A8KdcvvvhiyknFNg4fPhzObxOJdevWFZdddll4nNqw9xMTE+GVNN1www3F9u3bi1OnToV9QrRJU+0gxZEjR8LkJXUzT4wf1CP9nB8zuRnLUhLYkBDjDL7e/fffH8blN998s7P3YnLHeyFy4UlKNuPQoUNhjsFcA2RzYtBgc4jE2Nhvf/vbzt7ewFa50Wq2i5957NixEMxFUJcQQojpg9aE/sNkgugsBlAb+DwW+Ve1Ph3iDFF8fh0wBmaLZvVOo9HtulXYb6vWDrV0E6l40003TaXBoiH4zGCPkBnnjf2LFy/OXlPS4Hd+HTbj5MmTU9e3tNvawmDlZmVGZO/8+fPD2mq29APntfNYujkOxwTxinJ84IEHgkPu1yq2ujGIWKq7lnGqnHDmiTaJr1dFWZ1TJ9zosHXrfB0Zlo/UWokp+2sTymPhwoWl+bb8GKl0xbYS58vK/I033igee+yxKXuxMgIrJ8Qtq+N4LdTY3lL1T10SffH2228XK1eunFpX1dutEefN8OnqhrcD7NzKIU6btQdLD8T5T6UF4vI0e501a1b4nLKjbjTVDlJYXrmhkluOuVi6++0vfH14m7YyQIyvW6apOoxtKU5TbJfd2kFc9zGWl7J2UMe2DdIUj5vd+o1eya3fbuUIHEPeERYffPDBZL9Th7gNx208VXfxMTl9mIc8EB1ZNn7H5QB1+oNUP2BY+Vn64vzH/XO37z1l/Z3VTbeyzG0HdbH6IRjB21PueN8Uvg+FsnEll5y6iY8Bb0tldQb+uG5t08ryww8/LO64447QFqgvbnbFZRm3F7C6TX3niesEW/d+Spwus/c9e/YUa9eunSqHsvT766b6n7rYec327HOuzdnx0IuN5NYvxHXsv6/TNlM2V9aWLH+9/M9Cbpq6tRP7vtu8xujWFkYZyyukxodesPKI++e4bVaNHUIIIUYPRUJXwIDKRBohuWowxXHD0fdRfG0vxZHLBx98EKLPcKhywVnC8br66qs7e7qDQ4BwbY9f21ps3oGiPHHqcHY5hg1nLH6ckLLj7jffIVrwuCsOiI/kwJG74oorwvWIGmYi8Prrr4fvLFqYY2+55Zapa/X6aNc111xzkQ3gFCHWWNnmRvbZcd988014JQ2snfbdd98Fh5zrmM19/fXX4RigbJcuXVp8/PHHIa9XXXVV55vRwvIDVubUD/VLmRn23o7BVsgXj5p6qGP2MaHiOGwAG/O2wgSIsqFu2eIoftom5cfvzfFPQT0+9NBDwe7sWpzbp5sJF088kF6OIW84vmUToG7gWCPmWNqxTdqHgZ3iUHMtSxNOt6WJdmX7SYdf+sA/zszxnBcH3b7HnpksDKMdpLDofyK72qCJ/oJ8M7GirfJ7Jrjs53d1BWhrK7R1rsP1rM/0YLtcy2yOY/kNtujBVv1xRMJRN6QRG2IJB35L2umTLY9sfmKXagfe5nI5evRoGP+efvrpkAZ+z3kQA+oKHTnk1C/5JE9WDmUgFD388MPFW2+9FY6nfcf9Tg7km/yD1TFjnxcYIO7D4jEqtw/LgfPEy6RgD3UpG4cQWUj/uXPnpvKPKGrX4oky+iIrS9qLPcKOrZWR2/dWlWWddtAEOeN9G9DOODd5orzAjys55NQd2JhNmdpxfuzJHaNy2+bdd98d2iV1d++99wY/CRvATyTNlDFpLPMxfVviHFzLp93bEjbHec3meMUG4/Vu6S8oBysr8kjdW5/JsdggQrFdh60JYZHr0Gebvzhom8ut37jfoczBxoc6bbObX9QUuWnK7cNy5jW54/1MgjEF2zKbBurazzfZpuMyVUIIMZ2RCN0AOLbxkhyDWIoDx8v+vKHsDxyYDH711VdTj+u1Bc4tQgxCKViZ4ECZw46zhtPqy+TTTz8Nr17wxuHj8XzAwX7//ffDew9OCUIHcAwTgC+//DJ8NnBIWDLF4Poc5yfQOH2+DP2G40fayYPB8UxyX3jhhVC2dSCPpBVskodTiiNlkC7SZ5AGyhYnF3saZVj2hbQjdhrUAYKYv0GD8+4neylbAZvUmLNvTmhsKyb+peq3DkwI7FqkCUEQBxjMDkin2S+2js33OrFjUmMTNTYEXl8G2K53quM05cC5sFeeiPDnou1QTkyMYJDtwGAiYdegL+Nmg+8bmqSp/oJ9r776aniP2GHiOfv4LhfaCiIt1yz7HX0Ek1VfLhxLnxEv/4Rd+Eg28ko+4/Egh6p2wPlou94+bPN/TEW+WCoIEXDLli1TAoRv902SU7+5cC4fUZUao3Iw4c/bBuVpwqDRZB9WhdlT3BfUhZvUhtmDCUD0hXajamJiItQ/S/YYjOv0mXX8kTp9bxNl6fuleIsFyCpyxvs2YFwxgZPySo2t3ZjIqDurF39jsm3wJcx2CZSIb1qSjhwfsxv0Y4iDvu/llc+ppQHoM61vI434atZnmk/nAwtierE59pFOrmXlUNfmyBNjOZsvsyZJ9TvUE+97GaOa8IuGQbd5jZVT1XhPnWMPKTths354uoB9Izb7dg/UNXbPfiGEEOOJROiGIOKZiAhzFIhw9JOmNuCOut0FZitzJHHCb7755lrOHhNxf+e5GzjY3jnnWjhOTAL9BCV2th999NFfPe7mJzVljka830+MPQho/nqIXR4mDr4M/cZkhnSQHvCCcLf0paA8OZ7lUXhEkIgeE3uAMkTQY/KHk4qzyT6bUALf9Sr6tQ2OIW0A0cmXOdFpfhKccqQ5JiYuW5xQoh18mQ0KswMv/mHr/TztEE9KqWdvWzjg/l/CKVf/OG8ONgGOb1jR7jiXTcwH2Q4M6tGugTBHBBDnboOm+gugj6XtIlL0Kp7TVvxNuxQW5UbkrE8Tn9lvUW8Q9wvklTw3PTEnn4wz3j5s85FI2C5RXNgM3yFAYHPDrt9BQR8XC6fDxuzFRLleMb+A89EX0o/4m4zWr9FHEKHOzQizXd6zLxaPq2ij763C90vx5vu8buSM96NKTt1RDghkjN18X0eg7xVfZmW+UI6P2Q3GReoubrt8Zr8XtGNf2fpIE6X5zBMgNgan+sBebI7oa+rDjz+jaHNl/Y7dSKo7RjXhFw0D+rAqfylnvOf32EPKTth8XY879PU8zUVZ+cAWsJsu1L2/+S2EEGJ8kAhdAQM+jkNOFAlOoN2Nb3OC1AsIAzjrNoHrBnlIOUlV2BIeOPzmGDIBN0ccmBzgUHnxnAgNnPg2wNnHceMadj2uXRccdyZavHpBuK7zbOXJmoZELZpgY0IhmM1hQ0zwfPnVmbgPC9qAPUroN5tI0Y5YBoL8+uOI3hp1qH8vsmPriGttOP441URSYjNWRpQX5dsL8Q0r2+qkval2kIL+k8k07XVYE4o6/QUihAkbTeS/CqLsfJ2x5T56OgwxljZOHWK7Zif0Y+QD+5lu0VozDRvHaAPY/nvvvRd8JJZH4NVD9B83I2L79f1HDoPse5siZ7wfZXLqjvJnH30mPi9CNW0919dsmkH7mLlQJqTF+kBsuB/RnrGK85BP3wbG3ea60bRfNIr0M95PF+g/uImC+M6NFLvJYvCZGz30T9zIsHmnfAshhBgfJEJ3ASGZaAMen66CQRHRlQjoO++8M4i48cA5TMiHj1Yqg8GfR8LqRHDhSPNofix0xRNNJqw4i22t++ohTUyIcVarnDccGZyX1GYRKwg5TGJ8JAfnrxvtblHO8W8oc5wtOz8TbsopPiYVWT5KUE5xhGaMTYbaWhu2LaxdxBMEf5OgSSzSypYY6BWzuW43MAbZDqqoe/OrKXL7C2AizPIS9HfYQy/rBQPtgPZg0G5oPwZpoTx6EbmtDfoIvSagHWDzKTuxiCRr4/RjHtIybDFoUNS5gT1IsC8fxWl2XwfrUy699NLQr/CIOXlF+KLe7cYH9R/beC8Muu+NI2n9Vkc4zB3vR5G6dUefiVCG4EveyOMwaMrHpK9K5cPqrtd+1UR7bNk/OVjH5hirTYCO28Ao2pyN5/ESPBasU+dGaVN+0SiSM95jB/FThH6bDiIseWTdb+y12x8NMs4S4IIYzU2znDmuEEKI0UAidBeYYDG42R+bGLx/5plnOp8uYII1zlVTokxT2FpkVRNOHFXuPkP8+FMO3YSuWKSkDIlqqPuoZA4pEQDnve5yHGBrIZJeOxdrweJAp5xhRDscQhPvDNJkj6+as0iZswyBF79sAmVrioK973VyZWmiDNrCysn+EC1FShQlbZTJONCLINgLNsm1SZe1zdRjp3Zsap1Vb3NVdT/IdpCCc9LHpm5O8B0CJ2kss6t+ye0v+I70UA6sl4qoQNutsvkUiAH0hRPuTxHjvpBysMe460wuSQfpYQzyEzjLo1/WoC6kiXJJ2YlFa3EM147F+eXLlydvzg6ifocBbYK24f9wlfwRzTsM7PF3bhhjx2w8lYLPUgezo7vuuit8pj7xfRChwfojG6v8nyz2Q1N9b7d2YEJhaquzHAfH5Yz3xii1g17rzsarWKStGqOapI6PidDuhWCPtRXqyuqiqu7qgi37G665NocdMR6kBGioa3N8x3n6XdKgqn5T44EfR21uAt3apl0nxy9qim5pagrKqdt4T1rGfTkO6+fKbI7xknbZTYD2lN34FkIIMbpcsmzZssnO+2JycnJqO3/+fIhaqhslM26YE8Oj4FUDeCxIIEzbH+AY3iEi0qHqfLnXTVHmeFFfNnAj/FB3Po2WB/vjmpTIUubcdgNnIuXsE5Xi/zDLC46kl39cx0GmHHBGmRTj8Fn6iIDi9+QZkYr84ejafiYbXJfzcA3KBUfOJnK+nKgzHuG95557LkpTDvGEPc6X4Y/zfxDkwcHkkVEjVeaptPu6LLMBSNmm1XVZurtRVr/g0x+Xk+HbQ3wuygnnkYhaS7ev+7K0ltm4/11Ouu0YbMjSaOVrtgRxvRmp8q4ide4Ucft89913w0SOaPj4d3Ha4jSl0l433dBUO/D9APi+K8bbei/9k7eJfvoL4Ps4Qsd+B1X2GuPrhHLcs2dPsXbt2l/Vb2wH4Ms0LksoK6dU+7S2mdsOconTVWYrg6rfVDmCtz3qxMYZq99UueQS21RcBk31YfF1PN5W4uOoewQx3/fmYGVptmPnBZ+/VLp8eeemO6fvzSlLo6od5JJqdxD3ZXHay2zcl0Uv7cDyZP6TkSqXHHqpu6p+PC4HX3fd2iYCKteytuzzxI1QX8e+Xvg97dZ8zLh+4zqMy73b96n+IibVfnvxw6raSq8259tBLzbnqapfiOs45RdAt7YZnyflF8X1ZvRS7lCVpm592O7duy9ql75P4rex/aTaQllZjQpl7RfiftXsJNVXxDbkifv6uH77tV8hhBCDRSJ0x4HoRQzuh2Fdtw0sL7FQYfuJghhlB2omYHVBFHLdyagoF6JsP2KlHOD2sElOXaFoJsCErBeRaZRQ/YoyZlLfq3YgBo0JfxLxhBBCCDEotByH6Buiz4gOjLH9ekRq+PDYP5EaPKopAbo+PP6ZikS0/XXWNRT14AYKkUNEwvhHd8X0QPUrqpgpfa/agRg0RPiyPA8Rwv2uoy2EEEIIkYsioTsRovYoVa+Pa+USP0Y0XSJeyh6jUkTPcLFoMah6ZFR0J/XIoT1SaI8Lpx7J9Kg91MP6y1F/HNUoewzY03RexjkSetzqt+qxYyN+DH1csLEiJfgaqUeoB0FV3zsdxrRBtIPY1y1DY9TMwGxuXPsrIYQQQowvM16EFkIIIYQQQgghhBBCCNEeWo5DCCGEEEIIIYQQQgghRGtIhBZCCCGEEEIIIYQQQgjRGhKhhRBCCCGEEEIIIYQQQrSGRGghhBBCCCGEEEIIIYQQrSERWgghhBBCCCGEEEIIIURrXLJs2bLJzvticnJyajt//nzx888/F5dffnnn2+nJ7bffXmzatKmYM2dO+PzDDz8UO3fuLD766KPwuWmee+654sYbb+x8KooDBw4Ue/fu7XwSYjQZdDtpGkv/7Nmzi3379hXvvPNO5xshRgOz0c8++6x4+eWXO3sHx3333VesX7++OHjw4LQekx555JFi9erVxdmzZ4sdO3YUn3/+eeebwYM/gI+Vk46qPmzBggXF5s2bi3nz5oXP+G65/VydNLSFT3+vPtEo5EP0xyi1TTG9MVszTp48WWzbtq3zqR2a6OeEEEKI6YAioTvgEDz++OPFk08+mRTWcFheeeWVqe3FF18MDoXt5zWG7zmOyZGBk8N1XnrppSDk9QKTUUQKnx62Xbt2BSEBuCb7yI+H/ZYevovPYfkSv8bKlM2XdV34Hb+3c3n7MMx27Bjqm3qP8celbLApaBPYC7Z7/Pjxzl4xClDv/dhjXZpoB3F/ytam/Yr0eNQmcR2X9WGifxDrtm7dGvpnfBlRTtPtwPyosvPljPfTnUGPUTlQD+Pq7zZhc7k+ZlNYmpoY55uoOwRg+stnn3023PTol3G2p0GQmreW2W83Yttlk/8ohBDjhUToDBgoV61aVbz22mvBaWEjwmjDhg1BnENMvvXWWztH/8Jtt91WzJ07t/jkk086e5oFMdDSw7Zx48aLIp9I13XXXVfpFOF84YTZOb7//vvweZQmC6MANkCUlZXViRMnQtRg3XLieIs25DzcjLj22msvcsaoL6IlqAurlzNnzoQoOD9JYCJCek6fPt3ZI8owET1uI6IeTbUDmwDahnBGVJImEtMD6jEeM1N92DAw20O0HadIy+nch3kRnfoZB0xUu/LKK0sDCnLGe/EL49o2B0VTNpfrY4pmGcd+ril8IEuZXebyxBNPXGS7zIXxN+r6oUIIIYaHROguMJlm+QwcOj/x4/3zzz8fBlacNwbT2HlbtGhR8dNPP4VjhsGPP/4YXlesWBFec9i9e3fx7bffhsFcd/QvgA1cf/31oc5tYrR///5QTsuXLw+fc6A8KdcvvvhiygHFNg4fPhzObw7UunXrissuuyw8Tm3Y+4mJifBKmm644YZi+/btxalTp8I+IdqkqXaQ4siRIwU3xFI388T4QT3Sz/kxk5uxLCWBDQkxzuDr3X///WFcfvPNNzt7LyZ3vBcihyZtLsfHFKJNsEuWHkvNnbvBE8V+6ZRDhw6FuTZzbiGEEOOB1oT+w+DH3X+ctNSdaYv8q1qfDnGGKD6/xpePNEitM9btulXYb6vWDrV0E6l40003TaXB7jrzmbvSCJlx3ti/ePHi4JR6EaEb/G7JkiWdT7/g11qztNvawmDlZmVGZO/8+fPDumm29APntfNYujmOaHPEK8rxgQceCI6IX6vY6sYgeqTuWsapcsKZJ9okvl4VZXVOnXCjg7xSn76ODMtHaq3ElP21CeWxcOHC0nxbfoxUumJbifNlZf7GG28Ujz322JS9WBmBlRPiltVxvBZqbG+p+qcu16xZU7z99tvFypUrp9ZVTa0RGOfN8OnqhrcD7NzKIU6btQdLD8T5T6UF4vI0e501a1b4nLKjbjTVDlJYXrmhkluOuVi6++0vfH14m7YyQIyvW6apOoxtKU5TbJfd2kFc9zGWl7J2UMe2DdIUj5vd+o1eya3fbuUIHEPeEXkefPDBZL9Th7gNx208VXfxMTl9mIc8EBVWNn7H5QB1+oNUP2BY+Vn64vzH/XO37z1l/Z3VTbeyzG0HdbH6IRjB21PueN8Uvg+FsnEll5y6iY8Bb0tldQb+uG5t08ryww8/LO64447QFqgvbnbFZRm3F7C6TX3niesEW/d+Spwus/c9e/YUa9eunSqHsvT766b6n1zsfL3anLWVOC/UQdwXWB3zVGdZ26wiLkNPt77O21y/dVfWx1n+yuZqVeSmKact5Y5jEPdlZXkbdarGkjqUtYfUWNdrPy+EEKJZFAldAY4DE2mck6oBEscAZ8pH8bW9FEcuH3zwQYg+w2nJBScI5+bqq6/u7OkOzgTCtT1+bWtee0eb8sRxwpmqeoyKsjt27Fj4DtGCRw9xHHwkB87cFVdcEa5HRAcTgddffz18Z5EcHHvLLbdMXYslBIgOZxkV0pLLNddcc5EN4Ngg1ljZ5kb22XHffPNNeCUNrGv23XffBSeS65jNff311+EYoGyXLl1afPzxxyGvV111Veeb0cLyA1bm1A/1S5kZ9t6OwVbIF4/Yeahj9uGIcxw2gI15W2FiRdlQt2xxFD9tk/Lj99hTGdTjQw89FOzOrsW5fbqZuBG1QXo5hrwxmYgnP7ngHOOAW9qxTdqHgZ0ySeFaliYmVZYm2pXtJx1+6QP/ODPHc14mPfY99sykaBjtIIVFZhHR0gZN9Bfkm8kSbZXfM/FhP7+rK0BbW6Gtcx2uZ32mB9vlWmZzHMtvTEQwsFV/HJFw1A1pxIZYwoHfknb6ZMsjm5+QpdqBt7lcjh49Gsa/p59+OqSB33MebpzWFcNyyKlf8kmerBzKQFB4+OGHi7feeiscT/uO+50cyDf5B6tjxr54Uhz3YfEYlduH5cB54mVSsIe6lI1D3FQj/efOnZvKP6KoXYsnyuiLrCxpL/Z4OrZWRm7fW1WWddpBE+SM921AO+Pc5InyAj+u5JBTd2BjNmVqx/mxJ3eMym2bd999d2iX1N29994b/CRsAD+RNFPGpLHMx/RtiXNwLZ92b0vYHOc1m+MVG6QOrW0C/QXlYGVFHql76zM5FhtEILPrsNUVPHMYRR+TMrVywQawBSsDrmvjAfXz1FNPhTHCvieI5tFHHw1lWafurOztO+qOfMU+Zr/kpim3n8sZx8hbE/7csKG+GVfxNXL9pjKwe3wXb9Ocn3bv7Y1trwRoIYQYCSRCNwCOSLwkxyCW4mCy4f+YAYfHrm8wGfzqq69af0wJ5xYhBicWrExwds0xwtHA8fZl8umnn4ZXL3jjyPF4PuBYvP/+++G9B2cWoQM4hgnAl19+GT4bTDpZMsXg+hznnWwcSF+GfmMSYg67Yc76Cy+8EMq2DuSRtIJN8nDAcDgN0kX6DNJA2eLAYk+jDMu+kHacY4M6QBDzN2hwAv2EIWUrYJNWcxptYhXbiol/qfqtA86qXYs0IQgiqoDZAek0+8XWsflexQQmLTYRZ2Mi4csA26X8jDhNOXAu7JXJnD8XbYdy4oYPDLIdGEym7Br0Zdxs8H1DkzTVX7Dv1VdfDe+ZCJp4zj6+y4W2gkjLNct+Rx+BCOLLhWPpM+JHWLELHylFXslnPB7kUNUOOB9t19uHbf6Px8gXSwUhAm7ZsmVK+PTtvkly6jcXzuWj1FJjVA4m/HnboDxNGDSa7MOqMHuK+4K6cJPaMHsw0Ye+0G5UTUxMhPpnyR6DcZ0+s44/UqfvbaIsfb8Ub7EAWUXOeN8GjCsmcFJeqbG1GxMZdWf14m9Mtg2+hNkugRLxTUvSkeNjdoN+DGHL97288pl+28ZNgz7T+jbSiK9mfab5dF4gixmkzVl6jG4+JmXKd22vRc+SXtiXtzne06brLtPF+JXjY44a3cYx0t6EPzcsvP/AzQXaivkavUKZ0F6xXd8fWHu3eYMQQojRQiJ0QxDxTEQEgyyDIhGOftLUBkR4+Du8OB6p6+GE33zzzSFtueAM1Rm8cbC9c861EEpwovwEJXa2cUTix2P9pAbHAkclJt7vJ8YeHC5/PcQuDw6RL0O/MZkhHaQHvLPeLX0pKE+OZ3kUHh0josc7YJQhgh6TPxxQJh/s8xEzfNer6Nc2TLpoA4hOvsyJTvPOP6/kLT4mJi5bnG4mQv06rb1gduDFP2y9n6cd4kkp9extC8fa/8M95Vr22GcZNuGMb1jR7jiXOeqDbAcG9WjXQJgj6qetCVJT/QXQx9J2ESl6Fc9pK0y47aZdCovuIXLWp4nP7LeoN4j7BfJKnuvcsMiBfDLOePuwzYsU2C4RYdgM31lE27Drd1DQx8XC6bAxezFRrlfML+B89IX0I14ksn6NPoLIPm5GmO3ynn2xeFxFG31vFb5fijff53UjZ7wfVXLqjnJA4GTs5vs6Ymmv+DIr84VyfMxuMC5Sd3Hb5TP7vaAd+8rWR5oIymeie20MTvWBg7S5UfQxrb+M5wu8Z19d8TjXxxw1uo1jTflzw8LahqUFSGuduWkM0e30S7EfZjfNKBvKyG6UCiGEGA0kQleAA8TkJ8cBYvCziLE2J0i9gDCAU5k70JOH2BnqBs4Sjr4N+AhmTMDNEQecAAQUL54ToYET3wY4+0yUuYZdj2vXBScdBzZ21usKPFaerGlI1KIJNj4yxWwOG2KC58uvzsR9WNAG7PFVv9lEinbEY4Pk1x9H9NaoQ/17kR1bR1zzk7ymQMQjkhKbsTKivCjfXohvWNlWJ+1NtYMU9J9MImiv5H0Y1OkvmOyZsNG00BsTP07KlhuVNgwxljZOHWK7Zif0Y+QD+9FkcLyxcYw2gO2/9957wUdieQRePUQx+sfTbasrhAyy722KnPF+lMmpO8qfffSZ+LwI1f2KSv0waB8zF8qEtFgfiA23IdrPBB+zG+PsY+bShD83CthTkxOdpUbqgs9Ge6I84rxj58w7KBfq3m7mI4ILIYQYPhKhu4CQzF1WHp+uAhEF0ZUI6DvvvDMZRTFMyEfOI21MHnhkt04EF04fj4jFjlE80WTCiojW1rqvHtLEhBinvEqswSHBMUltFrGCkMMkxkeQcf660e4WgRL/hjInKsXOz4SbcoqPSUWWjxKUUxyhGWOTobbWhm0LaxexIOgncE1iES32aGavmM11m1wOsh1UUffmV1Pk9heAwMryEvR32EMv6wUD7YD2YNBuaD8GaaE8ehG5rQ36CL0moB1g8yk7seU4rI3Tj3lIy7DFoEFhQk/ODexBgn35KE6z+zpYn3LppZeGfoWIM/KK8EW9240P6j+28V4YdN8bR9L6rY5wmDvejyJ1644+kxtjCL7kjTwOg6Z8TPqqVD6s7nrtV020x5b9k4ODtrlR8zGtv8SX8HnlPfv4LjdN4+pj5tCkPzdK9HKznDyaAN1tLGAuSrtDjI5tTAghxHCQCN0FJlhEhNgfmxi8f+aZZzqfLmCCNY5lU6JMU5APqJpw4oTyCB/4dX1z6eYYxSIlZUi0Z91HJXNIiQA4LfHj9TgvfmLrNxPR7bEu0mvnYi1YJhEpkRAnL+XskSZ7fNWiASlzliHw4pdNoGxNUbD3vU6uLE2UQVtYOdkfoqVIOdGkjTIZB9qOejVskmuCkbVNogFj7NjUOqve5qrqfpDtIAXnpI9NTRz5DoGTNJbZVb/k9hd8R3ooB9arRFSg7VbZfArEAPrCiU4EEOeM+0LKwR7jrhM9TDpID2OQF9Qtj35Zg7qQJsolZScWnc0xXDsW51nzM3VzdhD1OwxoE7QN/2dY5I9o3mFg6yhzwxg7ZiNiEJ+lDmZHd911V/hMfeL7IEKD9Uc2Vvk/WeyHpvrebu3AhMLUVmdpBI7LGe+NUWoHvdadjVexSFs1RjVJHR8TIdYLwR5rK9SV1UVV3dUFW/Y3XAdtc3V8TOrflraoMw7FcH3yXBYMY/MnfAqjzL+oqrth+ZhVaWoKX7/9+nPDBruif6GubH5qYLPkoczm2IdflCNAG1wP/46+P7c9CSGEaI9Lli1bNtl5X0xOTk5t58+fD1FLdaNkxg0GO8QdHgXHESwjFiT8H+AYdi6EIiIdqs6Xe90U/joe6sv+UAmni7rzabQ82B/XpESWOoO6p8zZJ9rC/2GWdwZJL/+4joNMOeCIMCnGSbD0EQHF78kzIhX5YyJj+5lscF3OwzUoF4Qbm8j5cqLOeIT3nnvuuShNOeDA+Al7nC/DH2flHIMDxaNhRqrMU2n3dVlmA5CyTavrsnR3o2oy59Mfl5Ph20N8LsoJB54IBUu3r/uytJbZuP9dTrrtGGzI0mjla7YEcb0ZqfKuInXuFHH7fPfdd4OwR6RS/Ls4bXGaUmmvm25oqh3Ek0Lfd8V4W++lf/I20U9/AXyPyOHTar+DKnuN8XVCOe7Zs6dYu3btr+o3tgPwZZqaYJeVU6p9WtvMbQe5xOkqs5VB1W+qHMHbHnVi44zVb6pccoltKi6Dpvqw+DoebyvxcdQ9gpjve3OwsjTbsfOCz18qXb68c9Od0/fmlKVR1Q5ySbU7iPuyOO1lNu7Lopd2YHky/8lIlUsOvdRdVT8el4Ovu25tEwGTa1lb9nlCqPR17OuF39NuzceM6zeuw7jcu32f6i9iUu23Vz8sTo/Ri83F9VflD9h1U2N5HeKyiMuh2/eeqrqJz0O6Uz5mt/GgLmVpyunnfF9VNY5Bqj/sxZ8bJKk0p+wSfP3F/XJVWfq6S9Vvv/YrhBCiOSRCdwa0XsTgfhjWddvA8hILFbafqDgN/MPF6oKog1F2VEcVc4pjIcr2I1amnGnRDDahqCsUzQSY+PYiMo0Sql9Rxkzqe9UOxChibY2bAfLlhRBCCNEvWo5D9A137YkOjLH9RCCI4cJj/0QO8CifBOj68Jixj2QybH8va9qJPLiBQoQQkT7xY5ti/FH9iipmSt+rdiBGFZZSgn7/o0IIIYQQAhQJ3YkQtUd7en1MLpf4ca3pEvGSetQKFNEzXCyCBXp9xFBcIPV4nz3+Z48Lpx4R9Kg91KOpx4AHRdy/p2g6L+McCT1u9ZvqA2JG/bHoMmysSAm+Rj+PqvdDVd87Hca0QbSD2NctQ2OUMKzdtT0vEkIIIcTMYsaL0EIIIYQQQgghhBBCCCHaQ8txCCGEEEIIIYQQQgghhGgNidBCCCGEEEIIIYQQQgghWkMitBBCCCGEEEIIIYQQQojWkAgthBBCCCGEEEIIIYQQojUkQgshhBBCCCGEEEIIIYRojUuWLVs22XlfTE5OTm3nz58vfv755+Lyyy/vfDs9uf3224tNmzYVc+bMCZ9/+OGHYufOncVHH30UPjfNc889V9x4442dT0Vx4MCBYu/evZ1PQowmg24nTWPpnz17drFv377inXfe6XwjxGhgNvrZZ58VL7/8cmfv4LjvvvuK9evXFwcPHpzWY9IjjzxSrF69ujh79myxY8eO4vPPP+98M3jwB/CxctJR1YctWLCg2Lx5czFv3rzwGd8tt5+rk4a28Onv1ScahXyI/hiltimmN2ZrxsmTJ4tt27Z1PrVDE/2cEEIIMR1QJHQHHILHH3+8ePLJJ5PCGg7LK6+8MrW9+OKLwaGw/bzG8D3HMTkycHK4zksvvRSEvF5gMopI4dPDtmvXriAkANdkH/nxsN/Sw3fxOSxf4tdYmbL5sq4Lv+P3di5vH4bZjh1DfVPvMf64lA02BW0Ce8F2jx8/3tkrRgHqvR97rEsT7SDuT9natF+RHo/aJK7jsj5M9A9i3datW0P/jC8jymm6HZgfVXa+nPF+ujPoMSoH6mFc/d0mbC7Xx2wKS1MT43wTdYcATH/57LPPhpse/TLO9jQIUvPWMvvtRmy7bPIfhRBivJAInQED5apVq4rXXnstOC1sRBht2LAhiHOIybfeemvn6F+47bbbirlz5xaffPJJZ0+zIAZaetg2btx4UeQT6bruuusqnSKcL5wwO8f3338fPo/SZGEUwAaIsrKyOnHiRIgarFtOHG/RhpyHmxHXXnvtRc4Y9UW0BHVh9XLmzJkQBecnCUxESM/p06c7e0QZJqLHbUTUo6l2YBNA2xDOiErSRGJ6QD3GY2aqDxsGZnuItuMUaTmd+zAvolM/44CJaldeeWVpQEHOeC9+YVzb5qBoyuZyfUzRLOPYzzWFD2Qps8tcnnjiiYtsl7kw/kZdP1QIIcTwkAjdBSbTLJ+BQ+cnfrx//vnnw8CK88ZgGjtvixYtKn766adwzDD48ccfw+uKFSvCaw67d+8uvv322zCY647+BbCB66+/PtS5TYz2798fymn58uXhcw6UJ+X6xRdfTDmg2Mbhw4fD+c2BWrduXXHZZZeFx6kNez8xMRFeSdMNN9xQbN++vTh16lTYJ0SbNNUOUhw5cqTghljqZp4YP6hH+jk/ZnIzlqUksCEhxhl8vfvvvz+My2+++WZn78XkjvdC5NCkzeX4mEK0CXbJ0mOpuXM3eKLYL51y6NChMNdmzi2EEGI80JrQfxj8uPuPk5a6M22Rf1Xr0yHOEMXn1/jykQapdca6XbcK+23V2qGWbiIVb7rppqk02F1nPnNXGiEzzhv7Fy9eHJxSLyJ0g98tWbKk8+kX/FprlnZbWxis3KzMiOydP39+WDfNln7gvHYeSzfHEW2OeEU5PvDAA8ER8WsVW90YRI/UXcs4VU4480SbxNeroqzOqRNudJBX6tPXkWH5SK2VmLK/NqE8Fi5cWJpvy4+RSldsK3G+rMzfeOON4rHHHpuyFysjsHJC3LI6jtdCje0tVf/U5Zo1a4q33367WLly5dS6qqk1AuO8GT5d3fB2gJ1bOcRps/Zg6YE4/6m0QFyeZq+zZs0Kn1N21I2m2kEKyys3VHLLMRdLd7/9ha8Pb9NWBojxdcs0VYexLcVpiu2yWzuI6z7G8lLWDurYtkGa4nGzW7/RK7n1260cgWPIOyLPgw8+mOx36hC34biNp+ouPianD/OQB6LCysbvuBygTn+Q6gcMKz9LX5z/uH/u9r2nrL+zuulWlrntoC5WPwQjeHvKHe+bwvehUDau5JJTN/Ex4G2prM7AH9etbVpZfvjhh8Udd9wR2gL1xc2uuCzj9gJWt6nvPHGdYOveT4nTZfa+Z8+eYu3atVPlUJZ+f91U/5OLna9Xm7O2EueFOoj7Aqtjnuosa5tVxGXo6dbXeZvrt+7K+jjLX9lcrYrcNOW0pdxxDOK+rCxvo07VWFKHsvaQGut67eeFEEI0iyKhK8BxYCKNc1I1QOIY4Ez5KL62l+LI5YMPPgjRZzgtueAE4dxcffXVnT3dwZlAuLbHr23Na+9oU544TjhTVY9RUXbHjh0L3yFa8OghjoOP5MCZu+KKK8L1iOhgIvD666+H7yySg2NvueWWqWuxhADR4SyjQlpyueaaay6yARwbxBor29zIPjvum2++Ca+kgXXNvvvuu+BEch2zua+//jocA5Tt0qVLi48//jjk9aqrrup8M1pYfsDKnPqhfikzw97bMdgK+eIROw91zD4ccY7DBrAxbytMrCgb6pYtjuKnbVJ+/B57KoN6fOihh4Ld2bU4t083EzeiNkgvx5A3JhPx5CcXnGMccEs7tkn7MLBTJilcy9LEpMrSRLuy/aTDL33gH2fmeM7LpMe+x56ZFA2jHaSwyCwiWtqgif6CfDNZoq3yeyY+7Od3dQVoayu0da7D9azP9GC7XMtsjmP5jYkIBrbqjyMSjrohjdgQSzjwW9JOn2x5ZPMTslQ78DaXy9GjR8P49/TTT4c08HvOw43TumJYDjn1Sz7Jk5VDGQgKDz/8cPHWW2+F42nfcb+TA/km/2B1zNgXT4rjPiweo3L7sBw4T7xMCvZQl7JxiJtqpP/cuXNT+UcUtWvxRBl9kZUl7cUeT8fWysjte6vKsk47aIKc8b4NaGecmzxRXuDHlRxy6g5szKZM7Tg/9uSOUblt8+677w7tkrq79957g5+EDeAnkmbKmDSW+Zi+LXEOruXT7m0Jm+O8ZnO8YoPUobVNoL+gHKysyCN1b30mx2KDCGR2Hba6gmcOo+hjUqZWLtgAtmBlwHVtPKB+nnrqqTBG2PcE0Tz66KOhLOvUnZW9fUfdka/Yx+yX3DTl9nM54xh5a8KfGzbUN+Mqvkau31QGdo/v4m2a89Puvb2x7ZUALYQQI4FE6AbAEYmX5BjEUhxMNvwfM+Dw2PUNJoNfffVV648p4dwixODEgpUJzq45RjgaON6+TD799NPw6gVvHDkezwcci/fffz+89+DMInQAxzAB+PLLL8Nng0knS6YYXJ/jvJONA+nL0G9MQsxhN8xZf+GFF0LZ1oE8klawSR4OGA6nQbpIn0EaKFscWOxplGHZF9KOc2xQBwhi/gYNTqCfMKRsBWzSak6jTaxiWzHxL1W/dcBZtWuRJgRBRBUwOyCdZr/YOjbfq5jApMUm4mxMJHwZYLuUnxGnKQfOhb0ymfPnou1QTtzwgUG2A4PJlF2DvoybDb5vaJKm+gv2vfrqq+E9E0ETz9nHd7nQVhBpuWbZ7+gjEEF8uXAsfUb8CCt24SOlyCv5jMeDHKraAeej7Xr7sM3/8Rj5YqkgRMAtW7ZMCZ++3TdJTv3mwrl8lFpqjMrBhD9vG5SnCYNGk31YFWZPcV9QF25SG2YPJvrQF9qNqomJiVD/LNljMK7TZ9bxR+r0vU2Upe+X4i0WIKvIGe/bgHHFBE7KKzW2dmMio+6sXvyNybbBlzDbJVAivmlJOnJ8zG7QjyFs+b6XVz7Tb9u4adBnWt9GGvHVrM80n84LZDGDtDlLj9HNx6RM+a7ttehZ0gv78jbHe9p03WW6GL9yfMxRo9s4Rtqb8OeGhfcfuLlAWzFfo1coE9ortuv7A2vvNm8QQggxWkiEbgginomIYJBlUCTC0U+a2oAID3+HF8cjdT2c8JtvvjmkLRecoTqDNw62d865FkIJTpSfoMTONo5I/Hisn9TgWOCoxMT7/cTYg8Plr4fY5cEh8mXoNyYzpIP0gHfWu6UvBeXJ8SyPwqNjRPR4B4wyRNBj8ocDyuSDfT5ihu96Ff3ahkkXbQDRyZc50Wne+eeVvMXHxMRli9PNRKhfp7UXzA68+Iet9/O0QzwppZ69beFY+3+4p1zLHvsswyac8Q0r2h3nMkd9kO3AoB7tGghzRP20NUFqqr8A+ljaLiJFr+I5bYUJt920S2HRPUTO+jTxmf0W9QZxv0BeyXOdGxY5kE/GGW8ftnmRAtslIgyb4TuLaBt2/Q4K+rhYOB02Zi8myvWK+QWcj76QfsSLRNav0UcQ2cfNCLNd3rMvFo+raKPvrcL3S/Hm+7xu5Iz3o0pO3VEOCJyM3XxfRyztFV9mZb5Qjo/ZDcZF6i5uu3xmvxe0Y1/Z+kgTQflMdK+Nwak+cJA2N4o+pvWX8XyB9+yrKx7n+pijRrdxrCl/blhY27C0AGmtMzeNIbqdfin2w+ymGWVDGdmNUiGEEKOBROgKcICY/OQ4QAx+FjHW5gSpFxAGcCpzB3ryEDtD3cBZwtG3AR/BjAm4OeKAE4CA4sVzIjRw4tsAZ5+JMtew63HtuuCk48DGznpdgcfKkzUNiVo0wcZHppjNYUNM8Hz51Zm4DwvagD2+6jebSNGOeGyQ/PrjiN4adah/L7Jj64hrfpLXFIh4RFJiM1ZGlBfl2wvxDSvb6qS9qXaQgv6TSQTtlbwPgzr9BZM9EzaaFnpj4sdJ2XKj0oYhxtLGqUNs1+yEfox8YD+aDI43No7RBrD99957L/hILI/Aq4coRv94um11hZBB9r1NkTPejzI5dUf5s48+E58XobpfUakfBu1j5kKZkBbrA7HhNkT7meBjdmOcfcxcmvDnRgF7anKis9RIXfDZaE+UR5x37Jx5B+VC3dvNfERwIYQQw0cidBcQkrnLyuPTVSCiILoSAX3nnXcmoyiGCfnIeaSNyQOP7NaJ4MLp4xGx2DGKJ5pMWBHR2lr31UOamBDjlFeJNTgkOCapzSJWEHKYxPgIMs5fN9rdIlDi31DmRKXY+ZlwU07xManI8lGCcoojNGNsMtTW2rBtYe0iFgT9BK5JLKLFHs3sFbO5bpPLQbaDKure/GqK3P4CEFhZXoL+DnvoZb1goB3QHgzaDe3HIC2URy8it7VBH6HXBLQDbD5lJ7Ych7Vx+jEPaRm2GDQoTOjJuYE9SLAvH8Vpdl8H61MuvfTS0K8QcUZeEb6od7vxQf3HNt4Lg+5740hav9URDnPH+1Gkbt3RZ3JjDMGXvJHHYdCUj0lflcqH1V2v/aqJ9tiyf3Jw0DY3aj6m9Zf4Ej6vvGcf3+WmaVx9zBya9OdGiV5ulpNHE6C7jQXMRWl3iNGxjQkhhBgOEqG7wASLiBD7YxOD988880zn0wVMsMaxbEqUaQryAVUTTpxQHuEDv65vLt0co1ikpAyJ9qz7qGQOKREApyV+vB7nxU9s/WYiuj3WRXrtXKwFyyQiJRLi5KWcPdJkj69aNCBlzjIEXvyyCZStKQr2vtfJlaWJMmgLKyf7Q7QUKSeatFEm40DbUa+GTXJNMLK2STRgjB2bWmfV21xV3Q+yHaTgnPSxqYkj3yFwksYyu+qX3P6C70gP5cB6lYgKtN0qm0+BGEBfONGJAOKccV9IOdhj3HWih0kH6WEM8oK65dEva1AX0kS5pOzEorM5hmvH4jxrfqZuzg6ifocBbYK24f8Mi/wRzTsMbB1lbhhjx2xEDOKz1MHs6K677gqfqU98H0RosP7Ixir/J4v90FTf260dmFCY2uosjcBxOeO9MUrtoNe6s/EqFmmrxqgmqeNjIsR6IdhjbYW6srqoqru6YMv+huugba6Oj0n929IWdcahGK5PnsuCYWz+hE9hlPkXVXU3LB+zKk1N4eu3X39u2GBX9C/Ulc1PDWyWPJTZHPvwi3IEaIPr4d/R9+e2JyGEEO1xybJlyyY774vJycmp7fz58yFqqW6UzLjBYIe4w6PgOIJlxIKE/wMcw86FUESkQ9X5cq+bwl/HQ33ZHyrhdFF3Po2WB/vjmpTIUmdQ95Q5+0Rb+D/M8s4g6eUf13GQKQccESbFOAmWPiKg+D15RqQif0xkbD+TDa7LebgG5YJwYxM5X07UGY/w3nPPPRelKQccGD9hj/Nl+OOsnGNwoHg0zEiVeSrtvi7LbABStml1XZbublRN5nz643IyfHuIz0U54cAToWDp9nVfltYyG/e/y0m3HYMNWRqtfM2WIK43I1XeVaTOnSJun++++24Q9ohUin8Xpy1OUyrtddMNTbWDeFLo+64Yb+u99E/eJvrpL4DvETl8Wu13UGWvMb5OKMc9e/YUa9eu/VX9xnYAvkxTE+yyckq1T2ubue0glzhdZbYyqPpNlSN426NObJyx+k2VSy6xTcVl0FQfFl/H420lPo66RxDzfW8OVpZmO3Ze8PlLpcuXd266c/renLI0qtpBLql2B3FfFqe9zMZ9WfTSDixP5j8ZqXLJoZe6q+rH43LwddetbSJgci1ryz5PCJW+jn298HvarfmYcf3GdRiXe7fvU/1FTKr99uqHxekxerG5uP6q/AG7bmosr0NcFnE5dPveU1U38XlId8rH7DYe1KUsTTn9nO+rqsYxSPWHvfhzgySV5pRdgq+/uF+uKktfd6n67dd+hRBCNIdE6M6A1osY3A/Dum4bWF5iocL2ExWngX+4WF0QdTDKjuqoYk5xLETZfsTKlDMtmsEmFHWFopkAE99eRKZRQvUryphJfa/agRhFrK1xM0C+vBBCCCH6RctxiL7hrj3RgTG2nwgEMVx47J/IAR7lkwBdHx4z9pFMhu3vZU07kQc3UIgQItInfmxTjD+qX1HFTOl71Q7EqMJSStDvf1QIIYQQQoAioTsRovZoT6+PyeUSP641XSJeUo9agSJ6hotFsECvjxiKC6Qe77PH/+xx4dQjgh61h3o09RjwoIj79xRN52WcI6HHrX5TfUDMqD8WXYaNFSnB1+jnUfV+qOp7p8OYNoh2EPu6ZWiMEoa1u7bnRUIIIYSYWcx4EVoIIYQQQgghhBBCCCFEe2g5DiGEEEIIIYQQQgghhBCtIRFaCCGEEEIIIYQQQgghRGtIhBZCCCGEEEIIIYQQQgjRGhKhhRBCCCGEEEIIIYQQQrSGRGghhBBCCCGEEEIIIYQQrXHJsmXLJjvvi8nJyant/Pnzxc8//1xcfvnlnW+nJ7fffnuxadOmYs6cOeHzDz/8UOzcubP46KOPwuemee6554obb7yx86koDhw4UOzdu7fzSYjRZNDtpGks/bNnzy727dtXvPPOO51vhBgNzEY/++yz4uWXX+7sHRz33XdfsX79+uLgwYPTekx65JFHitWrVxdnz54tduzYUXz++eedbwYP/gA+Vk46qvqwBQsWFJs3by7mzZsXPuO75fZzddLQFj79vfpEo5AP0R+j1DbF9MZszTh58mSxbdu2zqd2aKKfE0IIIaYDioTugEPw+OOPF08++WRSWMNheeWVV6a2F198MTgUtp/XGL7nOCZHBk4O13nppZeCkNcLTEYRKXx62Hbt2hWEBOCa7CM/HvZbevguPoflS/waK1M2X9Z14Xf83s7l7cMw27FjqG/qPcYfl7LBpqBNYC/Y7vHjxzt7xShAvfdjj3Vpoh3E/Slbm/Yr0uNRm8R1XNaHif5BrNu6dWvon/FlRDlNtwPzo8rOlzPeT3cGPUblQD2Mq7/bhM3l+phNYWlqYpxvou4QgOkvn3322XDTo1/G2Z4GQWreWma/3YjnrqPWtwghhOiOROgMGChXrVpVvPbaa8FpYSPCaMOGDUGcQ0y+9dZbO0f/wm233VbMnTu3+OSTTzp7mgUx0NLDtnHjxosin0jXddddV+kU4XzhhNk5vv/++/BZA/rFYANEWVlZnThxIkQN1i0njrdoQ87DzYhrr732ImeM+iJagrqwejlz5kyIgvOTBBwx0nP69OnOHlGGiehxGxH1aKod2ATQNoQzopIkRE8PqMd4zEz1YcPAbA/RdpwiLadzH+ZFdOpnHKDPQ/y48sorSwMKcsZ78Qvj2jYHRVM2l+tjimYZx36uKXwgS5ld5oKYbedh69UPFUIIMTwkQneByTTLZ+DQ+Ykf759//vkwsOK8MZjGztuiRYuKn376KRwzDH788cfwumLFivCaw+7du4tvv/02DOa6o38BbOD6668PdW4To/3794dyWr58eficA+VJuX7xxRdTDii2cfjw4XB+c6DWrVtXXHbZZeFxasPeT0xMhFfSdMMNNxTbt28vTp06FfYJ0SZNtYMUR44cKbghlrqZJ8YP6pF+zo+Z3IxlKQlsSIhxBl/v/vvvD+Pym2++2dl7MbnjvRA5NGlzOT6mEG2CXbL0WGruXJdDhw6FuTZzbiGEEOOB1oT+w+DH3X+ctNSdaYv8q1qfDnGGKD6/xpePNEitM9btulXYb6vWDrV0c4f4pptumkqD3XXmM3elETLjvLF/8eLFwSn1IkI3+N2SJUs6n37Br7Vmabe1hcHKzcqMyN758+eHddNs6QfOa+exdHMc0eaIV5TjAw88EBwRv1ax1Y1B9EjdtYxT5YQzz533+HpVlNU5dcKNDvJKffo6MiwfqbUSU/bXJpTHwoULS/Nt+TFS6YptJc6Xlfkbb7xRPPbYY1P2YmUEVk6IW1bH8Vqosb2l6p+6XLNmTfH2228XK1eunFpXNbVGYJw3w6erG94OsHMrhzht1h4sPRDnP5UWiMvT7HXWrFnhc8qOutFUO0hheeWGSm455mLp7re/8PXhbdrKADG+bpmm6jC2pThNsV12awdx3cdYXsraQR3bNkhTPG526zd6Jbd+u5UjcAx5R+R58MEHk/1OHeI2HLfxVN3Fx+T0YR7yQBR62fgdlwPU6Q9S/YBh5Wfpi/Mf98/dvveU9XdWN93KMrcd1MXqh2AEb0+5431T+D4UysaVXHLqJj4GvC2V1Rn447q1TSvLDz/8sLjjjjtCW6C+uNkVl2XcXsDqNvWdJ64TbN37KXG6zN737NlTrF27dqocytLvr5vqf3Kx8/Vqc9ZW4rxQB3FfYHXMU51lbbOKuAw93fo6b3P91l1ZH2f5K5urVZGbppy2lDuOQdyXleVt1KkaS+pQZvepsa7Xfl4IIUSzKBK6AhwHJtI4J1UDJI4BzpSP4mt7KY5cPvjggxB9htOSC04Qzs3VV1/d2dMdnAmEa3v82ta89o425YnjhDNlj1HhpDFh9umj7I4dOxa+Q7Tg0UMcBx/JgTN3xRVXhOsR0cFE4PXXXw/fWSQHx95yyy1T12IJAaLDWUaFtORyzTXXXGQDODaINVa2uZF9dtw333wTXkkDa8h99913wYnkOmZzX3/9dTgGKNulS5cWH3/8ccjrVVdd1flmtLD8gJU59UP9UmaGvbdjsBXy9cQTT4T9BnXMPhxLjsMGsDFvK0ysKBvqli2O4qdtUn78Hnsqg3p86KGHgt3ZtTi3TzcTN6I2SC/HkDcmE/HkJxecYxxwSzu2SfswsFMmKVzL0sSkytJEu7L9pMMvfeAfZ+Z4zsukx77HnpkUDaMdpLDILCJa2qCJ/oJ8M1mirfJ7Jj7s53d1BWhrK7R1rsP1rM/0YLtcy2yOY/mNiQgGtuqPIxKOuiGN2BBLOPBb0k6fbHlk8xOyVDvwNpfL0aNHw/j39NNPhzTwe87DjdO6YlgOOfVLPsmTlUMZCAoPP/xw8dZbb4Xjad9xv5MD+Sb/YHXM2BdPiuM+LB6jcvuwHDhPvEwK9lCXsnGIm2qk/9y5c1P5RxS1a/FEGX2RlSXtxR5Px9bKyO17q8qyTjtogpzxvg1oZ5ybPFFe4MeVHHLqDmzMpkztOD/25I5RuW3z7rvvDu2Surv33nuDn4QN4CeSZsqYNJb5mL4tcQ6u5dPubQmb47xmc7xig/G6v/QXlIOVFXmk7q3P5FhsEMHYrsNWV/DMYRR9TMrUygUbwBasDLiujQfUz1NPPRXGCPueIJpHH300lGWdurOyt++oO/IV+5j9kpum3H4uZxwjb034c8OG+mZcxdfI9ZvKoDzo63mizuD8tHtvb2x7JUALIcRIIBG6AXBE4iU5BrEUB5MN/+cMODx2fYPJ4FdffdX6Y0o4twgxOLFgZYKza44RjgaOty+TTz/9NLx6wRtHzpwJRJH3338/vPfgzCJ0AMcwAfjyyy/DZ4NJJ0umGFyf47yTjQPpy9BvTELMYTfMWX/hhRdC2daBPJJWsEkeDhgOp0G6SJ9BGihbHFjsaZRh2RfSjnNsUAcIYv4GDU6gnzCkbAVs0mpOo02sYlsx8S9Vv3XAWbVrkSYEQUQVMDsgnWa/2Do236uYwKTFJuJsTCR8GWC7lJ8RpykHzoW9Mpnz56LtUE7c8IFBtgODyZRdg76Mmw2+b2iSpvoL9r366qvhPRMfE8/Zx3e50FYQablm2e/oIxBBfLlwLH1G/AgrduEjpcgr+YzHgxyq2gHno+16+7DN/zkQ+WKpICaGW7ZsmRI+fbtvkpz6zYVz+Si11BiVA/YB3jYoTxMGjSb7sCrMnuK+oC7cpDbMHkz0oS+0G1UTExOh/lmyx2Bcp8+s44/U6XubKEvfL8VbLEBWkTPetwHjigmclFdqbO3GREbdWb34G5Ntgy9htkugRHzTknTk+JjdoB9D0PV9L698pt+2cdOgz7S+jTTiq1mfaT6dF31jBmlzlh6jm49JmfJd22vRs6QX9uVtjve06brLdDF+5fiYo0a3cYy0N+HPDQvvP3BzgbZivkZdfB5pq5SH74esvdu8QQghxGghEbohiHgmIoJBFkeBCEc/aWoDIjz8HV4G5dT1cMJvvvnmkLZccIbqDN442N4551oIJThR3jGInW0ckfjxWD+pwSnGUYmJ9/uJsQeHy18PscuDQ+TL0G9MZkgH6QHvrHdLXwrKk+NZHoVHx4jo8Q4YZYigx+QPB5TJB/t8xAzf9Sr6tQ2TLtoAopMvc6LTvPPPK3mLj4mJyxYnk4lQr05rP5gdePEPW+/naYd4Uko9e9tiIoywZ2VEuZY99lmGTTjjG1a0O85ljvog24FBPdo1EOaI+mlrgtRUfwH0sbRdJj69iue0FSbcdtMuBeenHyBy1qeJz+y3qDeI+wXySp7r3LDIgXwyznj7sM2LFNguEWHYDN9ZRNuw63dQ0MfFwumwMXsxUa5XzC/gfPSF9CNeJLJ+jT6CyD5uRpjt8p59sXhcRRt9bxW+X4o33+d1I2e8H1Vy6o5yQOBk7Ob7OmJpr/gyK/OFcnzMbjAuUndx2+Uz+72gHfvK1keaCMpnonttDE71gYO0uVH0Ma2/jOcLvGdfXfE418ccNbqNY035c8PC2oalBUhrnbmp4fPITWNu+nJuw26aUTaUkd0oFUIIMRpIhK4AB4jJT44DxOBqEWNtTpB6AWEApzJ3oCcPsTPUDZwlHH0b8BHMmICbIw44AQgoXjwnQgMnvg1w9pkocw27HteuC046DmzsrNcVeKw8WdOQqEUTbHxkitkcNsQEz5dfnYn7sKAN2OOrfrOJFO2IxwbJrz+O6K1Rh/r3Iju2jrjmJ3lNgYiHU43NWBlRXpRvL8Q3rGyrk/am2kEK+k/EXNqrRdMOmjr9BZM9EzaaFnpj4sdJ2XKj0oYhxtLGqUNs1+yEfox8YD+aDI43No7RBrD99957L/hILI/Aq4coRv94um11hZBB9r1NkTPejzI5dUf5s48+E58XobpXUakJBu1j5mKCmfWB2HAbov1M8DG7Mc4+Zi5N+HOjgD01OdFZaqRXsHPGA1uWB7Bz5h2UC3VvN/O9UC2EEGJ4SITuAkIy0R88Pl0FIgqiKxHQd955ZzKKYpiQj5xH2hjAGcjrRHDh9PGIWOwYxRNNJqyIaG2t++ohTUyIccqrxBocEhyT1GYRKwg5TGJ8BBnnrxvtbhEo8W8oc6JS7PxMuCmn+JhUZPkoQTnFEZoxNhlqa23YtrB2EQuCfgLXJBbRYo9m9orZXLfJ5SDbQRV1b341RW5/AQisLC9Bf4c99LJeMNAOaA8G7Yb2Y5AWyqMXkdvaoI/QawLaATafshNbjsPaOP2Yh7QMWwwaFCb05NzAHiTYl4/iNLuvg/Upl156aehXiDgjrwhf1Lvd+KD+YxvvhUH3vXEkrd/qCIe54/0oUrfu6DO5MYbgS97I4zBoysekr0rlw+qu137VRHts2T85OGibGzUf0/pLfAmfV96zj+9y0zSuPmYOTfpzo0RTN8spG8oohrko7Q4xOrYxIYQQw0EidBeYYBERYn9sYvD+mWee6Xy6gAnWOJZNiTJNQT6gasKJE8ojfODX9c2lm2MUi5SUIdGedR+VzCElAuCYxY/XW4RKajMR3R7rIr12LtaCZRKREglx8lLOHmmyx1ctGpAyZxkCL37ZBMrWFAV73+vkytLUZhSAlZP9IVqKlBNN2iiTcaDtqFfDJrkmGFnbJBowxo5NrbPqba6q7gfZDlJwTvrY1MSR7xA4SWOZXfVLbn/Bd6SHcmC9SkQF2m6VzadADKAvnOhEAHHOuC+kHOwx7jrRw6SD9DAGeUHd8uiXNagLaaJcUnZi0dkcw7VjcZ41P1M3ZwdRv8OANkHb8H+GRf6I5h0Gto4yN4yxYzYiBvFZ6mB2dNddd4XP1Ce+DyI0WH9kY5X/k8V+aKrv7dYOTChMbXWWRuC4nPHeGKV20Gvd2XgVi7RVY1ST1PExEWK9EOyxtkJdWV1U1V1dsGV/w3XQNlfHx6T+bWmLOuNQDNcnz2XBMDZ/wqcwyvyLqroblo9Zlaam8PXbrz83bLAr+hfqyuanBjZLHnJtjmPwkyibsrbC9fDv6Ptz25MQQoj2uGTZsmWTnffF5OTk1Hb+/PkQtVQ3SmbcYLBD3OFRcBzBMmJBwv8BjmHnQigi0qHqfLnXTeGv46G+7A+VcLqoO59Gy4P9cU1KZCG6j8G/LmXOPtEW/g+zvDNIevnHdRxkygFHhEkxToKljwgofk+eEanIHxMZ289kg+tyHq5BuSDc2ETOlxN1xiNb99xzz0VpygEHxk/Y43wZ/jgr5xgcJh4NM1Jlnkq7r8syG4CUbVpdl6W7G1WTOZ/+uJwM3x7ic1FOOPBEKFi6fd2XpbXMxv3vctJtx2BDlkYrX7MliOvNSJV3Falzp4jb57vvvhuEPSKV4t/FaYvTlEp73XRDU+0gnhT6vivG23ov/ZO3iX76C+B7RA6fVvsdVNlrjK8TynHPnj3F2rVrf1W/sR2AL9PUBLusnFLt09pmbjvIJU5Xma0Mqn5T5Qje9qgTG2esflPlkktsU3EZNNWHxdfxeFuJj6PuEcR835uDlaXZjp0XfP5S6fLlnZvunL43pyyNqnaQS6rdQdyXxWkvs3FfFr20A8uT+U9Gqlxy6KXuqvrxuBx83XVrmwiYXMvass8TQqWvY18v/J52az5mXL9xHcbl3u37VH8Rk2q/vfphcXqMXmwurr8qf8CumxrL6xCXRVwO3b73VNVNfB7SnfIxu40HdSlLU04/5/uqqnEMUv1hL/7cIEmlOWWX4Osv7pdTfXfKTlL126/9CiGEaA6J0B3noBcxuB+Gdd02sLzEQoXtJypOA/9wsbog6mCUHdVRxZziWIiy/YiVKWdaNINNKOoKRTMBJr69iEyjhOpXlDGT+l61AzGKWFvjZoB8eSGEEEL0i5bjEH3DXXuiA2NsPxEIYrjw2D9RGFWPq4lyeMzYRzIZtr+pNe3Er+EGChFCRPrEj22K8Uf1K6qYKX2v2oEYVVhKCfr9jwohhBBCCFAkdCdC1B6T6vUxuVzix7WmS8RL6lErUETPcLEIFuj1EUNxgdTjffbopj0unHrc0qP2UI+mHgMeFHH/nqLpvIxzJPS41W+qD4gZ9ceiy7CxIiX4Gv08qt4PVX3vdBjTBtEOYl+3DI1RwrB21/a8SAghhBAzixkvQgshhBBCCCGEEEIIIYRoDy3HIYQQQgghhBBCCCGEEKI1JEILIYQQQgghhBBCCCGEaA2J0EIIIYQQQgghhBBCCCFaQyK0EEIIIYQQQgghhBBCiNaY8X9MGP9jeNv/Am3/gm7on8jFODDodtI0lv7Zs2cX+/btK955553ON0KMBmajn332WfHyyy939g6O++67r1i/fn1x8ODBaT0mPfLII8Xq1auLs2fPFjt27Cg+//zzzjeDB38AHysnHVV92IIFC4rNmzcX8+bNC5/x3XL7uTppaAuf/l59olHIh+iPUWqbYnpjtmacPHmy2LZtW+dTOzTRzwkhhBDTAUVCd8AhePzxx4snn3wyKazhsLzyyitT24svvhgcCtvPawzfcxyTIwMnh+u89NJLQcjrBSajiBQ+PWy7du0KQgJwTfaRHw/7LT18F5/D8iV+jZUpmy/ruvA7fm/n8vZhmO3YMdQ39R7jj0vZYFPQJrAXbPf48eOdvWIUoN77sce6NNEO4v6UrU37FenxqE3iOi7rw0T/INZt3bo19M/4MqKcptuB+VFl58sZ76c7gx6jcqAextXfbcLmcn3MprA0NTHON1F3CMD0l88++2y46dEv42xPgyA1by2z327Ec9dR61uEEEJ0RyJ0BgyUq1atKl577bXgtLARYbRhw4YgziEm33rrrZ2jf+G2224r5s6dW3zyySedPc2CGGjpYdu4ceNFkU+k67rrrqt0inC+cMLsHN9//334rAH9YrABoqysrE6cOBGiBuuWE8dbtCHn4WbEtddee5EzRn0RLUFdWL2cOXMmRMH5SQKOGOk5ffp0Z48ow0T0uI2IejTVDmwCaBvCGVFJEqKnB9RjPGam+rBhYLaHaDtOkZbTuQ/zIjr1Mw7Q5yF+XHnllaUBBTnjvfiFcW2bg6Ipm8v1MUWzjGM/1xQ+kKXMLnNBzLbzsPXqhwohhBgeEqG7wGSa5TNw6PzEj/fPP/98GFhx3hhMY+dt0aJFxU8//RSOGQY//vhjeF2xYkV4zWH37t3Ft99+GwZz3dG/ADZw/fXXhzq3idH+/ftDOS1fvjx8zoHypFy/+OKLKQcU2zh8+HA4vzlQ69atKy677LLwOLVh7ycmJsIrabrhhhuK7du3F6dOnQr7hGiTptpBiiNHjhTcEEvdzBPjB/VIP+fHTG7GspQENiTEOIOvd//994dx+c033+zsvZjc8V6IHJq0uRwfU4g2wS5Zeiw1d67LoUOHwlybObcQQojxQGtC/2Hw4+4/TlrqzrRF/lWtT4c4QxSfX+PLRxqk1hnrdt0q7LdVa4daurlDfNNNN02lwe4685m70giZcd7Yv3jx4uCUehGhG/xuyZIlnU+/4Ndas7Tb2sJg5WZlRmTv/Pnzw7pptvQD57XzWLo5jmhzxCvK8YEHHgiOiF+r2OrGIHqk7lrGqXLCmefOe3y9KsrqnDrhRgd5pT59HRmWj9RaiSn7axPKY+HChaX5tvwYqXTFthLny8r8jTfeKB577LEpe7EyAisnxC2r43gt1NjeUvVPXa5Zs6Z4++23i5UrV06tq5paIzDOm+HT1Q1vB9i5lUOcNmsPlh6I859KC8TlafY6a9as8DllR91oqh2ksLxyQyW3HHOxdPfbX/j68DZtZYAYX7dMU3UY21Kcptguu7WDuO5jLC9l7aCObRukKR43u/UbvZJbv93KETiGvCPyPPjgg8l+pw5xG47beKru4mNy+jAPeSAKvWz8jssB6vQHqX7AsPKz9MX5j/vnbt97yvo7q5tuZZnbDupi9UMwgren3PG+KXwfCmXjSi45dRMfA96WyuoM/HHd2qaV5YcffljccccdoS1QX9zsissybi9gdZv6zhPXCbbu/ZQ4XWbve/bsKdauXTtVDmXp99dN9T+52Pl6tTlrK3FeqIO4L7A65qnOsrZZRVyGnm59nbe5fuuurI+z/JXN1arITVNOW8odxyDuy8ryNupUjSV1KLP71FjXaz8vhBCiWRQJXQGOAxNpnJOqARLHAGfKR/G1vRRHLh988EGIPsNpyQUnCOfm6quv7uzpDs4EwrU9fm1rXntHm/LEccKZsseocNKYMPv0UXbHjh0L3yFa8OghjoOP5MCZu+KKK8L1iOhgIvD666+H7yySg2NvueWWqWuxhADR4SyjQlpyueaaay6yARwbxBor29zIPjvum2++Ca+kgTXkvvvuu+BEch2zua+//jocA5Tt0qVLi48//jjk9aqrrup8M1pYfsDKnPqhfikzw97bMdgK+XriiSfCfoM6Zh+OJcdhA9iYtxUmVpQNdcsWR/HTNik/fo89lUE9PvTQQ8Hu7Fqc26ebiRtRG6SXY8gbk4l48pMLzjEOuKUd26R9GNgpkxSuZWliUmVpol3ZftLhlz7wjzNzPOdl0mPfY89MiobRDlJYZBYRLW3QRH9Bvpks0Vb5PRMf9vO7ugK0tRXaOtfhetZnerBdrmU2x7H8xkQEA1v1xxEJR92QRmyIJRz4LWmnT7Y8svkJWaodeJvL5ejRo2H8e/rpp0Ma+D3n4cZpXTEsh5z6JZ/kycqhDASFhx9+uHjrrbfC8bTvuN/JgXyTf7A6ZuyLJ8VxHxaPUbl9WA6cJ14mBXuoS9k4xE010n/u3Lmp/COK2rV4ooy+yMqS9mKPp2NrZeT2vVVlWacdNEHOeN8GtDPOTZ4oL/DjSg45dQc2ZlOmdpwfe3LHqNy2effdd4d2Sd3de++9wU/CBvATSTNlTBrLfEzfljgH1/Jp97aEzXFeszlescF43V/6C8rByoo8UvfWZ3IsNohgbNdhqyt45jCKPiZlauWCDWALVgZc18YD6uepp54KY4R9TxDNo48+GsqyTt1Z2dt31B35in3MfslNU24/lzOOkbcm/LlhQ30zruJr5PpNZVAe9PU8UWdwftq9tze2vRKghRBiJJAI3QA4IvGSHINYioPJhv9zBhweu77BZPCrr75q/TElnFuEGJxYsDLB2TXHCEcDx9uXyaeffhpeveCNI2fOBKLI+++/H957cGYROoBjmAB8+eWX4bPBpJMlUwyuz3HeycaB9GXoNyYh5rAb5qy/8MILoWzrQB5JK9gkDwcMh9MgXaTPIA2ULQ4s9jTKsOwLacc5NqgDBDF/gwYn0E8YUrYCNmk1p9EmVrGtmPiXqt864KzatUgTgiCiCpgdkE6zX2wdm+9VTGDSYhNxNiYSvgywXcrPiNOUA+fCXpnM+XPRdignbvjAINuBwWTKrkFfxs0G3zc0SVP9BfteffXV8J6Jj4nn7OO7XGgriLRcs+x39BGIIL5cOJY+I36EFbvwkVLklXzG40EOVe2A89F2vX3Y5v8ciHyxVBATwy1btkwJn77dN0lO/ebCuXyUWmqMygH7AG8blKcJg0aTfVgVZk9xX1AXblIbZg8m+tAX2o2qiYmJUP8s2WMwrtNn1vFH6vS9TZSl75fiLRYgq8gZ79uAccUETsorNbZ2YyKj7qxe/I3JtsGXMNslUCK+aUk6cnzMbtCPIej6vpdXPtNv27hp0Gda30Ya8dWszzSfzou+MYO0OUuP0c3HpEz5ru216FnSC/vyNsd72nTdZboYv3J8zFGj2zhG2pvw54aF9x+4uUBbMV+jLj6PtFXKw/dD1t5t3iCEEGK0kAjdEEQ8ExHBIIujQISjnzS1AREe/g4vg3LqejjhN998c0hbLjhDdQZvHGzvnHMthBKcKO8YxM42jkj8eKyf1OAU46jExPv9xNiDw+Wvh9jlwSHyZeg3JjOkg/SAd9a7pS8F5cnxLI/Co2NE9HgHjDJE0GPyhwPK5IN9PmKG73oV/dqGSRdtANHJlznRad7555W8xcfExGWLk8lEqFentR/MDrz4h63387RDPCmlnr1tMRFG2LMyolzLHvsswyac8Q0r2h3nMkd9kO3AoB7tGghzRP20NUFqqr8A+ljaLhOfXsVz2goTbrtpl4Lz0w8QOevTxGf2W9QbxP0CeSXPdW5Y5EA+GWe8fdjmRQpsl4gwbIbvLKJt2PU7KOjjYuF02Ji9mCjXK+YXcD76QvoRLxJZv0YfQWQfNyPMdnnPvlg8rqKNvrcK3y/Fm+/zupEz3o8qOXVHOSBwMnbzfR2xtFd8mZX5Qjk+ZjcYF6m7uO3ymf1e0I59ZesjTQTlM9G9Ngan+sBB2two+pjWX8bzBd6zr654nOtjjhrdxrGm/LlhYW3D0gKktc7c1PB55KYxN305t2E3zSgbyshulAohhBgNJEJXgAPE5CfHAWJwtYixNidIvYAwgFOZO9CTh9gZ6gbOEo6+DfgIZkzAzREHnAAEFC+eE6GBE98GOPtMlLmGXY9r1wUnHQc2dtbrCjxWnqxpSNSiCTY+MsVsDhtigufLr87EfVjQBuzxVb/ZRIp2xGOD5NcfR/TWqEP9e5EdW0dc85O8pkDEw6nGZqyMKC/KtxfiG1a21Ul7U+0gBf0nYi7t1aJpB02d/oLJngkbTQu9MfHjpGy5UWnDEGNp49Qhtmt2Qj9GPrAfTQbHGxvHaAPY/nvvvRd8JJZH4NVDFKN/PN22ukLIIPvepsgZ70eZnLqj/NlHn4nPi1Ddq6jUBIP2MXMxwcz6QGy4DdF+JviY3RhnHzOXJvy5UcCempzoLDXSK9g544EtywPYOfMOyoW6t5v5XqgWQggxPCRCdwEhmegPHp+uAhEF0ZUI6DvvvDMZRTFMyEfOI20M4AzkdSK4cPp4RCx2jOKJJhNWRLS21n31kCYmxDjlVWINDgmOSWqziBWEHCYxPoKM89eNdrcIlPg3lDlRKXZ+JtyUU3xMKrJ8lKCc4gjNGJsMtbU2bFtYu4gFQT+BaxKLaLFHM3vFbK7b5HKQ7aCKuje/miK3vwAEVpaXoL/DHnpZLxhoB7QHg3ZD+zFIC+XRi8htbdBH6DUB7QCbT9mJLcdhbZx+zENahi0GDQoTenJuYA8S7MtHcZrd18H6lEsvvTT0K0SckVeEL+rdbnxQ/7GN98Kg+944ktZvdYTD3PF+FKlbd/SZ3BhD8CVv5HEYNOVj0lel8mF112u/aqI9tuyfHBy0zY2aj2n9Jb6Ezyvv2cd3uWkaVx8zhyb9uVGiqZvllA1lFMNclHaHGB3bmBBCiOEgEboLTLCICLE/NjF4/8wzz3Q+XcAEaxzLpkSZpiAfUDXhxAnlET7w6/rm0s0xikVKypBoz7qPSuaQEgFwzOLH6y1CJbWZiG6PdZFeOxdrwTKJSImEOHkpZ4802eOrFg1ImbMMgRe/bAJla4qCve91cmVpajMKwMrJ/hAtRcqJJm2UyTjQdtSrYZNcE4ysbRINGGPHptZZ9TZXVfeDbAcpOCd9bGriyHcInKSxzK76Jbe/4DvSQzmwXiWiAm23yuZTIAbQF050IoA4Z9wXUg72GHed6GHSQXoYg7ygbnn0yxrUhTRRLik7sehsjuHasTjPmp+pm7ODqN9hQJugbfg/wyJ/RPMOA1tHmRvG2DEbEYP4LHUwO7rrrrvCZ+oT3wcRGqw/srHK/8liPzTV93ZrByYUprY6SyNwXM54b4xSO+i17my8ikXaqjGqSer4mAixXgj2WFuhrqwuququLtiyv+E6aJur42NS/7a0RZ1xKIbrk+eyYBibP+FTGGX+RVXdDcvHrEpTU/j67defGzbYFf0LdWXzUwObJQ+5Nscx+EmUTVlb4Xr4d/T9ue1JCCFEe1yybNmyyc77YnJycmo7f/58iFqqGyUzbjDYIe7wKDiOYBmxIOH/AMewcyEUEelQdb7c66bw1/FQX/aHSjhd1J1Po+XB/rgmJbIQ3cfgX5cyZ59oC/+HWd4ZJL384zoOMuWAI8KkGCfB0kcEFL8nz4hU5I+JjO1nssF1OQ/XoFwQbmwi58uJOuORrXvuueeiNOWAA+Mn7HG+DH+clXMMDhOPhhmpMk+l3ddlmQ1AyjatrsvS3Y2qyZxPf1xOhm8P8bkoJxx4IhQs3b7uy9JaZuP+dznptmOwIUujla/ZEsT1ZqTKu4rUuVPE7fPdd98Nwh6RSvHv4rTFaUqlvW66oal2EE8Kfd8V4229l/7J20Q//QXwPSKHT6v9DqrsNcbXCeW4Z8+eYu3atb+q39gOwJdpaoJdVk6p9mltM7cd5BKnq8xWBlW/qXIEb3vUiY0zVr+pcskltqm4DJrqw+LreLytxMdR9whivu/NwcrSbMfOCz5/qXT58s5Nd07fm1OWRlU7yCXV7iDuy+K0l9m4L4te2oHlyfwnI1UuOfRSd1X9eFwOvu66tU0ETK5lbdnnCaHS17GvF35PuzUfM67fuA7jcu/2faq/iEm13179sDg9Ri82F9dflT9g102N5XWIyyIuh27fe6rqJj4P6U75mN3Gg7qUpSmnn/N9VdU4Bqn+sBd/bpCk0pyyS/D1F/fLqb47ZSep+u3XfoUQQjSHROiOc9CLGNwPw7puG1heYqHC9hMVp4F/uFhdEHUwyo7qqGJOcSxE2X7EypQzLZrBJhR1haKZABPfXkSmUUL1K8qYSX2v2oEYRaytcTNAvrwQQggh+kXLcYi+4a490YExtp8IBDFceOyfKIyqx9VEOTxm7COZDNvf1Jp24tdwA4UIISJ94sc2xfij+hVVzJS+V+1AjCospQT9/keFEEIIIQQoEroTIWqPSfX6mFwu8eNa0yXiJfWoFSiiZ7hYBAv0+oihuEDq8T57dNMeF049bulRe6hHU48BD4q4f0/RdF7GORJ63Oo31QfEjPpj0WXYWJESfI1+HlXvh6q+dzqMaYNoB7GvW4bGKGFYu2t7XiSEEEKImcWMF6GFEEIIIYQQQgghhBBCtIeW4xBCCCGEEEIIIYQQQgjRGhKhhRBCCCGEEEIIIYQQQrSGRGghhBBCCCGEEEIIIYQQrSERWgghhBBCCCGEEEIIIURrSIQWQgghhBBCCCGEEEII0RqXLFu2bLLzvpicnJzazp8/X/z888/F5Zdf3vl2enL77bcXmzZtKubMmRM+//DDD8XOnTuLjz76KHxumueee6648cYbO5+K4sCBA8XevXs7n4QYTQbdTprG0j979uxi3759xTvvvNP5RojRwGz0s88+K15++eXO3sFx3333FevXry8OHjw4rcekRx55pFi9enVx9uzZYseOHcXnn3/e+Wbw4A/gY+Wko6oPW7BgQbF58+Zi3rx54TO+W24/VycNbeHT36tPNAr5EP0xSm1TTG/M1oyTJ08W27Zt63xqhyb6OSGEEGI6oEjoDjgEjz/+ePHkk08mhTUclldeeWVqe/HFF4NDYft5jeF7jmNyZODkcJ2XXnopCHm9wGQUkcKnh23Xrl1BSACuyT7y42G/pYfv4nNYvsSvsTJl82VdF37H7+1c3j4Msx07hvqm3mP8cSkbbAraBPaC7R4/fryzV4wC1Hs/9liXJtpB3J+ytWm/Ij0etUlcx2V9mOgfxLqtW7eG/hlfRpTTdDswP6rsfDnj/XRn0GNUDtTDuPq7Tdhcro/ZFJamJsb5JuoOAZj+8tlnnw03PfplnO1pEKTmrWX2243YdtnkPwohxHghEToDBspVq1YVr732WnBa2Igw2rBhQxDnEJNvvfXWztG/cNtttxVz584tPvnkk86eZkEMtPSwbdy48aLIJ9J13XXXVTpFOF84YXaO77//PnwepcnCKIANEGVlZXXixIkQNVi3nDjeog05Dzcjrr322oucMeqLaAnqwurlzJkzIQrOTxKYiJCe06dPd/aIMkxEj9uIqEdT7cAmgLYhnBGVpInE9IB6jMfMVB82DMz2EG3HKdJyOvdhXkSnfsYBE9WuvPLK0oCCnPFe/MK4ts1B0ZTN5fqYolnGsZ9rCh/IUmaXuTzxxBMX2S5zYfyNun6oEEKI4SERugtMplk+A4fOT/x4//zzz4eBFeeNwTR23hYtWlT89NNP4Zhh8OOPP4bXFStWhNccdu/eXXz77bdhMNcd/QtgA9dff32oc5sY7d+/P5TT8uXLw+ccKE/K9YsvvphyQLGNw4cPh/ObA7Vu3brisssuC49TG/Z+YmIivJKmG264odi+fXtx6tSpsE+INmmqHaQ4cuRIwQ2x1M08MX5Qj/RzfszkZixLSWBDQowz+Hr3339/GJfffPPNzt6LyR3vhcihSZvL8TGFaBPskqXHUnPnbvBEsV865dChQ2GuzZxbCCHEeKA1of8w+HH3HyctdWfaIv+q1qdDnCGKz6/x5SMNUuuMdbtuFfbbqrVDLd1EKt50001TabC7znzmrjRCZpw39i9evDg4pV5E6Aa/W7JkSefTL/i11izttrYwWLlZmRHZO3/+/LBumi39wHntPJZujiPaHPGKcnzggQeCI+LXKra6MYgeqbuWcaqccOaJNomvV0VZnVMn3Oggr9SnryPD8pFaKzFlf21CeSxcuLA035YfI5Wu2FbifFmZv/HGG8Vjjz02ZS9WRmDlhLhldRyvhRrbW6r+qcs1a9YUb7/9drFy5cqpdVVTawTGeTN8urrh7QA7t3KI02btwdIDcf5TaYG4PM1eZ82aFT6n7KgbTbWDFJZXbqjklmMulu5++wtfH96mrQwQ4+uWaaoOY1uK0xTbZbd2ENd9jOWlrB3UsW2DNMXjZrd+o1dy67dbOQLHkHdEngcffDDZ79QhbsNxG0/VXXxMTh/mIQ9EhZWN33E5QJ3+INUPGFZ+lr44/3H/3O17T1l/Z3XTrSxz20FdrH4IRvD2lDveN4XvQ6FsXMklp27iY8DbUlmdgT+uW9u0svzwww+LO+64I7QF6oubXXFZxu0FrG5T33niOsHWvZ8Sp8vsfc+ePcXatWunyqEs/f66qf4nFztfrzZnbSXOC3UQ9wVWxzzVWdY2q4jL0NOtr/M212/dlfVxlr+yuVoVuWnKaUu54xjEfVlZ3kadqrGkDmXtITXW9drPCyGEaBZFQleA48BEGuekaoDEMcCZ8lF8bS/FkcsHH3wQos9wWnLBCcK5ufrqqzt7uoMzgXBtj1/bmtfe0aY8cZxwpqoeo6Lsjh07Fr5DtODRQxwHH8mBM3fFFVeE6xHRwUTg9ddfD99ZJAfH3nLLLVPXYgkBosNZRoW05HLNNddcZAM4Nog1Vra5kX123DfffBNeSQPrmn333XfBieQ6ZnNff/11OAYo26VLlxYff/xxyOtVV13V+Wa0sPyAlTn1Q/1SZoa9t2OwFfLFI3Ye6ph9OOIchw1gY95WmFhRNtQtWxzFT9uk/Pg99lQG9fjQQw8Fu7NrcW6fbiZuRG2QXo4hb0wm4slPLjjHOOCWdmyT9mFgp0xSuJaliUmVpYl2ZftJh1/6wD/OzPGcl0mPfY89MykaRjtIYZFZRLS0QRP9BflmskRb5fdMfNjP7+oK0NZWaOtch+tZn+nBdrmW2RzH8hsTEQxs1R9HJBx1QxqxIZZw4LeknT7Z8sjmJ2SpduBtLpejR4+G8e/pp58OaeD3nIcbp3XFsBxy6pd8kicrhzIQFB5++OHirbfeCsfTvuN+JwfyTf7B6pixL54Ux31YPEbl9mE5cJ54mRTsoS5l4xA31Uj/uXPnpvKPKGrX4oky+iIrS9qLPZ6OrZWR2/dWlWWddtAEOeN9G9DOODd5orzAjys55NQd2JhNmdpxfuzJHaNy2+bdd98d2iV1d++99wY/CRvATyTNlDFpLPMxfVviHFzLp93bEjbHec3meMUGqUNrm0B/QTlYWZFH6t76TI7FBhHI7DpsdQXPHEbRx6RMrVywAWzByoDr2nhA/Tz11FNhjLDvCaJ59NFHQ1nWqTsre/uOuiNfsY/ZL7lpyu3ncsYx8taEPzdsqG/GVXyNXL+pDOwe38XbNOen3Xt7Y9srAVoIIUYCidANgCMSL8kxiKU4mGz4P2bA4bHrG0wGv/rqq9YfU8K5RYjBiQUrE5xdc4xwNHC8fZl8+umn4dUL3jhyPJ4POBbvv/9+eO/BmUXoAI5hAvDll1+GzwaTTpZMMbg+x3knGwfSl6HfmISYw26Ys/7CCy+Esq0DeSStYJM8HDAcToN0kT6DNFC2OLDY0yjDsi+kHefYoA4QxPwNGpxAP2FI2QrYpNWcRptYxbZi4l+qfuuAs2rXIk0IgogqYHZAOs1+sXVsvlcxgUmLTcTZmEj4MsB2KT8jTlMOnAt7ZTLnz0XboZy44QODbAcGkym7Bn0ZNxt839AkTfUX7Hv11VfDeyaCJp6zj+9yoa0g0nLNst/RRyCC+HLhWPqM+BFW7MJHSpFX8hmPBzlUtQPOR9v19mGb/+Mx8sVSQYiAW7ZsmRI+fbtvkpz6zYVz+Si11BiVgwl/3jYoTxMGjSb7sCrMnuK+oC7cpDbMHkz0oS+0G1UTExOh/lmyx2Bcp8+s44/U6XubKEvfL8VbLEBWkTPetwHjigmclFdqbO3GREbdWb34G5Ntgy9htkugRHzTknTk+JjdoB9D2PJ9L698pt+2cdOgz7S+jTTiq1mfaT6dF8hiBmlzlh6jm49JmfJd22vRs6QX9uVtjve06brLdDF+5fiYo0a3cYy0N+HPDQvvP3BzgbZivkavUCa0V2zX9wfW3m3eIIQQYrSQCN0QRDwTEcEgy6BIhKOfNLUBER7+Di+OR+p6OOE333xzSFsuOEN1Bm8cbO+ccy2EEpwoP0GJnW0ckfjxWD+pwbHAUYmJ9/uJsQeHy18PscuDQ+TL0G9MZkgH6QHvrHdLXwrKk+NZHoVHx4jo8Q4YZYigx+QPB5TJB/t8xAzf9Sr6tQ2TLtoAopMvc6LTvPPPK3mLj4mJyxanm4lQv05rL5gdePEPW+/naYd4Uko9e9vCsfb/cE+5lj32WYZNOOMbVrQ7zmWO+iDbgUE92jUQ5oj6aWuC1FR/AfSxtF1Eil7Fc9oKE267aZfConuInPVp4jP7LeoN4n6BvJLnOjcsciCfjDPePmzzIgW2S0QYNsN3FtE27PodFPRxsXA6bMxeTJTrFfMLOB99If2IF4msX6OPILKPmxFmu7xnXyweV9FG31uF75fizfd53cgZ70eVnLqjHBA4Gbv5vo5Y2iu+zMp8oRwfsxuMi9Rd3Hb5zH4vaMe+svWRJoLymeheG4NTfeAgbW4UfUzrL+P5Au/ZV1c8zvUxR41u41hT/tywsLZhaQHSWmduGkN0O/1S7IfZTTPKhjKyG6VCCCFGA4nQFeAAMfnJcYAY/CxirM0JUi8gDOBU5g705CF2hrqBs4SjbwM+ghkTcHPEAScAAcWL50Ro4MS3Ac4+E2WuYdfj2nXBSceBjZ31ugKPlSdrGhK1aIKNj0wxm8OGmOD58qszcR8WtAF7fNVvNpGiHfHYIPn1xxG9NepQ/15kx9YR1/wkrykQ8YikxGasjCgvyrcX4htWttVJe1PtIAX9J5MI2it5HwZ1+gsmeyZsNC30xsSPk7LlRqUNQ4yljVOH2K7ZCf0Y+cB+NBkcb2wcow1g+++9917wkVgegVcPUYz+8XTb6gohg+x7myJnvB9lcuqO8mcffSY+L0J1v6JSPwzax8yFMiEt1gdiw22I9jPBx+zGOPuYuTThz40C9tTkRGepkbrgs9GeKI8479g58w7Khbq3m/mI4EIIIYaPROguICRzl5XHp6tAREF0JQL6zjvvTEZRDBPykfNIG5MHHtmtE8GF08cjYrFjFE80mbAiorW17quHNDEhximvEmtwSHBMUptFrCDkMInxEWScv260u0WgxL+hzIlKsfMz4aac4mNSkeWjBOUUR2jG2GSorbVh28LaRSwI+glck1hEiz2a2Stmc90ml4NsB1XUvfnVFLn9BSCwsrwE/R320Mt6wUA7oD0YtBvaj0FaKI9eRG5rgz5CrwloB9h8yk5sOQ5r4/RjHtIybDFoUJjQk3MDe5BgXz6K0+y+DtanXHrppaFfIeKMvCJ8Ue9244P6j228Fwbd98aRtH6rIxzmjvejSN26o8/kxhiCL3kjj8OgKR+TviqVD6u7XvtVE+2xZf/k4KBtbtR8TOsv8SV8XnnPPr7LTdO4+pg5NOnPjRK93CwnjyZAdxsLmIvS7hCjYxsTQggxHCRCd4EJFhEh9scmBu+feeaZzqcLmGCNY9mUKNMU5AOqJpw4oTzCB35d31y6OUaxSEkZEu1Z91HJHFIiAE5L/Hg9zouf2PrNRHR7rIv02rlYC5ZJREokxMlLOXukyR5ftWhAypxlCLz4ZRMoW1MU7H2vkytLE2XQFlZO9odoKVJONGmjTMaBtqNeDZvkmmBkbZNowBg7NrXOqre5qrofZDtIwTnpY1MTR75D4CSNZXbVL7n9Bd+RHsqB9SoRFWi7VTafAjGAvnCiEwHEOeO+kHKwx7jrRA+TDtLDGOQFdcujX9agLqSJcknZiUVncwzXjsV51vxM3ZwdRP0OA9oEbcP/GRb5I5p3GNg6ytwwxo7ZiBjEZ6mD2dFdd90VPlOf+D6I0GD9kY1V/k8W+6GpvrdbOzChMLXVWRqB43LGe2OU2kGvdWfjVSzSVo1RTVLHx0SI9UKwx9oKdWV1UVV3dcGW/Q3XQdtcHR+T+relLeqMQzFcnzyXBcPY/AmfwijzL6rqblg+ZlWamsLXb7/+3LDBruhfqCubnxrYLHkoszn24RflCNAG18O/o+/PbU9CCCHa45Jly5ZNdt4Xk5OTU9v58+dD1FLdKJlxg8EOcYdHwXEEy4gFCf8HOIadC6GISIeq8+VeN4W/jof6sj9Uwumi7nwaLQ/2xzUpkaXOoO4pc/aJtvB/mOWdQdLLP67jIFMOOCJMinESLH1EQPF78oxIRf6YyNh+Jhtcl/NwDcoF4cYmcr6cqDMe4b3nnnsuSlMOODB+wh7ny/DHWTnH4EDxaJiRKvNU2n1dltkApGzT6ros3d2omsz59MflZPj2EJ+LcsKBJ0LB0u3rviytZTbuf5eTbjsGG7I0WvmaLUFcb0aqvKtInTtF3D7ffffdIOwRqRT/Lk5bnKZU2uumG5pqB/Gk0PddMd7We+mfvE30018A3yNy+LTa76DKXmN8nVCOe/bsKdauXfur+o3tAHyZpibYZeWUap/WNnPbQS5xuspsZVD1mypH8LZHndg4Y/WbKpdcYpuKy6CpPiy+jsfbSnwcdY8g5vveHKwszXbsvODzl0qXL+/cdOf0vTllaVS1g1xS7Q7ivixOe5mN+7LopR1Ynsx/MlLlkkMvdVfVj8fl4OuuW9tEwORa1pZ9nhAqfR37euH3tFvzMeP6jeswLvdu36f6i5hU++3VD4vTY/Ric3H9VfkDdt3UWF6HuCzicuj2vaeqbuLzkO6Uj9ltPKhLWZpy+jnfV1WNY5DqD3vx5wZJKs0puwRff3G/XFWWvu5S9duv/QohhGgOidCdAa0XMbgfhnXdNrC8xEKF7ScqTgP/cLG6IOpglB3VUcWc4liIsv2IlSlnWjSDTSjqCkUzASa+vYhMo4TqV5Qxk/petQMxilhb42aAfHkhhBBC9IuW4xB9w117ogNjbD8RCGK48Ng/kQM8yicBuj48ZuwjmQzb38uadiIPbqAQIUSkT/zYphh/VL+iipnS96odiFGFpZSg3/+oEEIIIYQARUJ3IkTt0Z5eH5PLJX5ca7pEvKQetQJF9AwXi2CBXh8xFBdIPd5nj//Z48KpRwQ9ag/1aOox4EER9+8pms7LOEdCj1v9pvqAmFF/LLoMGytSgq/Rz6Pq/VDV906HMW0Q7SD2dcvQGCUMa3dtz4uEEEIIMbOY8SK0EEIIIYQQQgghhBBCiPbQchxCCCGEEEIIIYQQQgghWkMitBBCCCGEEEIIIYQQQojWkAgthBBCCCGEEEIIIYQQojUkQgshhBBCCCGEEEIIIYRoDYnQQgghhBBCCCGEEEIIIVrjkmXLlk123heTk5NT2/nz54uff/65uPzyyzvfim4sWLCg2Lx5czFv3rziwIEDxd69ezvflPPcc8+FMt6xY0fx+eefd/aOH8POxyOPPFKsXLmy2LlzZ/HRRx919g6HJ598sliyZElx8uTJYtu2bZ29YhjcfvvtxaZNm4o5c+aEzz/88MNI2AhY2mbPnl3s27eveOeddzrfXIzvV4y4fxmWzdHuwV/T0nvs2LGsPlAIIYQQQgghhBDTH0VC/wGElFdeeWVqM2FlWCCo+vS8+OKLQdiZLpTlz/bzGsP3HJeqm/vuu69YtWpVcfjw4VbFRa49anUxKmmy+nn55ZeDuOohjbt27Qr1ZNjx3g4QUsu+Yytrl+z3x9l5AHvg8+OPP14cP368s3e8eOKJJ8Lrs88+G/LBNgriLuV67bXXBgHdw00oBOjVq1cn27IQQgghhBBCCCFmHjNahEYsQzQjgtcLPF9//XVP4gniy9atW/sSiRB2EFRfe+21qfQQIblhw4bOEeMNgmFZ/hAMiVS99dZbO0f/wm233VbMnTu3+OSTTzp7LkAdrlmzpjhx4sTIRF1iU+RrJkVBY/vUI1G969ev7+y9cMPhxhtvDPVjkb6I0bS377//fsoG2K688sqLhGqieu077OX666+/SGAua78wDuKnCeQbN24sjYImjwi9iLpVTxgM2uYo38WLFxdvvfVW8sYPbRHRn6cT4psSQgghhBBCCCGEmHnMaBEasezHH3/81RISCDrDEDSJAL3hhhuKL7744iJRivfPP/9859P4YoLkwYMHk/lDzDpz5kwQ3WLhatGiRcVPP/30K8HL6nD//v2dPWJYUI+IzYjFiMnY89KlS4uzZ89O1Q/7+A4bjwVTbMDbhYf9/Ib2wTnAxO5XX311JNpvG1CWCPujBG0TcdnfWEhBndM2/U0JIYQQQgghhBBCzExm7JrQCGGIIwiiVYIVggvrtrLUw/z588O6q+DXlkUU82u2Um5la7wixPKYugeRDiEcOA90W1s555qWdlsPF/xasnaOU6dOFadPn55KV+pc8fXitXVtqQQile08qWO6rRtt5ZNKJ5GzXrj0dVNWh1bPs2bNCp+trP31U+Vka+umvvMQ7YnoCUS1mn2A/w7IG+Ldhx9+WPyh3YXyefPNN4sHH3zwV+sCV9VdnTRBnK543WBL1549e4q1a9dO1XEv6wtbXQE2tXDhwovyxbWIhC9rH1BW32Zjvl4+++yzi/JaBeVAelJrQsf2DXE5QlyWqbaSauPenuP6i9uJp1s/1c3mjG7twNJU1c8ZZi9lafbk1LcQQgghhBBCCCGmPzM2Evrqq68Or99880147QaiElGYPPbP5iP8EHJsGQ7EpjIQjOKlKBD6DM7DY/cIYdu3bw8CTgoEo6effjqIx3YeRCrSg9gEiGp8RiiyYxCouL4dYyA4ISq99NJL4TgiTjmGc4BdD2zZA84bC21EORP56suIZTY4DxsCNMJimQANiFoIX35JjqqlOBBvy+qQ8qMMEMCsDLg+YqPljVfSSAS2HcNm4ifpod7YR10h3lkZsHnBj/fsoxzJQwqEx1tuuaXYvXt3EDB/85vfFG+//Xbx7bffFsuXLw/HkKaququTJoRbhFerW16JNI/XkSZdrD1sNmXLX5TZYBnULWIj9UW9xdGyCJxEtGNjdSAd2JfZgEUII3Q3ATZAOq0Mace0C59/3rMEhW+/8VIa1A/1xO/tGDYvIPv6o15jqBdbE/vRRx8NwjFtzda89nWXY3M57cCo6ucM2ib7z50719lTDnmlvq2/FUIIIYQQQgghxMxkxorQiGEehBoTedi8+ASIfQjNiGxsiDiIqrGIUwaCKWJgt0fYEatMUDLhySJAjYmJiSAC+SUojhw5EoRMlq0A0oiQighkfPrpp+E1FoQQMV944YWpY1kT+7LLLiuuuuqq8NlEKL/sAceSTo+PrmRD0PTnyYHzxktylC3FQR2S548//riz5xeoFwTxuLyPHj0a0oRACqSNz+R5UHCj4fe//30QFxHyfve733W+uUCduqsCQRSx1v9hI698NpHYg3BqAjYiMWVu7QTR1LcPv8X2SX1QL4jslm7jmmuu6by7gD9v/OeFiM72HW0BwdaLuU0SLwVCOdEGfT+RI6DXvbmVgvq3m1oI3pSjF7WtH8ohtx0Y3fo5XvlM285JA/ZNX5Va510IIYQQQgghhBAzhxkrQscRlIhbCDxlEYWxSIlIWEcMQgyEWJRLgQDmIyUR43z0I0KeRUubSMd79nmRLxbWLaoyJo5ORojk+qTDRCeEYRMy24ZoVyJzEaG5PpGZqevHgqbHxGWiWeMy4NwmFnJOlnSw42JBtWkQFL1AWSZ+59ZdFeQxJd7zOY5OjdPFMdiAidIWcZvaLGrcWLduXbBF0usj6iHOr50XsZU0eRBE7Rq0S27ixBHcTUE6EcGtvLds2TK1XIZx6NCh8Mp3sWBu2M0g6ovzxDezBk1uOzC69XN2PiGEEEIIIYQQQog6zFgR2gS3WIQZNRDpiIJE1FuxYkVn74WoY78Eg20mCCJ+WfSofWdRlcMgFVVZBgKoRaGWLcUBOdHLPv9+8xG1JoRSzhZ925bYmcOo1V0dEGZZsgIB2ewWUdrg5g/LaNhNmVywCR/BHUdq9wNpJtqfc1p5p25GmTBPuysTmrFzi2KmDOxpBn43THLaQQ4W2VyXnLYqhBBCCCGEEEKI6cuMFaFtyYBBPiaO+OZFb0RORNm6IOgQjVi1zAXiHCKaRW/2Sh3xuBsIybGYngKxj8hnIqDvvPPOZDQvIGimlpUAE8uqoqVjLBoe8bTsvIOgqbrjRgs2Z8uaGN3W0k6BiGpRtPHmo8dtXWuWe6A8EWKJYLY0UI/Upy0bUxd+i1hsNuLP3SvWJklzDiY0I0ZzM6isD+GGEPZEGWDLw7ip0Us7qML6g9z8WOR0U2t3CyGEEEIIIYQQYjyZsSI0Ygpr8xL52vYSDGCiN+uzIt6w8cdgiLIGYhpp8eIO7/kNYheP+oOJk/anfyniiFOL9qy7pAMgziHK8sd1BmllWYI6kH7yEf85Iu+feeaZzqcLmGCNEFy2FEiVoOnrt24Uatnav4j/gxCn69RdVZrM5vjTSRNqeeUzeatamzwmZzkOIoIpb7/+MLZDXmxdcerMlj+pUy+Wbm8Ldu64HXDeOstgxE9FcK1Nmzb9ajmOGBNYq6J8SRc3cOIlbwZFP+2gDNpmbjugLKtueNjNjUH0wUIIIYQQQgghhBgelyxbtmyy876YnJyc2s6fPx8e/+8lUnecSAlORKHu3LkziF32PcIZQlyKKtGKKEgT6eLjiLhF8CSq0P7QLyU4+nMYqWtSX/v27ZsSABF2EJ+A7w4ePBiEPJY1IEoVgQwhHIEsPn9MfD1fRsC1sBXLByAwEanqjwP2I0Ia/g8NDX89yon0puC6/IlhfA3Dlrbw+OulyjvOm8eXKbDMgdlF/J1h5yNPCPDUESIw+cOu+IPJuB661Z2nKk3Q7XvKyNJVR5j2WDkiesd1afXtr5sqd6sXiG/QQJxuMBv2x3a7juGPi23y3XffDcuK8Ad8dkyqfuM0xeeBuP3mpgnsWOo/1Qa62ZzZcLd2YO2tqp8z7FhuCFT1Gzn9i6Ur7ruEEEIIIYQQQggxvZjxIrQYb+qIZ0KIZsi5cVF2E8pjQjUR5VXHCSGEEEIIIYQQYryZsctxiOkBohXRwXWXdxBC9A5R2UTzE6VNtHYMIjVtkrZZJSyzPjxR7NxEkgAthBBCCCGEEEJMX/7en/zJn/znzvuLIBr67/7u78J6nkKMMohXl156afFP/sk/CUsf/M3f/E3nGyFEW7Bkyd133x2WE+K9QXTzunXrkkvHGDzBwB878qeOLLfzV3/1V51vhBBCCCGEEEIIMR3RchxCCCGEEEIIIYQQQgghWkPLcQghhBBCCCGEEEIIIYRoDYnQQgghhBBCCCGEEEIIIVpDIrQQQgghhBBCCCGEEEKI1pAILYQQQgghhBBCCCGEEKI1JEILIYQQQgghhBBCCCGEaI1Lli1bNtl5X0xOTk5t58+fL37++efi8ssv73wrhJjOPPLII8Xq1auLs2fPFjt27Cg+//zzzjdp7rvvvmL9+vXFwYMHi71793b21sOuCQcOHPjVeez748ePFy+//HJn7/RgwYIFxebNm4vLLrus2LlzZ/HRRx91vmme22+/vdi0aVMxZ86c8PmHH35o/ZpCNIFsVwghhBBCCCGmBxKhhRCBQYvQOb+XCN0MJuQdPny4tKwtPfPmzQuf+xH7/M0FKKu/ujbXD7lp6kZOOeWWpT8udROmSQZdv9a+Z82aFT6fPHmy2LZtW3jvMducPXt2sW/fvuKdd97pfPNruO7KlStbby9CCCGEEEIIIZpHy3EIIQIIYI8//nixdevWVsVAY9GiRcW3335bHDlypLNHDAsTKL///vtgA2xnzpwJ4iAiYR0QCletWlW89tpr4Ty8Ll68uHjyySc7R1wQHhEt/+zP/iwI0G2Tk6Yccsoptyy59rPPPlucPn26s6c9Bl2//gYTx7z00kvFtddeWzz33HOdIy7AZ9Lw5ZdfdvYIIYQQQgghhJiuSIQWQows33zzTXgiYxBC3aBB6EcU/PHHH4tz58519g6HdevWhYhsIlENez8xMRFec0DQJFL1xIkTUxGtvPJ54cKF4XsE0Q0bNoSo7N/+9rfhmDbJSVMuOeWUcwxC7g033FBs3769OHXqVNjXJoOuX0ToL774Yiqym6hl6vv6668P34GJ1rz+7d/+bXgvhBBCCCGEEGL6ouU4xLTFou4++eSTqUfHsWnEFxNQAOGEaDxbcxT8o/EWRYhYhBhadS4ElSVLlnQ+FSHK05YZsEfJP/zww+IP7S48Dv/mm28WDz74YNaj6DGpdINPF+lB7HrjjTeKxx57bOpY//g86fKP1pc9Nm/lYI/zG70uI2Bp62cZhri8DZ+Hqvq1PFGv8+fPD3mjbIDz2nksrRx32223hXpFVHvggQeKn3766aLlAeLy7GfZA0vf3Llza9uHx8qgbDkOayu+3i0fdZbKQGBcs2ZN8dZbb02l1dtNbCv2HbS1HEfdNFWRU05PPPFE2J9blvZdr+0oh0HWL3aesjXScOONNyaX7qB9EU3dzcZJs5bjEEIIIYQQQojxRJHQYlqD6IFowePgPBZOdB4iCqIcIKDw2Diihj2mjkjC4+YWsWcgSsbn4hjOAQgkYOfhOKIPTZQChNBbbrml2L17dxCLf/Ob3xRvv/12WJZi+fLlnaO6Y6Iij9T7dKeEccQh0oAoxHEIRQg+lj+EIvazNACCVAqu9/TTT1/0OD+P4XO9YWHClS0LQHkj+HoBOrd+EZaPHTsWviOi88orrwzl5CM3KccrrrgiXI96xRZef/318J1Fk3Is9WvXokyJdCby1+xk1CBd3Gz8+uuvO3sulO3SpUuLjz/+OOT1qquu6nxTzdVXXx1eaRtgdvPXf/3XoW4Q+gdNU2nKKac//dM/bawsm2LQ9UubAZ5iAK7/4osvFt99913oX6655pqwXwghhBBCCCHEzEIitJjWxFGoR48eDVHHiCdA9B+CpY+q+/TTT8OrCS4GAsoLL7wwdSyijhdwEHN9hB/HIRIjAHkBErHz97//ffjDLpZh+N3vftf5Jh+EHvJBlLdRlm6EYoRT0gcmDsXHVWEiKwJ3GYjwr7zySnJDhPJlwHsii4ku7zX6FTEL8R4hDVLlnVu/1K2tTU25vv/+++G9h3LEfoBjSHu8li3i//PPP9/5dOH6HNer+MjvWaN748aNlRGi/UC6SJ9BxCply3WJ8q6DF3QR5LlRQtTsMNf9bipNOeWE7TVVlk0x6PqlXdE+wERq+jz6ICGEEEIIIYQQMxeJ0GJaE6+3SwQfwosXU2Lx9NFHHw0CcQxRwF4wRXAmotAETov48+ciEtuDkGkiMPjoxDpYPm699dbOngt/9Mc+L7gC+yxyERAzETVNlM4B0QqBNz63h/NZBHC8IXhRdlZGRAiTjvix/DpQdixTQRQzIHjx52exsJ1Tv75u4/Iy4v1l61Qj8vnrpZYLGSVoH7QThEPqhnL1yzbUWbPaymTFihXhiQNuAHnxvKzM2qSpNOWU01dffdVYWTbFoOuX/o22ctNNN02J1L6v4fpCCCGEEEIIIWYeEqHFjMTEFARK1kVlGQYTTHtZZgJxlXVRiTi05TrYWBqiDUxYQuQ2sZOlKRB8qoTiYWORvfwhG5GUCLa9Qh0iJiMqk/8tW7YEodwL203Vby7khyh1rmHX49qjDHWCCG9Lkvjy4+ZDHRAgETtZksQ/NWCR+8OgqTTllNP/+T//p7GybIpB16/dqLnjjjsuEqnjiGwhhBBCCCGEEDMLidBiRoFYAhaNTEQ0S3YcOnQofO4VE1g+++yzgYjARCLGgnebSzZAvKwIj937iOI6y3EgjBGxHJ8zF37DmrZeXGbzEZ7QVP3mQJrIDyJcm/XQBkSnUk7edssiy6sg70TBxr8pi9IfBE2mKaecmirLJhlk/doNsvjJCa6HUG3L4QghhBBCCCGEmFlIhBYzBkQQHiFHHDGRkGhahBETp4nO5Y/sUstxVGHCi48sJCo2Xo6jSXy624a1p/ljPsRvsAhjT85yHE3TLZKzqfrNgfwRceqFdZZr6Wc5Ds6DgL9r166Q9rYwkZ6yMex9LODTjoim5eYCduBBdORGjP/jS1753OsNGn5P/rkm165L3TRRZ6kbJ5BTTnXKMhdb4oW09UKdNPVbv7QDIq7p++z3nJM/8mz7Bk2/5SSEEEIIIYQQoj0kQotpDcIpSz8gTLBcA0KJj5ZFOEUYsSUdEGYOHjwYogbrgPCCuILYyXnYoK2lGOJ0+62uAGOiG+VEedkSH1745HrkBeGZ74hC3r17d+1yaopUedvmxcqm6jcX/riRCHWzOf588d133+18O7ogHrJ0ApGxVo6I6X7JBYMyt6UXUlD+J06cmCpzXilz9huxzfl2GgufFn07Z86cqT/IrEtOmoyqGxs55ZRzjBd67WaOta2U+G3rKC9cuLBnIX6Q9Uu7O3DgwFSeUn0vfQt9DN9zo8YvrdPrMj39lpMQQgghhBBCiPa4ZNmyZZOd98Xk5OTUdv78+bBuKhNVIcYRhAzsd8eOHa1E4Q4TRDyEFoQlLyKxn6hExNBRXxKCtCLS9lI/CEz86RnClhe/bD/R7vHSHDMZK5fDhw8HgXDcwFYQKhE2xzH9/WL1x9MW07E/y4UbFERUx/2eoXISQgghhBBCiNFFkdBCjCFl0ZrsJ2qU6NFRh6Uy/BIfdSiL1rT9FhEpxh+ERW64nD17tjhy5Ehn78xiYmIiRIKzzIWE1XJUTkIIIYQQQggxuigSWkxbxjESmjR3W0f65MmTYSmMzZs3BxHXg1A3Tvm1CFeoG+VKVGS8LjXM1GjZKixCFIEOWI6kLJp0lLD2gM3PxMh2lqywtZvH4emGNsixXZWTEEIIIYQQQow+EqGFEEIIIYQQQgghhBBCtIaW4xBCCCGEEEIIIYQQQgjRGhKhhRBCCCGEEEIIIYQQQrSGRGghhBBCCCGEEEIIIYQQrSERWgghhBBCCCGEEEIIIURrSIQWQgghhBBCCCGEEEII0RqXLFu2bLLzvpicnJzazp8/X/z888/F5Zdf3vlWCCEGy3333VesX7+++OKLL4pt27Z19l7gkUceKVavXt35VBQnT5781TGjzO23315s2rSpmD17drFv377inXfe6XwjPAsWLCg2b95cXHbZZcXOnTuLjz76qPNN81idzJkzJ3z+4YcfWr+mEIPkueeeK2688cbOp6I4cOBAsXfv3s4nIYQQQgghhGgPidBCiJGlSoQ2TKT8/vvvJUKPCNwgWLVqVSP5GoYIffjw4VJhztIzb9688LkfodoLgoy3cXk9+eSTxZIlSzqffqFN4bBbmupgN4rOnj1b7Nixo/j888873zRPfFPq+PHjxcsvv9z5lE98nrbTbn3crFmzwudebqbFNgnd0p1j60IIIYQQQgjRJFqOQwghhgCiJSLjxo0bFQU9JvgbHo8//njYzpw5E8Q8RL06IPZyk/fZZ58N5zlx4kQQIxElPYiJdoxtbYmGuWnqBmWBAPxnf/ZnIf1tYzc9XnvttZBuXhcvXhzaVx3I58qVK6fO89JLL4WbH0888UTniGYxAfrgwYNT17v22mtDPdQBoXnr1q3hHGzUH2Cr2KwQQgghhBBCjAISoYUQIwsR0D/99FPx9ddfd/aImQYCG6Lvjz/+WJw7d66zdzisW7cuiJJEBxv2fmJiIrzmgGh6/fXXh5sPFqm6f//+4ttvvy2WL18ePg+aptKE6Llhw4YQYfvb3/62s7c9ELwRjhHM7WYOr3xeuHBhrZsD/A7h2s7DjaLPPvssCMN1bzJ0g3JChKaPs5sKXI9yox7qCv8e6u/YsWPF3Llzi9tuu62zVwghhBBCCCGGi0RoIcTIYtHCvTxWbyD2vPjii8Urr7wStl27dv1K4ImPYYujKPnMMffee29IT+o4IhjZEPTs+/h6FiVq3/M+Frg4nv3/7t/9u4vSlYqQZJ9977c4/VVYmkg3v7NzxGnrVk6WFpYzYHmBRx99dOo4fsfvDfJI2ZR972F5AiI9TRyNsXSl6rZJrrnmmhD57JfeoHxYQ/qGG24oTX/M/Pnzg7j78ccfd/YUQSxENGxD8MyhqTRRR9TVoJZ4QLCFTz/9NLwC9UB9UC9NlCVL5th1muKqq64KNzQ++eSTzp4L3HrrraHtLFq0qLOnd7iBh8gthBBCCCGEEKOARGghxLQFAerpp58uTp06NfWoOo++x0sMELlJ9KMdw5q7rMWLKOthzVUezSda0Y7jsX9/LtbTXbp0aXgkng1hj+9NoDRhnd+zbm0ZCF8PPfRQiGi0a3FunyZEXwRCHuPnGJYRYB3fXtfDRTxGvLO0E31MWRndygmx2PaTDlvWgM2LyBzPeYkitu+Jdh7l5QNIF0tV+Kh86pG6RrhFUERYzAExm/z68lizZk3xwQcf/ErwxOa2b98+JdbHNtkUddI0Slx99dXh1cRWa/N//dd/HdbrRlzvB8qlDTHXyvObb74Jr9gXN1K+++67sIQJ1+0VyoDocKK4/Q0TIYQQQgghhBgmEqGFENOWiYmJIKSyrIBx5MiRIAz7SMPnn39+6hF8QLhJCVgmrFqUpwlIJoSB/0MwNgTwOgKlBzHXP6rv02SiqI/MRQwlb70KWPwpmonFbIiSXMOE4dxyqoJzIdz65RPg6NGjoZx6WT6AtJLuNtfXtshVgxsAlDPXRaTMxerNMCH7hRde+NVyI9xIMJGeDXvgRoGPPm+COmkaNbztcbOH9bnfeuut0M77BSGeGz9tiLn0GYj7YMI5N5zoX3qBOrSnFLZs2fKrfk8IIYQQQgghho1EaCHEtAWRMI4k5T37vFCLeOWXhkDE4VH+mDgiEsET4XNQSw94TCT2SyXY8gnxI/65xGtvx8tg5JZTFSbmEkFt52Fj6Q7O5QX9UQIxFmEP4RCxj7KifIzcNaut3sAL2VbGVVG32Bk3Cuos/ZFDP2kaNqdPnw6vK1asCJHbO3fuvOhGhH1fF2ydPzvkplIbYi43sCjXm266aUo49/1I3XXwqSvqzG5YcPOLpxnIhxBCCCGEEEKMAhKhhRDTGkQkxBgfUcpmAiIiDUtDILLZdyxvQYTvqINQhXCLGGxCLhHGbYjiTZcTS4bYefzWRtqbwIRahH4iVv1yJ/6GRg7UGxG2sZCdG1Hea2R9Ff2maVgg5nJj4JZbbgmR2xaxzHIXFmlcF7N1ROJXX311SoxvEhP177jjjouE8zjivleG/UeXQgghhBBCCBEjEVoIMW1BUOsm2FnkLctBjBNEPy9cuDAs0eBF3F7Wgs6hqXKyiOK6wu0ogD0huvulGagHotGJPM0VK4nOZWmX1J/pxX986LFlM6qO6ZVe0zRsEHMRi+PyZ7kd9tdNN/VJRDW/RRxuK9/WDlJ/dIl47uuhH7BZIYQQQgghhBgFJEILIaYthw4dCq/8oV7Z8gXxus6IQDweX3eZiWExqEjVOuVkx/p1tw2EQiKJibptam1j6pYlMlgqpM3lB8ye/J812nv7ziAdpCeVJluXnP1ml+vWrQtLqVSJ/PwpZtkxlCXR8Cyn0Qt108R1+rmeYeXEzRNsqi4IuKzZ7P8glFc+p9ZytnLCXuI+gc/0FdBNgCatpLlXm/PtwP5sknPyh4II6/Ha5lZOudfDVrgBF9tlLla/Ta8/LoQQQgghhJi5/L0/+ZM/+c+d9xcxOTlZ/N3f/V3Pj7MKIUSbII6wHvO/+lf/KgihiGUPPvhg8Zvf/Kb4v//3/xb/83/+z+Jv/uZvwhq69957b/Fv/s2/Cd/Hx7CxLus/+2f/LHzHsYhuV155ZfH73/+++G//7b+F6y1btiysJY1wxHlT/Mt/+S9Dn/nee+8Vf/u3fxv2xb9DQPpP/+k/FWvXri2uu+664o/+6I/CNbn2P/yH/zBc70//9E/Dsg//63/9rykh7O///b8f/iyO5UU4hnORRku339jHnxRaGroRnztFbjkBx1InPm0+TeTp0ksv/VXa66bb+OM//uPin/7TfxrOye+5fi9YOWAzKQHS7Omf//N/HsRn0kz08F/8xV8U/+N//I/OURfgPESqM47GaSJ/7CPN2CLnIQ//5b/8l+K//tf/2jnqghD453/+51Plg0j8H//jf0zm7x/9o38UlqQgUtpsuw65aQLEWsRS6pg0vfvuu51vLhC3TTbec07qyJctQuldd90VjuF9mf1VwW+wzX/9r/91uAYCNCLuX/3VX3WO+IV/+2//begriEL27RT+/b//98XNN998UZu0jTT6fNLO77777uKKK64I5RSXQQ7WDvizSa7BNdmHQB5TZU++T7H0Ui/sK+urutn6nXfeGfon8sYxZecRQgghhBBCiFwuWbZs2WTnfRCebTt//nyYXPt/zBdCCDEaIDwhhB48ePCidZRtP2tDt7U0x3TForsPHz48smtTl4EwvHnz5iDktrmMRBsgWvNHlSwtM07lTgQzAjLrm49bW+tm6/Y9Yv2OHTtaWRdbCCGEEEIIMbPQchxCCDGGsCzGrFmzOp9+wfazxq+YOaxYsSJE3KeWoBhlEDuJ8CUKnyVBxgVEfyKJWSO81yUvRpmJiYkQnc4THBKghRBCCCGEEE2gSGghhBhTLILUQ7+9b9++sK5sztrW4xZ92iYW/WllhsA46lHFPs3jVpcsN8KayCz3sG3bts7e0cfaHcL5uEUJW5kbsc3YkxRAPxKvTS2EEEIIIYQQvSIRWgghhBBCCCGEEEIIIURraDkOIYQQQgghhBBCCCGEEK0hEVoIIYQQQgghhBBCCCFEa0iEFkIIIYQQQgghhBBCCNEaEqGFEEIIIYQQQgghhBBCtIZEaCGEEEIIIYQQQgghhBCtccmyZcsmO++LycnJqe38+fPFzz//XFx++eWdb4UQYrDcd999xfr164svvvii2LZtW2fvePHkk08WCxcuLHbu3Fl89NFHnb2D47nnngv9+I4dO4rPP/+8szfNggULis2bNxeXXXZZ6+m9/fbbi02bNhVz5swJn3/44YehlZG4gOpECCGEEEIIIURbSIQWQowsEqG788gjjxSrVq0q9u3bV7zzzjudvb8w6iL04cOHi71793b2/kIsiBpnz57NykuvmM3NmjUrfD558mTjtodNLFmypPPpYtrKX6o8Dxw4kCx7wK5WrlwpEVoIIYQQQgghRCNoOQ4hhBAjC0Lp448/PrVt3bq1NQEacRgBGkHfrtfGzY+XX375ojyxPfvss0GA/v7771sToD/77LOp61Guq1evDmKzEEIIIYQQQgjRNhKhhRAjCxHQP/30U/H111939og2QfxEBP3xxx+Lc+fOdfbODBBjFy9eXBpR3jYrVqwo5s6dWxw9erSzpzkQoeHQoUPhFYhuZrmN+fPnd/YIIYQQQgghhBDtoeU4hBBjhy0V8OGHHxZ/6MOCmPbmm28WDz74YDF79uyLhMRuyxCwXMWNN95YHD9+PESogv0G6i5HEC/nAPHaurbsxbx588Jn+lqfZs6xZs2a4u233w75tOP80hCW7hR+SQeOg08++SREvkI/a/1a2hFM+xFsrYy7LcdR9n3TWDkNY9kXK1NuALRx/dSSLWanBw8eTJavluMQQgghhBBCCNEkioQWQowliMq33HJLsXv37iDi/uY3vwmi7bffflssX748HIO4h9CGkGbLECA2I8ghwgGiH+IuUbC2j99AXQEO4e7RRx8Nwp6/ngdx9emnny5OnTo1dQzHc027PiCmP/TQQ1PHvfbaa8X1118flowA0s1+BHXyz/d2vnjJCsTqpUuXhiUf2Ih03rBhQyifUQfh/JVXXgnbiy++2EqaOSc3XL/77rtwDbseNyWor7YhCpobDdwoaIMjR46EdoFtYqPkiZsc7OM7IYQQQgghhBCibSRCCyHGlmPHjhW///3vQ9Qxy0f87ne/63xzAYRYxFovJH/66afh9eqrrw6vgJCNIIcI/Od//udB7H3rrbdqCdAImQi9CNpVkbsTExNBBN6/f39nzy8i4aJFizp7LuCjs4lgZXmSG264obYQ6yOj2RC2+fPBq666qnNEPvwekXvjxo09R0HnQNkjuJuwjngOCPhNC8OUA+XBH0iSJ7vmmTNnQjR220L0rbfeGuqoLUHY6gx7QtTfsmVLWB+6zfW1hRBCCCGEEEIIj0RoIcRYQvTvN9980/lUlK4bTeSnRbayEQ3ql8oAhLhXX301CJH/4l/8i+LEiRO1BVYTMrtFs15zzTUh6nX79u1TaeI9+/jOc/r06c67C5DHXsXjcYc6ok6IEG9LFI7rnfWZ27wecOODmx7cUGlLEOamBRHeiOwvvfRSiJon8n9Qkd5CCCGEEEIIIYREaCHEtAUBmshPIkAtuhUBDgE7BiEQwRFiMbhpiHolstfSZFvOesAz8U8DYwb1Z3r2x5htXo+lY9peFmPdunXh5oUtL4PQ/pd/+ZfhO1t6RgghhBBCCCGEaBOJ0EKIaQviIX/Cd+jQoc6eNESDskYuoqOtvYyA3QuxYBkL2v1EM3Mu/rxupi6hYEuo2JIqTYEwy9IbcV3ZjYk4Ir0pLAqa5VHarFPyFd+84D37hBBCCCGEEEKIQSARWggxbUE8RERE6ANEPyI/4+U4LBp03759IUqUZRn8nxfmYEImSx7YEgfPPfdc+FNAjwnidf8YkPWRyQdLRHhsSZJ4Pem2sKUddu3aVat8+oVrUSfcKIiXSqG8WVqinzSxjAp1ZTcfyCfnSkUps59r9bucBVHQRFp3u0mCHbFsi/0pZV3IG8u9EBFt9PtniP2mSQghhBBCCCHEzEIitBBi2sIfBCJasg40ghli88GDB0N0NJigivh4+PDhqT8i5E8DER85vo6oyR8cEl3KH79xPaKeDxw40Pn2AlyDZRGIhvbrQqcEVJYSse8Rt1lCIRZg+UyelixZMnUseaojcI8iJvRanqgLbhKkliyxqF5uLiDs9gK2Ql1ZmVM3RJ2n/rzPlumYM2dO+KPJXiB/3FTgDwLN7sqw9c79DY46WN68jZBP9vFdL/SbJiGEEEIIIYQQM4tLli1bNtl5X0xOTk5t58+fD+umXn755Z1vhRBCDAIEShPMexUJRx2Ey02bNgXxv4k8+vW/iVBuGyKAEXX7EXJzsbJCaN+xY8dAlmOhPFeuXDm1jnTMMNIkhBBCCCGEEGJ8USS0EEKIsYao76VLl2at/90ECLBEAPMHk23+oaBBtDVR18eOHRsZsXcU0ySEEEIIIYQQYnRRJLQQQlRgUcnxOtIe+kpbT7oJZlIkNEImICCXRd1WYRHJCMKDiMi1db5PnjyZXBqkScwOoEn7KiOnTgadJiGEEEIIIYQQ0wOJ0EIIIYQQQgghhBBCCCFaQ8txCCGEEEIIIYQQQgghhGgNidBCCCGEEEIIIYQQQgghWkMitBBCCCGEEEIIIYQQQojWkAgthBBCCCGEEEIIIYQQojX0x4RCiJHlvvvuK9avX1988cUXxbZt2zp763P77bcXmzZtKmbPnl3s27eveOeddzrfDJ5HHnmkWLVqVVY6FixYUGzevLmYN29eceDAgWLv3r2dby7w5JNPFkuWLOl8Korjx48XL7/8cudTOfxu4cKFxc6dO4uPPvqos3fwUBarV68uzp49W+zYsaP4/PPPO9/kYfZx8ODBX5VNrzRlczn0Wn/i1zz33HPFjTfe2PlUJNuLEEIIIYQQQojhoUhoIYQYUxAsH3/88eKll14qfvjhh85ekQLBe9euXUFkHiUQ4J999tlQj2UCNGL1K6+8EoTWtuCGx4svvhiu4zfSxE2ctuDcXKOqbsi3pafsOG4YqC0IIYQQQgghxOgiEVoIMe0h2hchb+PGjUONgq4LkcFbt24N4tp0jOokT+SNPNaNgp4JILYiul555ZUDE1aJxqZObKPdtBUtj7jMEwpffvllZ8+v4RieyDKh/sSJEyFSfdRuJgghhBBCCCGEqEYitBBiZGFJhJ9++qn4+uuvO3uEaJdRsTkihO+///6wbMubb77Z2Tt9QNy217/9278N72OIXr/++uvDjSO7SbF///7i22+/LZYvXx4+CyGEEEIIIYQYD7QmtBBi7ECcWrlyZfHhhx8Wf+jDQpQoQt2DDz540brPthb0nDlzwu84Ll4HmYjKNWvWFG+//XY4J+svw8mTJ3teE9ivT0s/6td/trRbei1tfg1bvxY0xOeIsXx+9tlnySUdyCPRo7NmzersSZdFGXb+w4cP/yoi29J66tSpqWvbWs9GXJbdvjdS6QZLOwJlqu782sq+LmJ6XYvaygP6WVcbAfaGG27omga73pkzZ1pbpzpVj4OCcli8ePGvbDxVPmYT3ChIlX2VrQohhBBCCCGEGB6KhBZCjCWIt7fcckuxe/fuINL+5je/CWKkj5JEoELI4jF+hMkyEK4feuih4tixY+FYBGGES8TSOti6utdee21Ym5Zzbd++vbjzzjvDdwZpf/jhh4u33nprKm38WaEtMYDgZstwkJZ+IA+PPvpo+PM+zmfX64X58+d33v3CVVddVVx22WXF6dOnw2fKG0HY8s8yCtzMRAw2bBkOvkMITmFiI8svWLoRq2PxPFV3/Nmf1Z2tFcx+7OS1116bOp+WAfk1lN2g1oPuxjXXXFN8//33U3VEnXLT4YMPPgj1zk0IIYQQQgghhBDjgURoIcTYgvD4+9//PkTKnjt3rvjd737X+aY+PhIZgROxMyW6VrFu3bpi7ty5QVw2kRQB7S/+4i8uEjvjyOZPP/00vF599dXhtSkQvpcuXRrE236iQinbH3/8sfPpgtCM2M75TQj85ptvgmC5cOHCEIXq8089IczXETStLKxs4JNPPkmKj03UXR24BmXAZvkcd6gnu/FhG5HXTz311NTNkUGCbfknsShrbPmFF14I9iiEEEIIIYQQYryQCC2EGEsQchE+jVFYN5rITSKxP/74486e4WJRyoi3/YBASUQq+UMcZIkExPbbbrstfE9dsJYy4jAiMUttWDQtG5/rRq5a3S5atCi8wq233jpS5Tvd4UYJy174OhgUZnNAFD225yPXSRc2J4QQQgghhBBiPJAILYQQoiuI/ESmskwJ4iDrTyNOErEcr9lMZLKPqGXbuHFj6ZrWKewPAv3yEERTv/rqq1NCpBgMCMDDAJvD3nj1a2G3GeUuhBBCCCGEEKIdJEILIURDIJYReUwE8igRi3a9iIq25vM//sf/OOTzv//3/15cd911ISqapTpYIsGE4yZEwomJiXBe1o02IXs6LX8xDlhke7+R9L2CzRFl75dksUh8lgqRLQghhBBCCCHE+CARWgghGuLQoUPhdcOGDUEsA17/w3/4D1OfBwkiHWId6zTbeswsbUB0aV1YHgOB/a677gqiIEti/NEf/VHxJ3/yJ1N/Hsf1iJD2fwzYD00K+qnlPXqFsuRP+4b9x30eBHqixf0fQPYD+eJPAFn+5MiRI529v8B1uB7XbQuuy/VZk9raj627fvTo0fC5Lk2XkxBCCCGEEEKIPCRCCyGmLYhXu3btCqITwuicOXOKLVu2tCaeIcLyx2mwffv2cB0ieYkarrOEhImc/J71lFnu4tFHH/2VeGZCIHkib7Z0hRdHd+/eHSKKLd9EMbNcRl1s/d3/9//+XxCgyc+pU6eKP/7jPw7nNLj28ePHf7UutE+3CYGU0bx584Iozmfqyv4Eb//+/Rel22+9CNwsBXLw4MGLlvewP1ccVeL6TZWTYZHqRC/38keC3ubsmvzBpF+H2WN17m9w1CFumykb57o7duwI7609cb2//Mu/rLW0i6ffchJCCCGEEEII0RuXLFu2bLLzvpicnJzazp8/Hx6D9f9OL4QQQgwChEjGH0RIL4Kyn7Whd+7cOfbLMSDGs7REnMdeQEzfvHlziB4fRNkgPG/atCncKGgi/U1h6UJA37t3b2fvLwy6nIQQQgghhBBCXECR0EIIIUYKhMLUDVDbb2tQi19YsWJFiCpnOZRBCKsTExMhOvvYsWMjI0DnMOhyEkIIIYQQQghxAUVCCyFEBTyyv379+rBcQBn0lfv27et5iYBhQmRxtzWiT548WWzbtq3zaTBYRCtCp2cYaWkLIqFZisJgGROWxKiDLyeWWUlF/zaJtQcYJZuP7Tgui0GXkxBCCCGEEEKIi5EILYQQQgghhBBCCCGEEKI1tByHEEIIIYQQQgghhBBCiNaQCC2EEEIIIYQQQgghhBCiNSRCCyGEEEIIIYQQQgghhGgNidBCCCGEEEIIIYQQQgghWkMitBBCCCGEEEIIIYQQQojWuGTZsmWTnffF5OTk1Hb+/Pni559/Li6//PLOt0IIMVjuu+++Yv369cUXX3xRbNu2rbN3enD77bcXmzZtKmbPnl3s27eveOeddzrfzBwGWb92rVmzZoXPZ8+eLXbs2FF8/vnn4bMQkGMnzz33XHHjjTcWP/zwQ7Fz587io48+6nwjhBBCCCGEEKIMidBCiJFlHEVoS/PBgweLvXv3dvb+mkGK0LlpGjSDrF+utWbNmuKtt95KlvUjjzxSrF69uvPpF44fP168/PLLnU/NsmDBgmLz5s3FvHnzigMHDiTrJk5Xm+mx+jABtkxkHWSaoKlyivN38uTJSrt78sknixtuuKH0ZgViND6SbmYIIYQQQgghRHe0HIcQQgwBhD1Ero0bN87IKOhRBNH1pZdeKh5//PGprS1xlbp/9tlni9OnT3f2/BqE1VWrVhWvvfZaSAuvixcvDr9tGm6KINJzo4JrkbYff/yx2LBhQxCBjUGmCZoqJ38jhmOo52uvvTYIyb1y9OjR4rLLLituu+22zh4hhBBCCCGEEGVIhBZCjCxEyP7000/F119/3dkjphMztX4RTYmw3b59e3Hq1KnO3otBFF65cmVx4sSJqZsUvPJ54cKF4fsmsZsiFmVMZO+xY8eKuXPnTomsg05TU+WEiI4Ijb1Z/sjv4cOHi+uvvz58J4QQQgghhBCiXbQchxBiLLEIxk8++WTqMXz6rF6XtrB1Xo3UY/+IdEuWLOl8uvh68Xcev6wBohjLcMyZM+dX34EtPUDk5/z588MSBCwtAJw/XkIgvq5fwzY3TRCnKy5LSxdiIGmrKvOqcqqLpQv6WX8XobHbchyImf1coxe4LmUZ21sqvTnLUjRJnLZhpqmfcqI+sSFEZ/9ba/Nly4lgx1XLcXSzKSGEEEIIIYQQv6BIaCHE2IKAtHTp0vC4Ptu3334bhCFEqFw49sUXXwzveUzfHufn8X6EL4P3POJvj/yz+aU0ELHst4iuiF92HGKWCZu88pn9Ji6nIPqUSFSOIaLzyiuvDOf0kZuWPrsOSwywPMATTzwR9uemifM99dRTxWeffTb1PZGkjz766EVlAIjLiLW2bAXRpb7Mu5XTKIMAv2XLluKVV14JG2U0LK6++urwSvkCYvzTTz9d/PVf/3W4gcANirbhGtjNN998Ez6PQppictJEmwHLh7X57777ruCmzTXXXBP2CyGEEEIIIYRoD4nQQoixxUf9shGliwh71VVXdY7ozooVK8JviNQ1EEwRtW699dbOnguCHEtHmNjVNuTtyJEj4T1/Xvj++++H9x6iOn0EJ6LymTNnwhMsdYT45cuXBwF///79nT1FeE8afBkA+1544YUpAZulNHyZN11OJtp70bwNKEsTzdkQ0RHT+1kzuB+8oIvITyQvEbdmE23DNck/9Wg3EIadphQ5aUKopg2BidTc4KGO++Hjjz8O62bTfoQQQgghhBBCVCMRWggxo0HEiiNg2Yiy9mLuoUOHwivH7dq1KwhebfL9999PLQFQJupaRGec7jpwDvKJgO+XHDBRPxa0fboAEdwLxIMup7ZAeCUanD+vQ7gcNPZHfNwkYckHlgnx0eRVf9TXL+SXa2J3/ubMMNNURk6aiIAmLzfddNOUSM1NB6PXNclpB1u3bg2/p+0NM3JeCCGEEEIIIUYdidBCiBkPj+3b8hJ+Q2AywdUicm3ZD5aqQHiKl6sYFAjDrHtLFLJPO2tGD5NRK6d+IYLWlnMYJAinXPuWW265KPKctFhUbxsgQCPUcg3EWh99Pqw0VZGTJruBc8cdd1wkUhO9T/vpFcrKnkSg7fmnEoQQQgghhBBCXIxEaCHEjIZIScSqXKHRoh8RWVPLVQwKE9BYx9kLhXUhP0Q38wdsPuKZ9+yLI59zGZVy6gfWCkZIZ9mFQYNwSvRuHKG+aNGisL+fOi+DOt+wYUNoD6k/khxGmrqRk6Zz586FZTNYqsanERGZvH766aedPfWwPqPX3wshhBBCCCHETEIitBBiRsPasQiNPMpfZ9kFE4HjR/lNFGtbdDVhzf+pGusXp5bj6JamTz75pJg3b16xbt26zp4ivJ87d25x9OjRzp7eKCunXCzalK1O/fQL0dyUJWsHxyI8S4yw1EibaUIs5QYD6zLbkia88jl144H0EnHezxrW/KEldZ4SoGEYaepGTpqoP+qR+rSIfOqNP9ikbaTy2hTkXUt1CCGEEEIIIURRXLJs2bLJzvticnJyajt//nz4V3zWAxVCiFEDcYf+yf6YEBB6Fi5cGB65jwWxKmxpC4RYz4EDB6bWjk0JvMePH08+go8Itn79+mLWrFnhM8t9WJri7zycjz8EJC1EIG/btu2iPCGcrVq1akokjM/FUhyIvUQw+3KBqjRBt++tjCxdZdQppxzIM8tDQN169ZA/bjSwxERKdKSclyxZ0vl08Z9exliaWEu8l7z538fE143T5W3Sg7i6evXqMG6XichV2O9TDCtNTZdTnMdudcc5U23J6GZTYOmK25MQQgghhBBCzDQkQgshhJj25AiGdTBxsUyAHTR2k4Co81ERO0cxTXVoQoQ2IZ2nFsrOI4QQQgghhBAzAS3HIYQQQtQAYZHodKJxWc5lFFixYkWI5E8tizEsRjFNTcK608CSHmVMTEyESO7Usi5CCCGEEEIIMZNQJLQQYlqSWhYihuUrqpaWENOHeLmRquU2qjC7GhXb8UtWjEpU9iimKZccOzEbqFpmxM4DvSxFIoQQQgghhBDTDYnQQgghhBBCCCGEEEIIIVpDy3EIIYQQQgghhBBCCCGEaA2J0EIIIYQQQgghhBBCCCFaQyK0EEIIIYQQQgghhBBCiNaQCC2EEEIIIYQQQgghhBCiNSRCCyGEEEIIIYQQQgghhGgNidBCNMCCBQuKF198sXjuuec6e6YfjzzySMgjeRVCCCGEEEIIIYQQIheJ0EKIIJ6/8sorU9uTTz7Z+eYXjhw5El43b94sIVoIIYQQQgghhBBCZCMRWogZDoLz5ZdfXjz77LPF448/Xhw4cKBYsmRJiHz2fP7558Wrr75aXHbZZcW6des6e4UQQgghhBBCCCGEqEYitBAznJdffrnYunVrEJmBiOezZ88Wt956a/js+eijj4rDhw8XixcvLu67777OXiGEEEIIIYQQQgghyrlk2bJlk533xeTk5NR2/vz54ueffw4RkkKMGwik69evLw4ePFjs3bu3s7cobr/99mLTpk3FmTNnim3btoV9LC3BEhPz5s0Ln7H7ffv2Fe+88074bN+fOnWqOH36dLF69eqw3x/njwEiieGHH34odu7cGcRbgwhjOwcg+O7YsWNKBAZL55w5czp7iuLkyZNTaTZYRuPGG2/sfCpCFLPPby9YXiBOF9j333///a/SI4QQQgghhBBCCCFEjCKhxbTk448/Lr799tti6dKlQTQ1EHdnz55dHD16dOrz008/HcRjlqJgQ7hGwI4jfRGWV65cWbz00kvhuC+++CIc48/PMddcc034nuUtfvzxx3Aug6UvVq1aVbz22mtTxwBpIC3A+TZs2BCEcksTmxd8OYY/CQT7nnNy7ngZjbpcddVVYckNROZYgAb2UV7coPJ5F0IIIYQQQgghhBAihURoMS1BKD127Fgxd+7c4rbbbuvsLcISE4jTiNQwMTERhOL9+/eHz8ByFByzaNGizp4LELH8wgsvTEU1f/3110GsRbQ1fLSypeHaa68NAjPbwoULixMnTkxFWXMM7xHGTYQ2EZjzl7FixYpwDJHYBudBGLdlNDgfS234Pxy0bdeuXaXLaSCae6E+BRHhcdkKIYQQQgghhBBCCJFCIrSYtiAW//TTT1NiMqIsgjDCsEX4ErXMMhzbt2+fEmh5zz6+88SRwQi8RDb7pTZivvnmm/B6/fXXhw0+/fTT8GpY1Pb8+fPDZ8732Wefhahq0sOSGzEcy1IdW7ZsmUo3G0tzWIQy5yF9Pprato0bN04J4R6O5xxeKBdCCCGEEEIIIYQQoh8kQotpi4m5N9xwQxBlLdI4Fo2JcGZZjFiobWK946uvvjpEFdcFgZs0sMYzojACM8tv+OUvWG/algbxm/+TwTogQCN8E83N9buBwE/ktRBCCCGEEEIIIYQQVUiEFtMaoo5ZtoJlI1imAlHai9CpJTWahIhlE2tNsI2X+SBtLG3BEhcx/MmgidF++QuORdy26OoUdZbjYB1pE6BzxHfyxTIm586d6+wRQgghhBBCCCGEECKNRGgxrWGpC8TSe+65JwjN8VIYhw4dCq/8EWDTf7KHyLt48eIp4ZuNPxtknwnAXJP3LMfBWtRleDEbbN3qNWvWTEV4x3C9nOU4uD5/aJgrQJNmosvL/rhQCCGEEEIIIYQQQgjPJcuWLZvsvC8mJyentvPnzxc///xzWF9WiHGGKN/Vq1eXiqyIuJs2bQprLBvYPn/6h1CL6Lp58+YgulaJtKzdzNIZHiKYiWb22LIXRpwuRGH+HHDWrFmdPReW3ti5c+dFUdyWLtav9qSuWUbZOYzUuShPRGsrHyGEEEIIIYQQQgghqpAILYTIxgR7ortz1o0WQgghhBBCCCGEEELLcQghsiBqmmVLWN5k//79nb1CCCGEEEIIIYQQQlQjEVoIkcWKFSvC644dO7QWtBBCCCGEEEIIIYTIRstxCCGEEEIIIYQQQgghhGgNRUILIYQQQgghhBBCCCGEaA2J0EIIIYQQQgghhBBCCCFaQyK0EEIIIYQQQgghhBBCiNaQCC2EEEIIIYQQQgghhBCiNSRCCyGEEEIIIYQQQgghhGgNidBCCCGEEEIIIYQQQgghWkMitBBCCCGEEEIIIYQQQojWuEiEvuSSSzrvhBBCCCGEEEIIIYQQQoj+qYyEligthBBCCCGEEEIIIYQQoh/+PwnNQgghhBBCCCGEEEIIIdqhKP5/+VEOw1EUrcsAAAAASUVORK5CYII=)"
      ],
      "metadata": {
        "id": "GD2mXVTQzpWr"
      }
    },
    {
      "cell_type": "code",
      "source": [
        "grid.best_params_"
      ],
      "metadata": {
        "colab": {
          "base_uri": "https://localhost:8080/"
        },
        "id": "T1dZFtuhNTZ2",
        "outputId": "16c721f7-cdc6-47e0-9bef-2d9c70aa2476"
      },
      "execution_count": null,
      "outputs": [
        {
          "output_type": "execute_result",
          "data": {
            "text/plain": [
              "{'gamma': 0.01,\n",
              " 'learning_rate': 0.3,\n",
              " 'max_depth': 5,\n",
              " 'min_child_weight': 1,\n",
              " 'n_estimators': 100}"
            ]
          },
          "metadata": {},
          "execution_count": 52
        }
      ]
    },
    {
      "cell_type": "markdown",
      "source": [
        "Image refers to the best parameters after tuning them ,for saving time cut outs from the original hyperparameter tuning is added \n",
        "\n",
        "![image.png](data:image/png;base64,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)"
      ],
      "metadata": {
        "id": "o5y_XE4izw76"
      }
    },
    {
      "cell_type": "code",
      "source": [
        "grid.best_score_"
      ],
      "metadata": {
        "colab": {
          "base_uri": "https://localhost:8080/"
        },
        "id": "6hG75QGONUcB",
        "outputId": "55366833-00e3-499b-a6ed-60f0a938e524"
      },
      "execution_count": null,
      "outputs": [
        {
          "output_type": "execute_result",
          "data": {
            "text/plain": [
              "0.9998011661913504"
            ]
          },
          "metadata": {},
          "execution_count": 53
        }
      ]
    },
    {
      "cell_type": "code",
      "source": [
        "grid.best_estimator_"
      ],
      "metadata": {
        "colab": {
          "base_uri": "https://localhost:8080/"
        },
        "id": "AVB-yST6NUZT",
        "outputId": "229715d0-7679-4db1-e4a2-e8380cbac052"
      },
      "execution_count": null,
      "outputs": [
        {
          "output_type": "execute_result",
          "data": {
            "text/plain": [
              "XGBClassifier(gamma=0.01, learning_rate=0.3, max_depth=5)"
            ]
          },
          "metadata": {},
          "execution_count": 54
        }
      ]
    },
    {
      "cell_type": "code",
      "source": [
        "xgb = mymodel(grid.best_estimator_)"
      ],
      "metadata": {
        "colab": {
          "base_uri": "https://localhost:8080/"
        },
        "id": "K3aS8IvhNUVj",
        "outputId": "7ca2f3e9-11cf-4a91-f94c-f1fae25657e4"
      },
      "execution_count": null,
      "outputs": [
        {
          "output_type": "stream",
          "name": "stdout",
          "text": [
            "Training Accuracy : 0.9999453206941289\n",
            "Testing Accuracy : 0.9998028231091316\n",
            "\n",
            "\n",
            "              precision    recall  f1-score   support\n",
            "\n",
            "         0.0       1.00      1.00      1.00     86106\n",
            "         1.0       1.00      1.00      1.00     86328\n",
            "\n",
            "    accuracy                           1.00    172434\n",
            "   macro avg       1.00      1.00      1.00    172434\n",
            "weighted avg       1.00      1.00      1.00    172434\n",
            "\n"
          ]
        }
      ]
    },
    {
      "cell_type": "markdown",
      "source": [
        "##*6. Random Foreset Algorithm*\n",
        "\n",
        "---\n",
        "\n"
      ],
      "metadata": {
        "id": "sraMWihHNXXZ"
      }
    },
    {
      "cell_type": "code",
      "source": [
        "'''parameters = {\n",
        "    'max_depth': [3, 5],\n",
        "    'max_features':[2,8,9],\n",
        "    'n_estimators':[50,100],\n",
        "    'min_samples_split': [3, 7]\n",
        "}'''\n",
        "\n",
        "parameters = {\n",
        "    'max_depth': [5],\n",
        "    'max_features':[2],\n",
        "    'n_estimators':[100],\n",
        "    'min_samples_split': [7]\n",
        "}"
      ],
      "metadata": {
        "id": "1TJDvco7Nabu"
      },
      "execution_count": null,
      "outputs": []
    },
    {
      "cell_type": "code",
      "source": [
        "from sklearn.model_selection import GridSearchCV\n",
        "grid = GridSearchCV(RandomForestClassifier(), parameters, verbose=2)\n",
        "grid.fit(xtrain, ytrain)"
      ],
      "metadata": {
        "id": "1tSOC0j-NecQ",
        "colab": {
          "base_uri": "https://localhost:8080/"
        },
        "outputId": "991a8fd1-6ffd-45c9-eade-9747ab6c543f"
      },
      "execution_count": null,
      "outputs": [
        {
          "output_type": "stream",
          "name": "stdout",
          "text": [
            "Fitting 5 folds for each of 1 candidates, totalling 5 fits\n",
            "[CV] END max_depth=5, max_features=2, min_samples_split=7, n_estimators=100; total time=  22.1s\n",
            "[CV] END max_depth=5, max_features=2, min_samples_split=7, n_estimators=100; total time=  22.4s\n",
            "[CV] END max_depth=5, max_features=2, min_samples_split=7, n_estimators=100; total time=  21.8s\n",
            "[CV] END max_depth=5, max_features=2, min_samples_split=7, n_estimators=100; total time=  22.2s\n",
            "[CV] END max_depth=5, max_features=2, min_samples_split=7, n_estimators=100; total time=  22.6s\n"
          ]
        },
        {
          "output_type": "execute_result",
          "data": {
            "text/plain": [
              "GridSearchCV(estimator=RandomForestClassifier(),\n",
              "             param_grid={'max_depth': [5], 'max_features': [2],\n",
              "                         'min_samples_split': [7], 'n_estimators': [100]},\n",
              "             verbose=2)"
            ]
          },
          "metadata": {},
          "execution_count": 57
        }
      ]
    },
    {
      "cell_type": "markdown",
      "source": [
        "![image.png](data:image/png;base64,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)"
      ],
      "metadata": {
        "id": "Ne-GI-KG2OwQ"
      }
    },
    {
      "cell_type": "code",
      "source": [
        "grid.best_params_"
      ],
      "metadata": {
        "colab": {
          "base_uri": "https://localhost:8080/"
        },
        "id": "wDePSBUZNfaF",
        "outputId": "952131d5-07cd-4bbe-dfdb-e0efe4380ea8"
      },
      "execution_count": null,
      "outputs": [
        {
          "output_type": "execute_result",
          "data": {
            "text/plain": [
              "{'max_depth': 5,\n",
              " 'max_features': 2,\n",
              " 'min_samples_split': 7,\n",
              " 'n_estimators': 100}"
            ]
          },
          "metadata": {},
          "execution_count": 58
        }
      ]
    },
    {
      "cell_type": "markdown",
      "source": [
        "![image.png](data:image/png;base64,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)"
      ],
      "metadata": {
        "id": "IhFSbolq2X4A"
      }
    },
    {
      "cell_type": "code",
      "source": [
        "grid.best_score_"
      ],
      "metadata": {
        "colab": {
          "base_uri": "https://localhost:8080/"
        },
        "id": "tFiKXrVCNgLQ",
        "outputId": "76dbd64e-a816-4c66-9938-dcc3960e8d19"
      },
      "execution_count": null,
      "outputs": [
        {
          "output_type": "execute_result",
          "data": {
            "text/plain": [
              "0.9465460194190902"
            ]
          },
          "metadata": {},
          "execution_count": 59
        }
      ]
    },
    {
      "cell_type": "code",
      "source": [
        "grid.best_estimator_"
      ],
      "metadata": {
        "colab": {
          "base_uri": "https://localhost:8080/"
        },
        "id": "aIh5M2WcNhHu",
        "outputId": "0f98021d-a3d5-4f56-ceb5-1dffece1e04d"
      },
      "execution_count": null,
      "outputs": [
        {
          "output_type": "execute_result",
          "data": {
            "text/plain": [
              "RandomForestClassifier(max_depth=5, max_features=2, min_samples_split=7)"
            ]
          },
          "metadata": {},
          "execution_count": 60
        }
      ]
    },
    {
      "cell_type": "code",
      "source": [
        "rfc = mymodel(grid.best_estimator_)"
      ],
      "metadata": {
        "colab": {
          "base_uri": "https://localhost:8080/"
        },
        "id": "b4n1U9eQNh_t",
        "outputId": "b428e2bf-a6d1-4adf-b718-3ef434de9c60"
      },
      "execution_count": null,
      "outputs": [
        {
          "output_type": "stream",
          "name": "stdout",
          "text": [
            "Training Accuracy : 0.9478260005070263\n",
            "Testing Accuracy : 0.9480322906155398\n",
            "\n",
            "\n",
            "              precision    recall  f1-score   support\n",
            "\n",
            "         0.0       0.96      0.93      0.95     86106\n",
            "         1.0       0.93      0.96      0.95     86328\n",
            "\n",
            "    accuracy                           0.95    172434\n",
            "   macro avg       0.95      0.95      0.95    172434\n",
            "weighted avg       0.95      0.95      0.95    172434\n",
            "\n"
          ]
        }
      ]
    },
    {
      "cell_type": "markdown",
      "source": [
        "##4.2 Second Model HyperParameters Tuned Cross-Validation"
      ],
      "metadata": {
        "id": "4v77m4DXUt4-"
      }
    },
    {
      "cell_type": "code",
      "source": [
        "knn_accuracy = cross_val_score(knn2,xtest,ytest,cv=3,scoring='accuracy')\n",
        "logreg_accuracy = cross_val_score(logreg,xtest,ytest,cv=3,scoring='accuracy',n_jobs=-1)\n",
        "dt_accuracy = cross_val_score(dt,xtest,ytest,cv=3,scoring='accuracy',n_jobs=-1)\n",
        "rfc_accuracy = cross_val_score(rfc,xtest,ytest,cv=3,scoring='accuracy')\n",
        "xgb_accuracy = cross_val_score(xgb,xtest,ytest,cv=3,scoring='accuracy')\n"
      ],
      "metadata": {
        "id": "p1HOVvYpNk0I"
      },
      "execution_count": null,
      "outputs": []
    },
    {
      "cell_type": "code",
      "source": [
        "names = ['KNN','LogReg','DecisionTree','RFC','XGB']\n",
        "score =[knn_accuracy.mean(),logreg_accuracy.mean(),dt_accuracy.mean(),rfc_accuracy.mean(),xgb_accuracy.mean()]"
      ],
      "metadata": {
        "id": "YzpZA1VQNnC2"
      },
      "execution_count": null,
      "outputs": []
    },
    {
      "cell_type": "code",
      "source": [
        "scores_2nd = pd.DataFrame({'Algorithm Name':names,'Score':score})"
      ],
      "metadata": {
        "id": "cdwlaaIJNoE8"
      },
      "execution_count": null,
      "outputs": []
    },
    {
      "cell_type": "code",
      "source": [
        "axis = sns.barplot(x='Algorithm Name',y='Score',data = scores_2nd)\n",
        "axis.set(xlabel='Classifier', ylabel='Accuracy')\n",
        "\n",
        "for p in axis.patches:\n",
        "    height = p.get_height()\n",
        "    axis.text(p.get_x() + p.get_width()/2, height + 0.005, '{:1.4f}'.format(height), ha=\"center\") "
      ],
      "metadata": {
        "colab": {
          "base_uri": "https://localhost:8080/",
          "height": 279
        },
        "id": "5eFDzCkRNpAi",
        "outputId": "b70d35bf-4656-441d-8e64-e50f4756fa09"
      },
      "execution_count": null,
      "outputs": [
        {
          "output_type": "display_data",
          "data": {
            "text/plain": [
              "<Figure size 432x288 with 1 Axes>"
            ],
            "image/png": "[encoded data removed]"
          },
          "metadata": {
            "needs_background": "light"
          }
        }
      ]
    },
    {
      "cell_type": "code",
      "source": [
        "scores_2nd # Cross-validation post HyperParameter Tuning "
      ],
      "metadata": {
        "colab": {
          "base_uri": "https://localhost:8080/",
          "height": 206
        },
        "id": "8ufM46kgNqM-",
        "outputId": "a1d4969f-ed0d-423d-b6b9-bc8461ad6ca1"
      },
      "execution_count": null,
      "outputs": [
        {
          "output_type": "execute_result",
          "data": {
            "text/plain": [
              "  Algorithm Name     Score\n",
              "0            KNN  0.989109\n",
              "1         LogReg  0.919413\n",
              "2   DecisionTree  0.997402\n",
              "3            RFC  0.949668\n",
              "4            XGB  0.999658"
            ],
            "text/html": [
              "\n",
              "  <div id=\"df-51d9eeac-3eea-40ec-b480-c4af7e921936\">\n",
              "    <div class=\"colab-df-container\">\n",
              "      <div>\n",
              "<style scoped>\n",
              "    .dataframe tbody tr th:only-of-type {\n",
              "        vertical-align: middle;\n",
              "    }\n",
              "\n",
              "    .dataframe tbody tr th {\n",
              "        vertical-align: top;\n",
              "    }\n",
              "\n",
              "    .dataframe thead th {\n",
              "        text-align: right;\n",
              "    }\n",
              "</style>\n",
              "<table border=\"1\" class=\"dataframe\">\n",
              "  <thead>\n",
              "    <tr style=\"text-align: right;\">\n",
              "      <th></th>\n",
              "      <th>Algorithm Name</th>\n",
              "      <th>Score</th>\n",
              "    </tr>\n",
              "  </thead>\n",
              "  <tbody>\n",
              "    <tr>\n",
              "      <th>0</th>\n",
              "      <td>KNN</td>\n",
              "      <td>0.989109</td>\n",
              "    </tr>\n",
              "    <tr>\n",
              "      <th>1</th>\n",
              "      <td>LogReg</td>\n",
              "      <td>0.919413</td>\n",
              "    </tr>\n",
              "    <tr>\n",
              "      <th>2</th>\n",
              "      <td>DecisionTree</td>\n",
              "      <td>0.997402</td>\n",
              "    </tr>\n",
              "    <tr>\n",
              "      <th>3</th>\n",
              "      <td>RFC</td>\n",
              "      <td>0.949668</td>\n",
              "    </tr>\n",
              "    <tr>\n",
              "      <th>4</th>\n",
              "      <td>XGB</td>\n",
              "      <td>0.999658</td>\n",
              "    </tr>\n",
              "  </tbody>\n",
              "</table>\n",
              "</div>\n",
              "      <button class=\"colab-df-convert\" onclick=\"convertToInteractive('df-51d9eeac-3eea-40ec-b480-c4af7e921936')\"\n",
              "              title=\"Convert this dataframe to an interactive table.\"\n",
              "              style=\"display:none;\">\n",
              "        \n",
              "  <svg xmlns=\"http://www.w3.org/2000/svg\" height=\"24px\"viewBox=\"0 0 24 24\"\n",
              "       width=\"24px\">\n",
              "    <path d=\"M0 0h24v24H0V0z\" fill=\"none\"/>\n",
              "    <path d=\"M18.56 5.44l.94 2.06.94-2.06 2.06-.94-2.06-.94-.94-2.06-.94 2.06-2.06.94zm-11 1L8.5 8.5l.94-2.06 2.06-.94-2.06-.94L8.5 2.5l-.94 2.06-2.06.94zm10 10l.94 2.06.94-2.06 2.06-.94-2.06-.94-.94-2.06-.94 2.06-2.06.94z\"/><path d=\"M17.41 7.96l-1.37-1.37c-.4-.4-.92-.59-1.43-.59-.52 0-1.04.2-1.43.59L10.3 9.45l-7.72 7.72c-.78.78-.78 2.05 0 2.83L4 21.41c.39.39.9.59 1.41.59.51 0 1.02-.2 1.41-.59l7.78-7.78 2.81-2.81c.8-.78.8-2.07 0-2.86zM5.41 20L4 18.59l7.72-7.72 1.47 1.35L5.41 20z\"/>\n",
              "  </svg>\n",
              "      </button>\n",
              "      \n",
              "  <style>\n",
              "    .colab-df-container {\n",
              "      display:flex;\n",
              "      flex-wrap:wrap;\n",
              "      gap: 12px;\n",
              "    }\n",
              "\n",
              "    .colab-df-convert {\n",
              "      background-color: #E8F0FE;\n",
              "      border: none;\n",
              "      border-radius: 50%;\n",
              "      cursor: pointer;\n",
              "      display: none;\n",
              "      fill: #1967D2;\n",
              "      height: 32px;\n",
              "      padding: 0 0 0 0;\n",
              "      width: 32px;\n",
              "    }\n",
              "\n",
              "    .colab-df-convert:hover {\n",
              "      background-color: #E2EBFA;\n",
              "      box-shadow: 0px 1px 2px rgba(60, 64, 67, 0.3), 0px 1px 3px 1px rgba(60, 64, 67, 0.15);\n",
              "      fill: #174EA6;\n",
              "    }\n",
              "\n",
              "    [theme=dark] .colab-df-convert {\n",
              "      background-color: #3B4455;\n",
              "      fill: #D2E3FC;\n",
              "    }\n",
              "\n",
              "    [theme=dark] .colab-df-convert:hover {\n",
              "      background-color: #434B5C;\n",
              "      box-shadow: 0px 1px 3px 1px rgba(0, 0, 0, 0.15);\n",
              "      filter: drop-shadow(0px 1px 2px rgba(0, 0, 0, 0.3));\n",
              "      fill: #FFFFFF;\n",
              "    }\n",
              "  </style>\n",
              "\n",
              "      <script>\n",
              "        const buttonEl =\n",
              "          document.querySelector('#df-51d9eeac-3eea-40ec-b480-c4af7e921936 button.colab-df-convert');\n",
              "        buttonEl.style.display =\n",
              "          google.colab.kernel.accessAllowed ? 'block' : 'none';\n",
              "\n",
              "        async function convertToInteractive(key) {\n",
              "          const element = document.querySelector('#df-51d9eeac-3eea-40ec-b480-c4af7e921936');\n",
              "          const dataTable =\n",
              "            await google.colab.kernel.invokeFunction('convertToInteractive',\n",
              "                                                     [key], {});\n",
              "          if (!dataTable) return;\n",
              "\n",
              "          const docLinkHtml = 'Like what you see? Visit the ' +\n",
              "            '<a target=\"_blank\" href=https://colab.research.google.com/notebooks/data_table.ipynb>data table notebook</a>'\n",
              "            + ' to learn more about interactive tables.';\n",
              "          element.innerHTML = '';\n",
              "          dataTable['output_type'] = 'display_data';\n",
              "          await google.colab.output.renderOutput(dataTable, element);\n",
              "          const docLink = document.createElement('div');\n",
              "          docLink.innerHTML = docLinkHtml;\n",
              "          element.appendChild(docLink);\n",
              "        }\n",
              "      </script>\n",
              "    </div>\n",
              "  </div>\n",
              "  "
            ]
          },
          "metadata": {},
          "execution_count": 66
        }
      ]
    },
    {
      "cell_type": "code",
      "source": [
        "scores # Cross-validation for the Base model"
      ],
      "metadata": {
        "colab": {
          "base_uri": "https://localhost:8080/",
          "height": 206
        },
        "id": "eoLXJOwrNrL4",
        "outputId": "4dc57ba6-23e5-4447-d6df-aa59049a61d1"
      },
      "execution_count": null,
      "outputs": [
        {
          "output_type": "execute_result",
          "data": {
            "text/plain": [
              "  Algorithm Name     Score\n",
              "0            KNN  0.981796\n",
              "1         LogReg  0.850157\n",
              "2   DecisionTree  0.997321\n",
              "3            RFC  0.997321\n",
              "4            XGB  0.997356"
            ],
            "text/html": [
              "\n",
              "  <div id=\"df-e37f8bf1-b9b4-464e-9d51-d17959cb848e\">\n",
              "    <div class=\"colab-df-container\">\n",
              "      <div>\n",
              "<style scoped>\n",
              "    .dataframe tbody tr th:only-of-type {\n",
              "        vertical-align: middle;\n",
              "    }\n",
              "\n",
              "    .dataframe tbody tr th {\n",
              "        vertical-align: top;\n",
              "    }\n",
              "\n",
              "    .dataframe thead th {\n",
              "        text-align: right;\n",
              "    }\n",
              "</style>\n",
              "<table border=\"1\" class=\"dataframe\">\n",
              "  <thead>\n",
              "    <tr style=\"text-align: right;\">\n",
              "      <th></th>\n",
              "      <th>Algorithm Name</th>\n",
              "      <th>Score</th>\n",
              "    </tr>\n",
              "  </thead>\n",
              "  <tbody>\n",
              "    <tr>\n",
              "      <th>0</th>\n",
              "      <td>KNN</td>\n",
              "      <td>0.981796</td>\n",
              "    </tr>\n",
              "    <tr>\n",
              "      <th>1</th>\n",
              "      <td>LogReg</td>\n",
              "      <td>0.850157</td>\n",
              "    </tr>\n",
              "    <tr>\n",
              "      <th>2</th>\n",
              "      <td>DecisionTree</td>\n",
              "      <td>0.997321</td>\n",
              "    </tr>\n",
              "    <tr>\n",
              "      <th>3</th>\n",
              "      <td>RFC</td>\n",
              "      <td>0.997321</td>\n",
              "    </tr>\n",
              "    <tr>\n",
              "      <th>4</th>\n",
              "      <td>XGB</td>\n",
              "      <td>0.997356</td>\n",
              "    </tr>\n",
              "  </tbody>\n",
              "</table>\n",
              "</div>\n",
              "      <button class=\"colab-df-convert\" onclick=\"convertToInteractive('df-e37f8bf1-b9b4-464e-9d51-d17959cb848e')\"\n",
              "              title=\"Convert this dataframe to an interactive table.\"\n",
              "              style=\"display:none;\">\n",
              "        \n",
              "  <svg xmlns=\"http://www.w3.org/2000/svg\" height=\"24px\"viewBox=\"0 0 24 24\"\n",
              "       width=\"24px\">\n",
              "    <path d=\"M0 0h24v24H0V0z\" fill=\"none\"/>\n",
              "    <path d=\"M18.56 5.44l.94 2.06.94-2.06 2.06-.94-2.06-.94-.94-2.06-.94 2.06-2.06.94zm-11 1L8.5 8.5l.94-2.06 2.06-.94-2.06-.94L8.5 2.5l-.94 2.06-2.06.94zm10 10l.94 2.06.94-2.06 2.06-.94-2.06-.94-.94-2.06-.94 2.06-2.06.94z\"/><path d=\"M17.41 7.96l-1.37-1.37c-.4-.4-.92-.59-1.43-.59-.52 0-1.04.2-1.43.59L10.3 9.45l-7.72 7.72c-.78.78-.78 2.05 0 2.83L4 21.41c.39.39.9.59 1.41.59.51 0 1.02-.2 1.41-.59l7.78-7.78 2.81-2.81c.8-.78.8-2.07 0-2.86zM5.41 20L4 18.59l7.72-7.72 1.47 1.35L5.41 20z\"/>\n",
              "  </svg>\n",
              "      </button>\n",
              "      \n",
              "  <style>\n",
              "    .colab-df-container {\n",
              "      display:flex;\n",
              "      flex-wrap:wrap;\n",
              "      gap: 12px;\n",
              "    }\n",
              "\n",
              "    .colab-df-convert {\n",
              "      background-color: #E8F0FE;\n",
              "      border: none;\n",
              "      border-radius: 50%;\n",
              "      cursor: pointer;\n",
              "      display: none;\n",
              "      fill: #1967D2;\n",
              "      height: 32px;\n",
              "      padding: 0 0 0 0;\n",
              "      width: 32px;\n",
              "    }\n",
              "\n",
              "    .colab-df-convert:hover {\n",
              "      background-color: #E2EBFA;\n",
              "      box-shadow: 0px 1px 2px rgba(60, 64, 67, 0.3), 0px 1px 3px 1px rgba(60, 64, 67, 0.15);\n",
              "      fill: #174EA6;\n",
              "    }\n",
              "\n",
              "    [theme=dark] .colab-df-convert {\n",
              "      background-color: #3B4455;\n",
              "      fill: #D2E3FC;\n",
              "    }\n",
              "\n",
              "    [theme=dark] .colab-df-convert:hover {\n",
              "      background-color: #434B5C;\n",
              "      box-shadow: 0px 1px 3px 1px rgba(0, 0, 0, 0.15);\n",
              "      filter: drop-shadow(0px 1px 2px rgba(0, 0, 0, 0.3));\n",
              "      fill: #FFFFFF;\n",
              "    }\n",
              "  </style>\n",
              "\n",
              "      <script>\n",
              "        const buttonEl =\n",
              "          document.querySelector('#df-e37f8bf1-b9b4-464e-9d51-d17959cb848e button.colab-df-convert');\n",
              "        buttonEl.style.display =\n",
              "          google.colab.kernel.accessAllowed ? 'block' : 'none';\n",
              "\n",
              "        async function convertToInteractive(key) {\n",
              "          const element = document.querySelector('#df-e37f8bf1-b9b4-464e-9d51-d17959cb848e');\n",
              "          const dataTable =\n",
              "            await google.colab.kernel.invokeFunction('convertToInteractive',\n",
              "                                                     [key], {});\n",
              "          if (!dataTable) return;\n",
              "\n",
              "          const docLinkHtml = 'Like what you see? Visit the ' +\n",
              "            '<a target=\"_blank\" href=https://colab.research.google.com/notebooks/data_table.ipynb>data table notebook</a>'\n",
              "            + ' to learn more about interactive tables.';\n",
              "          element.innerHTML = '';\n",
              "          dataTable['output_type'] = 'display_data';\n",
              "          await google.colab.output.renderOutput(dataTable, element);\n",
              "          const docLink = document.createElement('div');\n",
              "          docLink.innerHTML = docLinkHtml;\n",
              "          element.appendChild(docLink);\n",
              "        }\n",
              "      </script>\n",
              "    </div>\n",
              "  </div>\n",
              "  "
            ]
          },
          "metadata": {},
          "execution_count": 67
        }
      ]
    },
    {
      "cell_type": "code",
      "source": [
        "scores_2nd['Score'].max() "
      ],
      "metadata": {
        "colab": {
          "base_uri": "https://localhost:8080/"
        },
        "id": "Uk8F8wJCNsQf",
        "outputId": "94124751-7abd-43e0-b066-5d71e65c56c7"
      },
      "execution_count": null,
      "outputs": [
        {
          "output_type": "execute_result",
          "data": {
            "text/plain": [
              "0.9996578401011401"
            ]
          },
          "metadata": {},
          "execution_count": 68
        }
      ]
    },
    {
      "cell_type": "code",
      "source": [
        "scores['Score'].max() "
      ],
      "metadata": {
        "colab": {
          "base_uri": "https://localhost:8080/"
        },
        "id": "Bge1mbrPNuB1",
        "outputId": "6cdc2cd8-c83b-426e-a401-6199bc5038ac"
      },
      "execution_count": null,
      "outputs": [
        {
          "output_type": "execute_result",
          "data": {
            "text/plain": [
              "0.9973555099342356"
            ]
          },
          "metadata": {},
          "execution_count": 69
        }
      ]
    },
    {
      "cell_type": "code",
      "source": [
        "rfc = RandomForestClassifier()\n",
        "rfc.fit(xtrain, ytrain)\n",
        "ypred = rfc.predict(xtest)"
      ],
      "metadata": {
        "id": "HsHBHUICNv4O"
      },
      "execution_count": null,
      "outputs": []
    },
    {
      "cell_type": "code",
      "source": [
        "from sklearn.metrics import accuracy_score, roc_auc_score, confusion_matrix\n",
        "ac = accuracy_score(ytest, ypred)\n",
        "ra = roc_auc_score(ytest, ypred)\n",
        "cm = confusion_matrix(ytest, ypred)\n",
        "cr = classification_report(ytest, ypred)\n",
        "\n",
        "print(f\"Accuracy : {ac}\\nROC : {ra}\\n{cm}\\n\\n{cr}\")"
      ],
      "metadata": {
        "colab": {
          "base_uri": "https://localhost:8080/"
        },
        "id": "GCo80vS4Nw13",
        "outputId": "5b4567d7-4ca1-4073-d732-11eb42d719e4"
      },
      "execution_count": null,
      "outputs": [
        {
          "output_type": "stream",
          "name": "stdout",
          "text": [
            "Accuracy : 0.9998840135936068\n",
            "ROC : 0.9998839088725658\n",
            "[[86089    17]\n",
            " [    3 86325]]\n",
            "\n",
            "              precision    recall  f1-score   support\n",
            "\n",
            "         0.0       1.00      1.00      1.00     86106\n",
            "         1.0       1.00      1.00      1.00     86328\n",
            "\n",
            "    accuracy                           1.00    172434\n",
            "   macro avg       1.00      1.00      1.00    172434\n",
            "weighted avg       1.00      1.00      1.00    172434\n",
            "\n"
          ]
        }
      ]
    },
    {
      "cell_type": "code",
      "source": [
        "train = rfc.score(xtrain, ytrain)\n",
        "test = rfc.score(xtest, ytest)\n",
        "    \n",
        "print(classification_report(ytest, ypred))"
      ],
      "metadata": {
        "colab": {
          "base_uri": "https://localhost:8080/"
        },
        "id": "4fqgLydZNxz4",
        "outputId": "5536911a-1099-46dd-fdde-a44bca50ede1"
      },
      "execution_count": null,
      "outputs": [
        {
          "output_type": "stream",
          "name": "stdout",
          "text": [
            "              precision    recall  f1-score   support\n",
            "\n",
            "         0.0       1.00      1.00      1.00     86106\n",
            "         1.0       1.00      1.00      1.00     86328\n",
            "\n",
            "    accuracy                           1.00    172434\n",
            "   macro avg       1.00      1.00      1.00    172434\n",
            "weighted avg       1.00      1.00      1.00    172434\n",
            "\n"
          ]
        }
      ]
    },
    {
      "cell_type": "code",
      "source": [
        "print(f\"Actual Values     : {ytest[:25].values}\")\n",
        "print(f\"Predicted Values  : {ypred[:25]}\")"
      ],
      "metadata": {
        "colab": {
          "base_uri": "https://localhost:8080/"
        },
        "id": "d7ePvTyXNy2M",
        "outputId": "996ab0b0-3cd0-4f1d-b3ab-4bceed2b5a9f"
      },
      "execution_count": null,
      "outputs": [
        {
          "output_type": "stream",
          "name": "stdout",
          "text": [
            "Actual Values     : [1. 1. 1. 1. 0. 1. 1. 1. 1. 1. 1. 1. 1. 0. 1. 0. 1. 1. 0. 1. 0. 0. 0. 0.\n",
            " 0.]\n",
            "Predicted Values  : [1. 1. 1. 1. 0. 1. 1. 1. 1. 1. 1. 1. 1. 0. 1. 0. 1. 1. 0. 1. 0. 0. 0. 0.\n",
            " 0.]\n"
          ]
        }
      ]
    },
    {
      "cell_type": "code",
      "source": [
        "print(f\"Actual Values     : {ytest[25:51].values}\")\n",
        "print(f\"Predicted Values  : {ypred[25:51]}\")"
      ],
      "metadata": {
        "colab": {
          "base_uri": "https://localhost:8080/"
        },
        "id": "rFSiWiD0NzpZ",
        "outputId": "16c9337c-2c4e-41b1-e75c-fc7c35fd8d1f"
      },
      "execution_count": null,
      "outputs": [
        {
          "output_type": "stream",
          "name": "stdout",
          "text": [
            "Actual Values     : [1. 0. 0. 0. 0. 0. 1. 1. 0. 0. 0. 0. 1. 1. 1. 1. 1. 0. 1. 0. 1. 1. 1. 0.\n",
            " 0. 0.]\n",
            "Predicted Values  : [1. 0. 0. 0. 0. 0. 1. 1. 0. 0. 0. 0. 1. 1. 1. 1. 1. 0. 1. 0. 1. 1. 1. 0.\n",
            " 0. 0.]\n"
          ]
        }
      ]
    },
    {
      "cell_type": "code",
      "source": [
        "rfc.predict_proba(xtest)"
      ],
      "metadata": {
        "colab": {
          "base_uri": "https://localhost:8080/"
        },
        "id": "fEOtJG0hN0hh",
        "outputId": "0eed94aa-a2ee-4ba6-8793-bd4ce138bc28"
      },
      "execution_count": null,
      "outputs": [
        {
          "output_type": "execute_result",
          "data": {
            "text/plain": [
              "array([[0.00000000e+00, 1.00000000e+00],\n",
              "       [0.00000000e+00, 1.00000000e+00],\n",
              "       [5.99880024e-04, 9.99400120e-01],\n",
              "       ...,\n",
              "       [0.00000000e+00, 1.00000000e+00],\n",
              "       [0.00000000e+00, 1.00000000e+00],\n",
              "       [0.00000000e+00, 1.00000000e+00]])"
            ]
          },
          "metadata": {},
          "execution_count": 75
        }
      ]
    },
    {
      "cell_type": "code",
      "source": [
        "ypredprob = rfc.predict_proba(xtest)[:, 1]"
      ],
      "metadata": {
        "id": "lBUK4-OON1tV"
      },
      "execution_count": null,
      "outputs": []
    },
    {
      "cell_type": "code",
      "source": [
        "from sklearn.preprocessing import binarize"
      ],
      "metadata": {
        "id": "s2ubwYoCN221"
      },
      "execution_count": null,
      "outputs": []
    },
    {
      "cell_type": "code",
      "source": [
        "ypred = binarize([ypredprob], threshold=0.3)[0]"
      ],
      "metadata": {
        "id": "57vAP_9UN3j7"
      },
      "execution_count": null,
      "outputs": []
    },
    {
      "cell_type": "code",
      "source": [
        "print(f\"Actual Values     : {ytest[:25].values}\")\n",
        "print(f\"Predicted Values  : {ypred[:25].astype(int)}\")"
      ],
      "metadata": {
        "colab": {
          "base_uri": "https://localhost:8080/"
        },
        "id": "_m6s7iEdN4ZH",
        "outputId": "e4ad9085-0f9f-4f4d-f49c-c9024948e27d"
      },
      "execution_count": null,
      "outputs": [
        {
          "output_type": "stream",
          "name": "stdout",
          "text": [
            "Actual Values     : [1. 1. 1. 1. 0. 1. 1. 1. 1. 1. 1. 1. 1. 0. 1. 0. 1. 1. 0. 1. 0. 0. 0. 0.\n",
            " 0.]\n",
            "Predicted Values  : [1 1 1 1 0 1 1 1 1 1 1 1 1 0 1 0 1 1 0 1 0 0 0 0 0]\n"
          ]
        }
      ]
    },
    {
      "cell_type": "code",
      "source": [
        "ac = accuracy_score(ytest, ypred)\n",
        "ra = roc_auc_score(ytest, ypred)\n",
        "cm = confusion_matrix(ytest, ypred)\n",
        "cr = classification_report(ytest, ypred)\n",
        "\n",
        "print(f\"Accuracy : {ac}\\nROC : {ra}\\n{cm}\\n\\n{cr}\")"
      ],
      "metadata": {
        "colab": {
          "base_uri": "https://localhost:8080/"
        },
        "id": "IUASBkuBN5fT",
        "outputId": "51a297b2-e3aa-44c4-e675-3c87c28c1be2"
      },
      "execution_count": null,
      "outputs": [
        {
          "output_type": "stream",
          "name": "stdout",
          "text": [
            "Accuracy : 0.9995302550541076\n",
            "ROC : 0.9995296644344612\n",
            "[[86026    80]\n",
            " [    1 86327]]\n",
            "\n",
            "              precision    recall  f1-score   support\n",
            "\n",
            "         0.0       1.00      1.00      1.00     86106\n",
            "         1.0       1.00      1.00      1.00     86328\n",
            "\n",
            "    accuracy                           1.00    172434\n",
            "   macro avg       1.00      1.00      1.00    172434\n",
            "weighted avg       1.00      1.00      1.00    172434\n",
            "\n"
          ]
        }
      ]
    },
    {
      "cell_type": "code",
      "source": [
        "train = rfc.score(xtrain, ytrain)\n",
        "test = rfc.score(xtest, ytest)\n",
        "\n",
        "print(f\"Training Accuracy - : {train}\\nTesting Accuracy -: {test}\")"
      ],
      "metadata": {
        "colab": {
          "base_uri": "https://localhost:8080/"
        },
        "id": "eiMV0N8kN6sV",
        "outputId": "a4a945e5-fa6c-4a5c-98fa-fe146b0fe90d"
      },
      "execution_count": null,
      "outputs": [
        {
          "output_type": "stream",
          "name": "stdout",
          "text": [
            "Training Accuracy - : 1.0\n",
            "Testing Accuracy -: 0.9998840135936068\n"
          ]
        }
      ]
    },
    {
      "cell_type": "code",
      "source": [
        "from sklearn.metrics import roc_curve"
      ],
      "metadata": {
        "id": "Ojd2DFBKN8XX"
      },
      "execution_count": null,
      "outputs": []
    },
    {
      "cell_type": "markdown",
      "source": [
        "##5.ROC Curve"
      ],
      "metadata": {
        "id": "wB_8i9jCVNDM"
      }
    },
    {
      "cell_type": "code",
      "source": [
        "plt.figure(figsize = (12,6), linewidth= 1)\n",
        "\n",
        "fpr, tpr, thres = roc_curve(ytest, ypredprob)\n",
        "plt.plot(fpr, tpr)\n",
        "plt.plot([0,1], [0,1], 'k--', label = 'Random: 0.5')\n",
        "\n",
        "plt.title(\"ROC curve for Churn Classifier\")\n",
        "plt.xlabel(\"False Positive Rate (1-Specificity)\")\n",
        "plt.ylabel(\"True Positive Rate (Sensitivity)\")\n",
        "plt.legend(loc='best')\n",
        "\n",
        "#plt.grid()\n",
        "plt.show()           "
      ],
      "metadata": {
        "colab": {
          "base_uri": "https://localhost:8080/",
          "height": 404
        },
        "id": "VIhGvM-MN9PF",
        "outputId": "467bde85-33f9-44d8-c466-a01a1eadb828"
      },
      "execution_count": null,
      "outputs": [
        {
          "output_type": "display_data",
          "data": {
            "text/plain": [
              "<Figure size 864x432 with 1 Axes>"
            ],
            "image/png": "[encoded data removed]"
          },
          "metadata": {
            "needs_background": "light"
          }
        }
      ]
    }
  ]
}