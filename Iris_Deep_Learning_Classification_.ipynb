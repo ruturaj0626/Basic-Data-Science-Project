{
  "cells": [
    {
      "cell_type": "markdown",
      "metadata": {
        "id": "view-in-github",
        "colab_type": "text"
      },
      "source": [
        "<a href=\"https://colab.research.google.com/github/ruturaj0626/Data_Science_Project/blob/main/Iris_Deep_Learning_Classification_.ipynb\" target=\"_parent\"><img src=\"https://colab.research.google.com/assets/colab-badge.svg\" alt=\"Open In Colab\"/></a>"
      ]
    },
    {
      "cell_type": "markdown",
      "id": "2b9cc808",
      "metadata": {
        "id": "2b9cc808"
      },
      "source": [
        "# Deep Learning Example - Iris \n",
        "\n",
        "This examples demonstrates the core deep learning model building concepts using the Keras library. The Iris flower dataset is used to build the model and perform classification tasks"
      ]
    },
    {
      "cell_type": "markdown",
      "id": "2fabf059",
      "metadata": {
        "id": "2fabf059"
      },
      "source": [
        "### 1.2. Prepare Input Data for Deep Learning\n",
        "\n",
        "Perform the following steps for preparing data\n",
        "\n",
        "1. Load data into a pandas dataframe\n",
        "2. Convert the dataframe to a numpy array\n",
        "3. Scale the feature dataset\n",
        "1. Use one-hot-encoding for the target variable\n",
        "5. Split into training and test datasets\n"
      ]
    },
    {
      "cell_type": "code",
      "execution_count": 12,
      "id": "6db4bd81",
      "metadata": {
        "colab": {
          "base_uri": "https://localhost:8080/"
        },
        "id": "6db4bd81",
        "outputId": "24c52431-fbb6-48a5-c2e9-951dbd759683"
      },
      "outputs": [
        {
          "output_type": "stream",
          "name": "stdout",
          "text": [
            "\n",
            "Loaded Data :\n",
            "------------------------------------\n",
            "   Sepal.Length  Sepal.Width  Petal.Length  Petal.Width Species\n",
            "0           5.1          3.5           1.4          0.2  setosa\n",
            "1           4.9          3.0           1.4          0.2  setosa\n",
            "2           4.7          3.2           1.3          0.2  setosa\n",
            "3           4.6          3.1           1.5          0.2  setosa\n",
            "4           5.0          3.6           1.4          0.2  setosa\n",
            "\n",
            "Features before scaling :\n",
            "------------------------------------\n",
            "[[5.1 3.5 1.4 0.2]\n",
            " [4.9 3.  1.4 0.2]\n",
            " [4.7 3.2 1.3 0.2]\n",
            " [4.6 3.1 1.5 0.2]\n",
            " [5.  3.6 1.4 0.2]]\n",
            "\n",
            "Target before scaling :\n",
            "------------------------------------\n",
            "[0. 0. 0. 0. 0.]\n",
            "\n",
            "Features after scaling :\n",
            "------------------------------------\n",
            "[[-0.90068117  1.01900435 -1.34022653 -1.3154443 ]\n",
            " [-1.14301691 -0.13197948 -1.34022653 -1.3154443 ]\n",
            " [-1.38535265  0.32841405 -1.39706395 -1.3154443 ]\n",
            " [-1.50652052  0.09821729 -1.2833891  -1.3154443 ]\n",
            " [-1.02184904  1.24920112 -1.34022653 -1.3154443 ]]\n",
            "\n",
            "Target after one-hot-encoding :\n",
            "------------------------------------\n",
            "[[1. 0. 0.]\n",
            " [1. 0. 0.]\n",
            " [1. 0. 0.]\n",
            " [1. 0. 0.]\n",
            " [1. 0. 0.]]\n",
            "\n",
            "Train Test Dimensions:\n",
            "------------------------------------\n",
            "(135, 4) (135, 3) (15, 4) (15, 3)\n"
          ]
        }
      ],
      "source": [
        "import pandas as pd\n",
        "import os\n",
        "import tensorflow as tf\n",
        "import numpy as np\n",
        "from sklearn.model_selection import train_test_split\n",
        "from sklearn.preprocessing import StandardScaler\n",
        "\n",
        "#Load Data and review content\n",
        "iris_data = pd.read_csv(\"iris.csv\")\n",
        "\n",
        "print(\"\\nLoaded Data :\\n------------------------------------\")\n",
        "print(iris_data.head())\n",
        "\n",
        "#Use a Label encoder to convert String to numeric values \n",
        "#for the target variable\n",
        "\n",
        "from sklearn import preprocessing\n",
        "label_encoder = preprocessing.LabelEncoder()\n",
        "iris_data['Species'] = label_encoder.fit_transform(\n",
        "                                iris_data['Species'])\n",
        "\n",
        "#Convert input to numpy array\n",
        "np_iris = iris_data.to_numpy()\n",
        "\n",
        "#Separate feature and target variables\n",
        "X_data = np_iris[:,0:4]\n",
        "Y_data=np_iris[:,4]\n",
        "\n",
        "print(\"\\nFeatures before scaling :\\n------------------------------------\")\n",
        "print(X_data[:5,:])\n",
        "print(\"\\nTarget before scaling :\\n------------------------------------\")\n",
        "print(Y_data[:5])\n",
        "\n",
        "#Create a scaler model that is fit on the input data.\n",
        "scaler = StandardScaler().fit(X_data)\n",
        "\n",
        "#Scale the numeric feature variables\n",
        "X_data = scaler.transform(X_data)\n",
        "\n",
        "#Convert target variable as a one-hot-encoding array\n",
        "Y_data = tf.keras.utils.to_categorical(Y_data,3)\n",
        "\n",
        "print(\"\\nFeatures after scaling :\\n------------------------------------\")\n",
        "print(X_data[:5,:])\n",
        "print(\"\\nTarget after one-hot-encoding :\\n------------------------------------\")\n",
        "print(Y_data[:5,:])\n",
        "\n",
        "#Split training and test data\n",
        "xtrain,xtest,ytrain,ytest = train_test_split( X_data, Y_data, test_size=0.10)\n",
        "\n",
        "print(\"\\nTrain Test Dimensions:\\n------------------------------------\")\n",
        "print(xtrain.shape, ytrain.shape, xtest.shape, ytest.shape)"
      ]
    },
    {
      "cell_type": "markdown",
      "id": "8bb5fad2",
      "metadata": {
        "id": "8bb5fad2"
      },
      "source": [
        "### 1.3. Creating a Model\n",
        "\n",
        "Creating a model in Keras requires defining the following\n",
        "\n",
        "1. Number of hidden layers\n",
        "2. Number of nodes in each layer\n",
        "3. Activation functions\n",
        "1. Loss Function & Accuracy measurements"
      ]
    },
    {
      "cell_type": "code",
      "execution_count": 13,
      "id": "d4a0be90",
      "metadata": {
        "colab": {
          "base_uri": "https://localhost:8080/"
        },
        "id": "d4a0be90",
        "outputId": "ef9067ef-ce37-4456-a3c5-2cb532219893"
      },
      "outputs": [
        {
          "output_type": "stream",
          "name": "stdout",
          "text": [
            "Model: \"sequential_2\"\n",
            "_________________________________________________________________\n",
            " Layer (type)                Output Shape              Param #   \n",
            "=================================================================\n",
            " Hidden-Layer-1 (Dense)      (None, 128)               640       \n",
            "                                                                 \n",
            " Hidden-Layer-2 (Dense)      (None, 128)               16512     \n",
            "                                                                 \n",
            " Output-Layer (Dense)        (None, 3)                 387       \n",
            "                                                                 \n",
            "=================================================================\n",
            "Total params: 17,539\n",
            "Trainable params: 17,539\n",
            "Non-trainable params: 0\n",
            "_________________________________________________________________\n"
          ]
        }
      ],
      "source": [
        "\n",
        "from tensorflow import keras\n",
        "\n",
        "#Number of classes in the target variable\n",
        "NB_CLASSES=3\n",
        "\n",
        "#Create a sequencial model in Keras\n",
        "model = tf.keras.models.Sequential()\n",
        "\n",
        "#Add the first hidden layer\n",
        "model.add(keras.layers.Dense(128,                    #Number of nodes\n",
        "                             input_shape=(4,),       #Number of input variables\n",
        "                              name='Hidden-Layer-1', #Logical name\n",
        "                              activation='relu'))    #activation function\n",
        "\n",
        "#Add a second hidden layer\n",
        "model.add(keras.layers.Dense(128,\n",
        "                              name='Hidden-Layer-2',\n",
        "                              activation='relu'))\n",
        "\n",
        "#Add an output layer with softmax activation\n",
        "model.add(keras.layers.Dense(NB_CLASSES,\n",
        "                             name='Output-Layer',\n",
        "                             activation='softmax'))\n",
        "\n",
        "#Compile the model with loss & metrics\n",
        "model.compile(loss='categorical_crossentropy',\n",
        "              metrics=['accuracy'])\n",
        "\n",
        "#Print the model meta-data\n",
        "model.summary()\n"
      ]
    },
    {
      "cell_type": "markdown",
      "id": "95c6677e",
      "metadata": {
        "id": "95c6677e"
      },
      "source": [
        "### 1.4. Training and evaluating the Model\n",
        "\n",
        "Training the model involves defining various training models and then perform \n",
        "forward and back propagation."
      ]
    },
    {
      "cell_type": "code",
      "execution_count": 14,
      "id": "55a9ddba",
      "metadata": {
        "colab": {
          "base_uri": "https://localhost:8080/",
          "height": 874
        },
        "id": "55a9ddba",
        "outputId": "e0d24ef6-f69f-483c-a535-bb9f639a675c"
      },
      "outputs": [
        {
          "output_type": "stream",
          "name": "stdout",
          "text": [
            "\n",
            "Training Progress:\n",
            "------------------------------------\n",
            "Epoch 1/10\n",
            "7/7 [==============================] - 1s 32ms/step - loss: 0.8003 - accuracy: 0.7778 - val_loss: 0.5855 - val_accuracy: 0.7778\n",
            "Epoch 2/10\n",
            "7/7 [==============================] - 0s 7ms/step - loss: 0.5331 - accuracy: 0.8241 - val_loss: 0.4701 - val_accuracy: 0.8148\n",
            "Epoch 3/10\n",
            "7/7 [==============================] - 0s 6ms/step - loss: 0.4283 - accuracy: 0.8333 - val_loss: 0.4065 - val_accuracy: 0.8519\n",
            "Epoch 4/10\n",
            "7/7 [==============================] - 0s 6ms/step - loss: 0.3646 - accuracy: 0.8519 - val_loss: 0.3707 - val_accuracy: 0.8889\n",
            "Epoch 5/10\n",
            "7/7 [==============================] - 0s 6ms/step - loss: 0.3160 - accuracy: 0.8704 - val_loss: 0.3363 - val_accuracy: 0.9259\n",
            "Epoch 6/10\n",
            "7/7 [==============================] - 0s 8ms/step - loss: 0.2855 - accuracy: 0.8519 - val_loss: 0.3084 - val_accuracy: 0.9259\n",
            "Epoch 7/10\n",
            "7/7 [==============================] - 0s 6ms/step - loss: 0.2549 - accuracy: 0.8889 - val_loss: 0.2813 - val_accuracy: 0.8889\n",
            "Epoch 8/10\n",
            "7/7 [==============================] - 0s 8ms/step - loss: 0.2304 - accuracy: 0.8704 - val_loss: 0.2962 - val_accuracy: 0.9259\n",
            "Epoch 9/10\n",
            "7/7 [==============================] - 0s 7ms/step - loss: 0.2187 - accuracy: 0.9167 - val_loss: 0.2463 - val_accuracy: 0.9259\n",
            "Epoch 10/10\n",
            "7/7 [==============================] - 0s 7ms/step - loss: 0.1946 - accuracy: 0.9074 - val_loss: 0.2525 - val_accuracy: 0.9630\n",
            "\n",
            "Accuracy during Training :\n",
            "------------------------------------\n"
          ]
        },
        {
          "output_type": "display_data",
          "data": {
            "text/plain": [
              "<Figure size 576x360 with 1 Axes>"
            ],
            "image/png": "[encoded data removed]"
          },
          "metadata": {
            "needs_background": "light"
          }
        },
        {
          "output_type": "stream",
          "name": "stdout",
          "text": [
            "\n",
            "Evaluation against Test Dataset :\n",
            "------------------------------------\n",
            "1/1 [==============================] - 0s 22ms/step - loss: 0.3028 - accuracy: 0.8667\n"
          ]
        },
        {
          "output_type": "execute_result",
          "data": {
            "text/plain": [
              "[0.30283576250076294, 0.8666666746139526]"
            ]
          },
          "metadata": {},
          "execution_count": 14
        }
      ],
      "source": [
        "#Make it verbose so we can see the progress\n",
        "VERBOSE=1\n",
        "\n",
        "#Setup Hyper Parameters for training\n",
        "\n",
        "#Set Batch size\n",
        "BATCH_SIZE=16\n",
        "#Set number of epochs\n",
        "EPOCHS=10\n",
        "#Set validation split. 20% of the training data will be used for validation\n",
        "#after each epoch\n",
        "VALIDATION_SPLIT=0.2\n",
        "\n",
        "print(\"\\nTraining Progress:\\n------------------------------------\")\n",
        "\n",
        "#Fit the model. This will perform the entire training cycle, including\n",
        "#forward propagation, loss computation, backward propagation and gradient descent.\n",
        "#Execute for the specified batch sizes and epoch\n",
        "#Perform validation after each epoch \n",
        "history=model.fit(xtrain,\n",
        "          ytrain,\n",
        "          batch_size=BATCH_SIZE,\n",
        "          epochs=EPOCHS,\n",
        "          verbose=VERBOSE,\n",
        "          validation_split=VALIDATION_SPLIT)\n",
        "\n",
        "print(\"\\nAccuracy during Training :\\n------------------------------------\")\n",
        "import matplotlib.pyplot as plt\n",
        "\n",
        "#Plot accuracy of the model after each epoch.\n",
        "pd.DataFrame(history.history)[\"accuracy\"].plot(figsize=(8, 5))\n",
        "plt.title(\"Accuracy improvements with Epoch\")\n",
        "plt.show()\n",
        "\n",
        "#Evaluate the model against the test dataset and print results\n",
        "print(\"\\nEvaluation against Test Dataset :\\n------------------------------------\")\n",
        "model.evaluate(xtest,ytest)"
      ]
    },
    {
      "cell_type": "markdown",
      "id": "55efdff7",
      "metadata": {
        "id": "55efdff7"
      },
      "source": [
        "### 1.5. Saving and Loading Models\n",
        "\n",
        "The training and inference environments are usually separate. Models need to be saved after they are validated. They are then loaded into the inference environments for actual prediction"
      ]
    },
    {
      "cell_type": "code",
      "execution_count": 15,
      "id": "7434d7cb",
      "metadata": {
        "colab": {
          "base_uri": "https://localhost:8080/"
        },
        "id": "7434d7cb",
        "outputId": "05517f01-b405-4dbf-be61-d13d85d6bb6f"
      },
      "outputs": [
        {
          "output_type": "stream",
          "name": "stderr",
          "text": [
            "WARNING:absl:Function `_wrapped_model` contains input name(s) Hidden-Layer-1_input with unsupported characters which will be renamed to hidden_layer_1_input in the SavedModel.\n"
          ]
        },
        {
          "output_type": "stream",
          "name": "stdout",
          "text": [
            "Model: \"sequential_2\"\n",
            "_________________________________________________________________\n",
            " Layer (type)                Output Shape              Param #   \n",
            "=================================================================\n",
            " Hidden-Layer-1 (Dense)      (None, 128)               640       \n",
            "                                                                 \n",
            " Hidden-Layer-2 (Dense)      (None, 128)               16512     \n",
            "                                                                 \n",
            " Output-Layer (Dense)        (None, 3)                 387       \n",
            "                                                                 \n",
            "=================================================================\n",
            "Total params: 17,539\n",
            "Trainable params: 17,539\n",
            "Non-trainable params: 0\n",
            "_________________________________________________________________\n"
          ]
        }
      ],
      "source": [
        "#Saving a model\n",
        "    \n",
        "model.save(\"iris_save\")\n",
        "    \n",
        "#Loading a Model \n",
        "loaded_model = keras.models.load_model(\"iris_save\")\n",
        "\n",
        "#Print Model Summary\n",
        "loaded_model.summary()"
      ]
    },
    {
      "cell_type": "markdown",
      "id": "b6cc6fb5",
      "metadata": {
        "id": "b6cc6fb5"
      },
      "source": [
        "### 1.6. Predictions with Deep Learning Models"
      ]
    },
    {
      "cell_type": "code",
      "execution_count": 16,
      "id": "58037d5d",
      "metadata": {
        "colab": {
          "base_uri": "https://localhost:8080/"
        },
        "id": "58037d5d",
        "outputId": "ebb1c0bc-fcf5-43aa-8f70-d42b36a3fd59"
      },
      "outputs": [
        {
          "output_type": "stream",
          "name": "stdout",
          "text": [
            "1/1 [==============================] - 0s 62ms/step\n",
            "Raw Prediction Output (Probabilities) : [[0.18434104 0.7492153  0.06644369]]\n",
            "Prediction is  ['versicolor']\n"
          ]
        }
      ],
      "source": [
        "#Raw prediction data\n",
        "prediction_input = [[6.6, 3. , 1.4, 1.4]]\n",
        "\n",
        "#Scale prediction data with the same scaling model\n",
        "scaled_input = scaler.transform(prediction_input)\n",
        "\n",
        "#Get raw prediction probabilities\n",
        "raw_prediction = model.predict(scaled_input)\n",
        "print(\"Raw Prediction Output (Probabilities) :\" , raw_prediction)\n",
        "\n",
        "#Find prediction\n",
        "prediction = np.argmax(raw_prediction)\n",
        "print(\"Prediction is \", label_encoder.inverse_transform([prediction]))\n"
      ]
    },
    {
      "cell_type": "code",
      "execution_count": 16,
      "id": "dc76d3ca",
      "metadata": {
        "id": "dc76d3ca"
      },
      "outputs": [],
      "source": []
    }
  ],
  "metadata": {
    "kernelspec": {
      "display_name": "Python 3 (ipykernel)",
      "language": "python",
      "name": "python3"
    },
    "language_info": {
      "codemirror_mode": {
        "name": "ipython",
        "version": 3
      },
      "file_extension": ".py",
      "mimetype": "text/x-python",
      "name": "python",
      "nbconvert_exporter": "python",
      "pygments_lexer": "ipython3",
      "version": "3.8.11"
    },
    "colab": {
      "provenance": [],
      "include_colab_link": true
    }
  },
  "nbformat": 4,
  "nbformat_minor": 5
}